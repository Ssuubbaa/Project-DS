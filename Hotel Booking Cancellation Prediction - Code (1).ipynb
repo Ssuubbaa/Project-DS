{
 "cells": [
  {
   "cell_type": "code",
   "execution_count": 1,
   "metadata": {},
   "outputs": [],
   "source": [
    "import numpy as np\n",
    "import pandas as pd\n",
    "import matplotlib.pyplot as plt\n",
    "import seaborn as sns\n",
    "import warnings\n",
    "warnings.filterwarnings('ignore')"
   ]
  },
  {
   "cell_type": "code",
   "execution_count": 2,
   "metadata": {},
   "outputs": [
    {
     "data": {
      "text/html": [
       "<div>\n",
       "<style scoped>\n",
       "    .dataframe tbody tr th:only-of-type {\n",
       "        vertical-align: middle;\n",
       "    }\n",
       "\n",
       "    .dataframe tbody tr th {\n",
       "        vertical-align: top;\n",
       "    }\n",
       "\n",
       "    .dataframe thead th {\n",
       "        text-align: right;\n",
       "    }\n",
       "</style>\n",
       "<table border=\"1\" class=\"dataframe\">\n",
       "  <thead>\n",
       "    <tr style=\"text-align: right;\">\n",
       "      <th></th>\n",
       "      <th>hotel</th>\n",
       "      <th>is_canceled</th>\n",
       "      <th>lead_time</th>\n",
       "      <th>arrival_date_year</th>\n",
       "      <th>arrival_date_month</th>\n",
       "      <th>arrival_date_week_number</th>\n",
       "      <th>arrival_date_day_of_month</th>\n",
       "      <th>stays_in_weekend_nights</th>\n",
       "      <th>stays_in_week_nights</th>\n",
       "      <th>adults</th>\n",
       "      <th>...</th>\n",
       "      <th>deposit_type</th>\n",
       "      <th>agent</th>\n",
       "      <th>company</th>\n",
       "      <th>days_in_waiting_list</th>\n",
       "      <th>customer_type</th>\n",
       "      <th>adr</th>\n",
       "      <th>required_car_parking_spaces</th>\n",
       "      <th>total_of_special_requests</th>\n",
       "      <th>reservation_status</th>\n",
       "      <th>reservation_status_date</th>\n",
       "    </tr>\n",
       "  </thead>\n",
       "  <tbody>\n",
       "    <tr>\n",
       "      <th>0</th>\n",
       "      <td>Resort Hotel</td>\n",
       "      <td>0</td>\n",
       "      <td>342</td>\n",
       "      <td>2015</td>\n",
       "      <td>July</td>\n",
       "      <td>27</td>\n",
       "      <td>1</td>\n",
       "      <td>0</td>\n",
       "      <td>0</td>\n",
       "      <td>2</td>\n",
       "      <td>...</td>\n",
       "      <td>No Deposit</td>\n",
       "      <td>NaN</td>\n",
       "      <td>NaN</td>\n",
       "      <td>0</td>\n",
       "      <td>Transient</td>\n",
       "      <td>0.0</td>\n",
       "      <td>0</td>\n",
       "      <td>0</td>\n",
       "      <td>Check-Out</td>\n",
       "      <td>2015-07-01</td>\n",
       "    </tr>\n",
       "    <tr>\n",
       "      <th>1</th>\n",
       "      <td>Resort Hotel</td>\n",
       "      <td>0</td>\n",
       "      <td>737</td>\n",
       "      <td>2015</td>\n",
       "      <td>July</td>\n",
       "      <td>27</td>\n",
       "      <td>1</td>\n",
       "      <td>0</td>\n",
       "      <td>0</td>\n",
       "      <td>2</td>\n",
       "      <td>...</td>\n",
       "      <td>No Deposit</td>\n",
       "      <td>NaN</td>\n",
       "      <td>NaN</td>\n",
       "      <td>0</td>\n",
       "      <td>Transient</td>\n",
       "      <td>0.0</td>\n",
       "      <td>0</td>\n",
       "      <td>0</td>\n",
       "      <td>Check-Out</td>\n",
       "      <td>2015-07-01</td>\n",
       "    </tr>\n",
       "    <tr>\n",
       "      <th>2</th>\n",
       "      <td>Resort Hotel</td>\n",
       "      <td>0</td>\n",
       "      <td>7</td>\n",
       "      <td>2015</td>\n",
       "      <td>July</td>\n",
       "      <td>27</td>\n",
       "      <td>1</td>\n",
       "      <td>0</td>\n",
       "      <td>1</td>\n",
       "      <td>1</td>\n",
       "      <td>...</td>\n",
       "      <td>No Deposit</td>\n",
       "      <td>NaN</td>\n",
       "      <td>NaN</td>\n",
       "      <td>0</td>\n",
       "      <td>Transient</td>\n",
       "      <td>75.0</td>\n",
       "      <td>0</td>\n",
       "      <td>0</td>\n",
       "      <td>Check-Out</td>\n",
       "      <td>2015-07-02</td>\n",
       "    </tr>\n",
       "    <tr>\n",
       "      <th>3</th>\n",
       "      <td>Resort Hotel</td>\n",
       "      <td>0</td>\n",
       "      <td>13</td>\n",
       "      <td>2015</td>\n",
       "      <td>July</td>\n",
       "      <td>27</td>\n",
       "      <td>1</td>\n",
       "      <td>0</td>\n",
       "      <td>1</td>\n",
       "      <td>1</td>\n",
       "      <td>...</td>\n",
       "      <td>No Deposit</td>\n",
       "      <td>304.0</td>\n",
       "      <td>NaN</td>\n",
       "      <td>0</td>\n",
       "      <td>Transient</td>\n",
       "      <td>75.0</td>\n",
       "      <td>0</td>\n",
       "      <td>0</td>\n",
       "      <td>Check-Out</td>\n",
       "      <td>2015-07-02</td>\n",
       "    </tr>\n",
       "    <tr>\n",
       "      <th>4</th>\n",
       "      <td>Resort Hotel</td>\n",
       "      <td>0</td>\n",
       "      <td>14</td>\n",
       "      <td>2015</td>\n",
       "      <td>July</td>\n",
       "      <td>27</td>\n",
       "      <td>1</td>\n",
       "      <td>0</td>\n",
       "      <td>2</td>\n",
       "      <td>2</td>\n",
       "      <td>...</td>\n",
       "      <td>No Deposit</td>\n",
       "      <td>240.0</td>\n",
       "      <td>NaN</td>\n",
       "      <td>0</td>\n",
       "      <td>Transient</td>\n",
       "      <td>98.0</td>\n",
       "      <td>0</td>\n",
       "      <td>1</td>\n",
       "      <td>Check-Out</td>\n",
       "      <td>2015-07-03</td>\n",
       "    </tr>\n",
       "  </tbody>\n",
       "</table>\n",
       "<p>5 rows × 32 columns</p>\n",
       "</div>"
      ],
      "text/plain": [
       "          hotel  is_canceled  lead_time  arrival_date_year arrival_date_month  \\\n",
       "0  Resort Hotel            0        342               2015               July   \n",
       "1  Resort Hotel            0        737               2015               July   \n",
       "2  Resort Hotel            0          7               2015               July   \n",
       "3  Resort Hotel            0         13               2015               July   \n",
       "4  Resort Hotel            0         14               2015               July   \n",
       "\n",
       "   arrival_date_week_number  arrival_date_day_of_month  \\\n",
       "0                        27                          1   \n",
       "1                        27                          1   \n",
       "2                        27                          1   \n",
       "3                        27                          1   \n",
       "4                        27                          1   \n",
       "\n",
       "   stays_in_weekend_nights  stays_in_week_nights  adults  ...  deposit_type  \\\n",
       "0                        0                     0       2  ...    No Deposit   \n",
       "1                        0                     0       2  ...    No Deposit   \n",
       "2                        0                     1       1  ...    No Deposit   \n",
       "3                        0                     1       1  ...    No Deposit   \n",
       "4                        0                     2       2  ...    No Deposit   \n",
       "\n",
       "   agent company days_in_waiting_list customer_type   adr  \\\n",
       "0    NaN     NaN                    0     Transient   0.0   \n",
       "1    NaN     NaN                    0     Transient   0.0   \n",
       "2    NaN     NaN                    0     Transient  75.0   \n",
       "3  304.0     NaN                    0     Transient  75.0   \n",
       "4  240.0     NaN                    0     Transient  98.0   \n",
       "\n",
       "   required_car_parking_spaces  total_of_special_requests  reservation_status  \\\n",
       "0                            0                          0           Check-Out   \n",
       "1                            0                          0           Check-Out   \n",
       "2                            0                          0           Check-Out   \n",
       "3                            0                          0           Check-Out   \n",
       "4                            0                          1           Check-Out   \n",
       "\n",
       "  reservation_status_date  \n",
       "0              2015-07-01  \n",
       "1              2015-07-01  \n",
       "2              2015-07-02  \n",
       "3              2015-07-02  \n",
       "4              2015-07-03  \n",
       "\n",
       "[5 rows x 32 columns]"
      ]
     },
     "execution_count": 2,
     "metadata": {},
     "output_type": "execute_result"
    }
   ],
   "source": [
    "main_df = pd.read_csv('hotel_bookings.csv')\n",
    "main_df.head()"
   ]
  },
  {
   "cell_type": "code",
   "execution_count": 3,
   "metadata": {},
   "outputs": [
    {
     "data": {
      "text/plain": [
       "(119390, 32)"
      ]
     },
     "execution_count": 3,
     "metadata": {},
     "output_type": "execute_result"
    }
   ],
   "source": [
    "main_df.shape"
   ]
  },
  {
   "cell_type": "code",
   "execution_count": 4,
   "metadata": {},
   "outputs": [
    {
     "data": {
      "text/plain": [
       "hotel                                  0\n",
       "is_canceled                            0\n",
       "lead_time                              0\n",
       "arrival_date_year                      0\n",
       "arrival_date_month                     0\n",
       "arrival_date_week_number               0\n",
       "arrival_date_day_of_month              0\n",
       "stays_in_weekend_nights                0\n",
       "stays_in_week_nights                   0\n",
       "adults                                 0\n",
       "children                               4\n",
       "babies                                 0\n",
       "meal                                   0\n",
       "country                              488\n",
       "market_segment                         0\n",
       "distribution_channel                   0\n",
       "is_repeated_guest                      0\n",
       "previous_cancellations                 0\n",
       "previous_bookings_not_canceled         0\n",
       "reserved_room_type                     0\n",
       "assigned_room_type                     0\n",
       "booking_changes                        0\n",
       "deposit_type                           0\n",
       "agent                              16340\n",
       "company                           112593\n",
       "days_in_waiting_list                   0\n",
       "customer_type                          0\n",
       "adr                                    0\n",
       "required_car_parking_spaces            0\n",
       "total_of_special_requests              0\n",
       "reservation_status                     0\n",
       "reservation_status_date                0\n",
       "dtype: int64"
      ]
     },
     "execution_count": 4,
     "metadata": {},
     "output_type": "execute_result"
    }
   ],
   "source": [
    "main_df.isnull().sum()"
   ]
  },
  {
   "cell_type": "code",
   "execution_count": 5,
   "metadata": {},
   "outputs": [],
   "source": [
    "df_copy = main_df.copy()"
   ]
  },
  {
   "cell_type": "code",
   "execution_count": 6,
   "metadata": {},
   "outputs": [
    {
     "data": {
      "text/plain": [
       "(119390, 32)"
      ]
     },
     "execution_count": 6,
     "metadata": {},
     "output_type": "execute_result"
    }
   ],
   "source": [
    "df_copy.shape"
   ]
  },
  {
   "cell_type": "code",
   "execution_count": 7,
   "metadata": {},
   "outputs": [
    {
     "data": {
      "text/plain": [
       "hotel                              object\n",
       "is_canceled                         int64\n",
       "lead_time                           int64\n",
       "arrival_date_year                   int64\n",
       "arrival_date_month                 object\n",
       "arrival_date_week_number            int64\n",
       "arrival_date_day_of_month           int64\n",
       "stays_in_weekend_nights             int64\n",
       "stays_in_week_nights                int64\n",
       "adults                              int64\n",
       "children                          float64\n",
       "babies                              int64\n",
       "meal                               object\n",
       "country                            object\n",
       "market_segment                     object\n",
       "distribution_channel               object\n",
       "is_repeated_guest                   int64\n",
       "previous_cancellations              int64\n",
       "previous_bookings_not_canceled      int64\n",
       "reserved_room_type                 object\n",
       "assigned_room_type                 object\n",
       "booking_changes                     int64\n",
       "deposit_type                       object\n",
       "agent                             float64\n",
       "company                           float64\n",
       "days_in_waiting_list                int64\n",
       "customer_type                      object\n",
       "adr                               float64\n",
       "required_car_parking_spaces         int64\n",
       "total_of_special_requests           int64\n",
       "reservation_status                 object\n",
       "reservation_status_date            object\n",
       "dtype: object"
      ]
     },
     "execution_count": 7,
     "metadata": {},
     "output_type": "execute_result"
    }
   ],
   "source": [
    "df_copy.dtypes"
   ]
  },
  {
   "cell_type": "code",
   "execution_count": 8,
   "metadata": {},
   "outputs": [
    {
     "data": {
      "text/html": [
       "<div>\n",
       "<style scoped>\n",
       "    .dataframe tbody tr th:only-of-type {\n",
       "        vertical-align: middle;\n",
       "    }\n",
       "\n",
       "    .dataframe tbody tr th {\n",
       "        vertical-align: top;\n",
       "    }\n",
       "\n",
       "    .dataframe thead th {\n",
       "        text-align: right;\n",
       "    }\n",
       "</style>\n",
       "<table border=\"1\" class=\"dataframe\">\n",
       "  <thead>\n",
       "    <tr style=\"text-align: right;\">\n",
       "      <th></th>\n",
       "      <th>Number of NULL Values</th>\n",
       "      <th>Percentage of NULL Values</th>\n",
       "    </tr>\n",
       "  </thead>\n",
       "  <tbody>\n",
       "    <tr>\n",
       "      <th>hotel</th>\n",
       "      <td>0.0</td>\n",
       "      <td>0.000000</td>\n",
       "    </tr>\n",
       "    <tr>\n",
       "      <th>is_canceled</th>\n",
       "      <td>0.0</td>\n",
       "      <td>0.000000</td>\n",
       "    </tr>\n",
       "    <tr>\n",
       "      <th>lead_time</th>\n",
       "      <td>0.0</td>\n",
       "      <td>0.000000</td>\n",
       "    </tr>\n",
       "    <tr>\n",
       "      <th>arrival_date_year</th>\n",
       "      <td>0.0</td>\n",
       "      <td>0.000000</td>\n",
       "    </tr>\n",
       "    <tr>\n",
       "      <th>arrival_date_month</th>\n",
       "      <td>0.0</td>\n",
       "      <td>0.000000</td>\n",
       "    </tr>\n",
       "    <tr>\n",
       "      <th>arrival_date_week_number</th>\n",
       "      <td>0.0</td>\n",
       "      <td>0.000000</td>\n",
       "    </tr>\n",
       "    <tr>\n",
       "      <th>arrival_date_day_of_month</th>\n",
       "      <td>0.0</td>\n",
       "      <td>0.000000</td>\n",
       "    </tr>\n",
       "    <tr>\n",
       "      <th>stays_in_weekend_nights</th>\n",
       "      <td>0.0</td>\n",
       "      <td>0.000000</td>\n",
       "    </tr>\n",
       "    <tr>\n",
       "      <th>stays_in_week_nights</th>\n",
       "      <td>0.0</td>\n",
       "      <td>0.000000</td>\n",
       "    </tr>\n",
       "    <tr>\n",
       "      <th>adults</th>\n",
       "      <td>0.0</td>\n",
       "      <td>0.000000</td>\n",
       "    </tr>\n",
       "    <tr>\n",
       "      <th>children</th>\n",
       "      <td>4.0</td>\n",
       "      <td>0.003350</td>\n",
       "    </tr>\n",
       "    <tr>\n",
       "      <th>babies</th>\n",
       "      <td>0.0</td>\n",
       "      <td>0.000000</td>\n",
       "    </tr>\n",
       "    <tr>\n",
       "      <th>meal</th>\n",
       "      <td>0.0</td>\n",
       "      <td>0.000000</td>\n",
       "    </tr>\n",
       "    <tr>\n",
       "      <th>country</th>\n",
       "      <td>488.0</td>\n",
       "      <td>0.408744</td>\n",
       "    </tr>\n",
       "    <tr>\n",
       "      <th>market_segment</th>\n",
       "      <td>0.0</td>\n",
       "      <td>0.000000</td>\n",
       "    </tr>\n",
       "    <tr>\n",
       "      <th>distribution_channel</th>\n",
       "      <td>0.0</td>\n",
       "      <td>0.000000</td>\n",
       "    </tr>\n",
       "    <tr>\n",
       "      <th>is_repeated_guest</th>\n",
       "      <td>0.0</td>\n",
       "      <td>0.000000</td>\n",
       "    </tr>\n",
       "    <tr>\n",
       "      <th>previous_cancellations</th>\n",
       "      <td>0.0</td>\n",
       "      <td>0.000000</td>\n",
       "    </tr>\n",
       "    <tr>\n",
       "      <th>previous_bookings_not_canceled</th>\n",
       "      <td>0.0</td>\n",
       "      <td>0.000000</td>\n",
       "    </tr>\n",
       "    <tr>\n",
       "      <th>reserved_room_type</th>\n",
       "      <td>0.0</td>\n",
       "      <td>0.000000</td>\n",
       "    </tr>\n",
       "    <tr>\n",
       "      <th>assigned_room_type</th>\n",
       "      <td>0.0</td>\n",
       "      <td>0.000000</td>\n",
       "    </tr>\n",
       "    <tr>\n",
       "      <th>booking_changes</th>\n",
       "      <td>0.0</td>\n",
       "      <td>0.000000</td>\n",
       "    </tr>\n",
       "    <tr>\n",
       "      <th>deposit_type</th>\n",
       "      <td>0.0</td>\n",
       "      <td>0.000000</td>\n",
       "    </tr>\n",
       "    <tr>\n",
       "      <th>agent</th>\n",
       "      <td>16340.0</td>\n",
       "      <td>13.686238</td>\n",
       "    </tr>\n",
       "    <tr>\n",
       "      <th>company</th>\n",
       "      <td>112593.0</td>\n",
       "      <td>94.306893</td>\n",
       "    </tr>\n",
       "    <tr>\n",
       "      <th>days_in_waiting_list</th>\n",
       "      <td>0.0</td>\n",
       "      <td>0.000000</td>\n",
       "    </tr>\n",
       "    <tr>\n",
       "      <th>customer_type</th>\n",
       "      <td>0.0</td>\n",
       "      <td>0.000000</td>\n",
       "    </tr>\n",
       "    <tr>\n",
       "      <th>adr</th>\n",
       "      <td>0.0</td>\n",
       "      <td>0.000000</td>\n",
       "    </tr>\n",
       "    <tr>\n",
       "      <th>required_car_parking_spaces</th>\n",
       "      <td>0.0</td>\n",
       "      <td>0.000000</td>\n",
       "    </tr>\n",
       "    <tr>\n",
       "      <th>total_of_special_requests</th>\n",
       "      <td>0.0</td>\n",
       "      <td>0.000000</td>\n",
       "    </tr>\n",
       "    <tr>\n",
       "      <th>reservation_status</th>\n",
       "      <td>0.0</td>\n",
       "      <td>0.000000</td>\n",
       "    </tr>\n",
       "    <tr>\n",
       "      <th>reservation_status_date</th>\n",
       "      <td>0.0</td>\n",
       "      <td>0.000000</td>\n",
       "    </tr>\n",
       "  </tbody>\n",
       "</table>\n",
       "</div>"
      ],
      "text/plain": [
       "                                Number of NULL Values  \\\n",
       "hotel                                             0.0   \n",
       "is_canceled                                       0.0   \n",
       "lead_time                                         0.0   \n",
       "arrival_date_year                                 0.0   \n",
       "arrival_date_month                                0.0   \n",
       "arrival_date_week_number                          0.0   \n",
       "arrival_date_day_of_month                         0.0   \n",
       "stays_in_weekend_nights                           0.0   \n",
       "stays_in_week_nights                              0.0   \n",
       "adults                                            0.0   \n",
       "children                                          4.0   \n",
       "babies                                            0.0   \n",
       "meal                                              0.0   \n",
       "country                                         488.0   \n",
       "market_segment                                    0.0   \n",
       "distribution_channel                              0.0   \n",
       "is_repeated_guest                                 0.0   \n",
       "previous_cancellations                            0.0   \n",
       "previous_bookings_not_canceled                    0.0   \n",
       "reserved_room_type                                0.0   \n",
       "assigned_room_type                                0.0   \n",
       "booking_changes                                   0.0   \n",
       "deposit_type                                      0.0   \n",
       "agent                                         16340.0   \n",
       "company                                      112593.0   \n",
       "days_in_waiting_list                              0.0   \n",
       "customer_type                                     0.0   \n",
       "adr                                               0.0   \n",
       "required_car_parking_spaces                       0.0   \n",
       "total_of_special_requests                         0.0   \n",
       "reservation_status                                0.0   \n",
       "reservation_status_date                           0.0   \n",
       "\n",
       "                                Percentage of NULL Values  \n",
       "hotel                                            0.000000  \n",
       "is_canceled                                      0.000000  \n",
       "lead_time                                        0.000000  \n",
       "arrival_date_year                                0.000000  \n",
       "arrival_date_month                               0.000000  \n",
       "arrival_date_week_number                         0.000000  \n",
       "arrival_date_day_of_month                        0.000000  \n",
       "stays_in_weekend_nights                          0.000000  \n",
       "stays_in_week_nights                             0.000000  \n",
       "adults                                           0.000000  \n",
       "children                                         0.003350  \n",
       "babies                                           0.000000  \n",
       "meal                                             0.000000  \n",
       "country                                          0.408744  \n",
       "market_segment                                   0.000000  \n",
       "distribution_channel                             0.000000  \n",
       "is_repeated_guest                                0.000000  \n",
       "previous_cancellations                           0.000000  \n",
       "previous_bookings_not_canceled                   0.000000  \n",
       "reserved_room_type                               0.000000  \n",
       "assigned_room_type                               0.000000  \n",
       "booking_changes                                  0.000000  \n",
       "deposit_type                                     0.000000  \n",
       "agent                                           13.686238  \n",
       "company                                         94.306893  \n",
       "days_in_waiting_list                             0.000000  \n",
       "customer_type                                    0.000000  \n",
       "adr                                              0.000000  \n",
       "required_car_parking_spaces                      0.000000  \n",
       "total_of_special_requests                        0.000000  \n",
       "reservation_status                               0.000000  \n",
       "reservation_status_date                          0.000000  "
      ]
     },
     "execution_count": 8,
     "metadata": {},
     "output_type": "execute_result"
    }
   ],
   "source": [
    "# Checking NULL Values\n",
    "null_val = df_copy.isnull().sum()\n",
    "null_perc = (df_copy.isnull().sum()/len(df_copy))*100\n",
    "null_values = pd.DataFrame([null_val, null_perc]).T\n",
    "null_values.rename({0 : 'Number of NULL Values', 1 : 'Percentage of NULL Values'}, axis = 1, inplace = True)\n",
    "null_values"
   ]
  },
  {
   "cell_type": "code",
   "execution_count": 9,
   "metadata": {},
   "outputs": [
    {
     "data": {
      "text/plain": [
       "(119390, 32)"
      ]
     },
     "execution_count": 9,
     "metadata": {},
     "output_type": "execute_result"
    }
   ],
   "source": [
    "df_copy.shape"
   ]
  },
  {
   "cell_type": "code",
   "execution_count": 10,
   "metadata": {},
   "outputs": [
    {
     "data": {
      "text/plain": [
       "0.0     110796\n",
       "1.0       4861\n",
       "2.0       3652\n",
       "3.0         76\n",
       "NaN          4\n",
       "10.0         1\n",
       "Name: children, dtype: int64"
      ]
     },
     "execution_count": 10,
     "metadata": {},
     "output_type": "execute_result"
    }
   ],
   "source": [
    "df_copy['children'].value_counts(dropna = False)"
   ]
  },
  {
   "cell_type": "code",
   "execution_count": 11,
   "metadata": {},
   "outputs": [
    {
     "data": {
      "text/plain": [
       "(119390, 32)"
      ]
     },
     "execution_count": 11,
     "metadata": {},
     "output_type": "execute_result"
    }
   ],
   "source": [
    "df_copy.shape"
   ]
  },
  {
   "cell_type": "code",
   "execution_count": 12,
   "metadata": {},
   "outputs": [
    {
     "data": {
      "text/plain": [
       "0.0     110800\n",
       "1.0       4861\n",
       "2.0       3652\n",
       "3.0         76\n",
       "10.0         1\n",
       "Name: children, dtype: int64"
      ]
     },
     "execution_count": 12,
     "metadata": {},
     "output_type": "execute_result"
    }
   ],
   "source": [
    "df_copy['children'].fillna(df_copy['children'].mode()[0], inplace = True)\n",
    "df_copy['children'].value_counts(dropna = False)"
   ]
  },
  {
   "cell_type": "code",
   "execution_count": 13,
   "metadata": {},
   "outputs": [
    {
     "data": {
      "text/plain": [
       "PRT    48590\n",
       "GBR    12129\n",
       "FRA    10415\n",
       "ESP     8568\n",
       "DEU     7287\n",
       "       ...  \n",
       "ATF        1\n",
       "CYM        1\n",
       "NCL        1\n",
       "SMR        1\n",
       "SDN        1\n",
       "Name: country, Length: 177, dtype: int64"
      ]
     },
     "execution_count": 13,
     "metadata": {},
     "output_type": "execute_result"
    }
   ],
   "source": [
    "df_copy['country'].value_counts()"
   ]
  },
  {
   "cell_type": "code",
   "execution_count": 14,
   "metadata": {},
   "outputs": [
    {
     "data": {
      "text/plain": [
       "PRT    49078\n",
       "GBR    12129\n",
       "FRA    10415\n",
       "ESP     8568\n",
       "DEU     7287\n",
       "       ...  \n",
       "ATF        1\n",
       "CYM        1\n",
       "NCL        1\n",
       "SMR        1\n",
       "SDN        1\n",
       "Name: country, Length: 177, dtype: int64"
      ]
     },
     "execution_count": 14,
     "metadata": {},
     "output_type": "execute_result"
    }
   ],
   "source": [
    "df_copy['country'].fillna(df_copy['country'].mode()[0], inplace = True)\n",
    "df_copy['country'].value_counts()"
   ]
  },
  {
   "cell_type": "code",
   "execution_count": 15,
   "metadata": {},
   "outputs": [
    {
     "data": {
      "text/plain": [
       "9.0      31961\n",
       "NaN      16340\n",
       "240.0    13922\n",
       "1.0       7191\n",
       "14.0      3640\n",
       "         ...  \n",
       "117.0        1\n",
       "294.0        1\n",
       "352.0        1\n",
       "158.0        1\n",
       "472.0        1\n",
       "Name: agent, Length: 334, dtype: int64"
      ]
     },
     "execution_count": 15,
     "metadata": {},
     "output_type": "execute_result"
    }
   ],
   "source": [
    "df_copy['agent'].value_counts(dropna = False)"
   ]
  },
  {
   "cell_type": "code",
   "execution_count": 16,
   "metadata": {},
   "outputs": [
    {
     "data": {
      "text/plain": [
       "9.0      31961\n",
       "0.0      16340\n",
       "240.0    13922\n",
       "1.0       7191\n",
       "14.0      3640\n",
       "         ...  \n",
       "117.0        1\n",
       "294.0        1\n",
       "352.0        1\n",
       "158.0        1\n",
       "472.0        1\n",
       "Name: agent, Length: 334, dtype: int64"
      ]
     },
     "execution_count": 16,
     "metadata": {},
     "output_type": "execute_result"
    }
   ],
   "source": [
    "df_copy['agent'].fillna(0.0, inplace = True)\n",
    "df_copy['agent'].value_counts(dropna = False)"
   ]
  },
  {
   "cell_type": "code",
   "execution_count": 17,
   "metadata": {},
   "outputs": [
    {
     "data": {
      "text/plain": [
       "94.30689337465449"
      ]
     },
     "execution_count": 17,
     "metadata": {},
     "output_type": "execute_result"
    }
   ],
   "source": [
    "df_copy['company'].isnull().sum()/len(df_copy) * 100"
   ]
  },
  {
   "cell_type": "code",
   "execution_count": 18,
   "metadata": {},
   "outputs": [
    {
     "data": {
      "text/plain": [
       "(119390, 32)"
      ]
     },
     "execution_count": 18,
     "metadata": {},
     "output_type": "execute_result"
    }
   ],
   "source": [
    "df_copy.shape"
   ]
  },
  {
   "cell_type": "code",
   "execution_count": 19,
   "metadata": {},
   "outputs": [
    {
     "data": {
      "text/plain": [
       "Index(['hotel', 'is_canceled', 'lead_time', 'arrival_date_year',\n",
       "       'arrival_date_month', 'arrival_date_week_number',\n",
       "       'arrival_date_day_of_month', 'stays_in_weekend_nights',\n",
       "       'stays_in_week_nights', 'adults', 'children', 'babies', 'meal',\n",
       "       'country', 'market_segment', 'distribution_channel',\n",
       "       'is_repeated_guest', 'previous_cancellations',\n",
       "       'previous_bookings_not_canceled', 'reserved_room_type',\n",
       "       'assigned_room_type', 'booking_changes', 'deposit_type', 'agent',\n",
       "       'days_in_waiting_list', 'customer_type', 'adr',\n",
       "       'required_car_parking_spaces', 'total_of_special_requests',\n",
       "       'reservation_status', 'reservation_status_date'],\n",
       "      dtype='object')"
      ]
     },
     "execution_count": 19,
     "metadata": {},
     "output_type": "execute_result"
    }
   ],
   "source": [
    "df_copy.drop('company', axis = 1, inplace = True)\n",
    "df_copy.columns"
   ]
  },
  {
   "cell_type": "code",
   "execution_count": 20,
   "metadata": {},
   "outputs": [
    {
     "data": {
      "text/plain": [
       "(119390, 31)"
      ]
     },
     "execution_count": 20,
     "metadata": {},
     "output_type": "execute_result"
    }
   ],
   "source": [
    "df_copy.shape"
   ]
  },
  {
   "cell_type": "code",
   "execution_count": 21,
   "metadata": {},
   "outputs": [
    {
     "data": {
      "text/html": [
       "<div>\n",
       "<style scoped>\n",
       "    .dataframe tbody tr th:only-of-type {\n",
       "        vertical-align: middle;\n",
       "    }\n",
       "\n",
       "    .dataframe tbody tr th {\n",
       "        vertical-align: top;\n",
       "    }\n",
       "\n",
       "    .dataframe thead th {\n",
       "        text-align: right;\n",
       "    }\n",
       "</style>\n",
       "<table border=\"1\" class=\"dataframe\">\n",
       "  <thead>\n",
       "    <tr style=\"text-align: right;\">\n",
       "      <th></th>\n",
       "      <th>Number of NULL Values</th>\n",
       "      <th>Percentage of NULL Values</th>\n",
       "    </tr>\n",
       "  </thead>\n",
       "  <tbody>\n",
       "    <tr>\n",
       "      <th>hotel</th>\n",
       "      <td>0.0</td>\n",
       "      <td>0.0</td>\n",
       "    </tr>\n",
       "    <tr>\n",
       "      <th>is_canceled</th>\n",
       "      <td>0.0</td>\n",
       "      <td>0.0</td>\n",
       "    </tr>\n",
       "    <tr>\n",
       "      <th>lead_time</th>\n",
       "      <td>0.0</td>\n",
       "      <td>0.0</td>\n",
       "    </tr>\n",
       "    <tr>\n",
       "      <th>arrival_date_year</th>\n",
       "      <td>0.0</td>\n",
       "      <td>0.0</td>\n",
       "    </tr>\n",
       "    <tr>\n",
       "      <th>arrival_date_month</th>\n",
       "      <td>0.0</td>\n",
       "      <td>0.0</td>\n",
       "    </tr>\n",
       "    <tr>\n",
       "      <th>arrival_date_week_number</th>\n",
       "      <td>0.0</td>\n",
       "      <td>0.0</td>\n",
       "    </tr>\n",
       "    <tr>\n",
       "      <th>arrival_date_day_of_month</th>\n",
       "      <td>0.0</td>\n",
       "      <td>0.0</td>\n",
       "    </tr>\n",
       "    <tr>\n",
       "      <th>stays_in_weekend_nights</th>\n",
       "      <td>0.0</td>\n",
       "      <td>0.0</td>\n",
       "    </tr>\n",
       "    <tr>\n",
       "      <th>stays_in_week_nights</th>\n",
       "      <td>0.0</td>\n",
       "      <td>0.0</td>\n",
       "    </tr>\n",
       "    <tr>\n",
       "      <th>adults</th>\n",
       "      <td>0.0</td>\n",
       "      <td>0.0</td>\n",
       "    </tr>\n",
       "    <tr>\n",
       "      <th>children</th>\n",
       "      <td>0.0</td>\n",
       "      <td>0.0</td>\n",
       "    </tr>\n",
       "    <tr>\n",
       "      <th>babies</th>\n",
       "      <td>0.0</td>\n",
       "      <td>0.0</td>\n",
       "    </tr>\n",
       "    <tr>\n",
       "      <th>meal</th>\n",
       "      <td>0.0</td>\n",
       "      <td>0.0</td>\n",
       "    </tr>\n",
       "    <tr>\n",
       "      <th>country</th>\n",
       "      <td>0.0</td>\n",
       "      <td>0.0</td>\n",
       "    </tr>\n",
       "    <tr>\n",
       "      <th>market_segment</th>\n",
       "      <td>0.0</td>\n",
       "      <td>0.0</td>\n",
       "    </tr>\n",
       "    <tr>\n",
       "      <th>distribution_channel</th>\n",
       "      <td>0.0</td>\n",
       "      <td>0.0</td>\n",
       "    </tr>\n",
       "    <tr>\n",
       "      <th>is_repeated_guest</th>\n",
       "      <td>0.0</td>\n",
       "      <td>0.0</td>\n",
       "    </tr>\n",
       "    <tr>\n",
       "      <th>previous_cancellations</th>\n",
       "      <td>0.0</td>\n",
       "      <td>0.0</td>\n",
       "    </tr>\n",
       "    <tr>\n",
       "      <th>previous_bookings_not_canceled</th>\n",
       "      <td>0.0</td>\n",
       "      <td>0.0</td>\n",
       "    </tr>\n",
       "    <tr>\n",
       "      <th>reserved_room_type</th>\n",
       "      <td>0.0</td>\n",
       "      <td>0.0</td>\n",
       "    </tr>\n",
       "    <tr>\n",
       "      <th>assigned_room_type</th>\n",
       "      <td>0.0</td>\n",
       "      <td>0.0</td>\n",
       "    </tr>\n",
       "    <tr>\n",
       "      <th>booking_changes</th>\n",
       "      <td>0.0</td>\n",
       "      <td>0.0</td>\n",
       "    </tr>\n",
       "    <tr>\n",
       "      <th>deposit_type</th>\n",
       "      <td>0.0</td>\n",
       "      <td>0.0</td>\n",
       "    </tr>\n",
       "    <tr>\n",
       "      <th>agent</th>\n",
       "      <td>0.0</td>\n",
       "      <td>0.0</td>\n",
       "    </tr>\n",
       "    <tr>\n",
       "      <th>days_in_waiting_list</th>\n",
       "      <td>0.0</td>\n",
       "      <td>0.0</td>\n",
       "    </tr>\n",
       "    <tr>\n",
       "      <th>customer_type</th>\n",
       "      <td>0.0</td>\n",
       "      <td>0.0</td>\n",
       "    </tr>\n",
       "    <tr>\n",
       "      <th>adr</th>\n",
       "      <td>0.0</td>\n",
       "      <td>0.0</td>\n",
       "    </tr>\n",
       "    <tr>\n",
       "      <th>required_car_parking_spaces</th>\n",
       "      <td>0.0</td>\n",
       "      <td>0.0</td>\n",
       "    </tr>\n",
       "    <tr>\n",
       "      <th>total_of_special_requests</th>\n",
       "      <td>0.0</td>\n",
       "      <td>0.0</td>\n",
       "    </tr>\n",
       "    <tr>\n",
       "      <th>reservation_status</th>\n",
       "      <td>0.0</td>\n",
       "      <td>0.0</td>\n",
       "    </tr>\n",
       "    <tr>\n",
       "      <th>reservation_status_date</th>\n",
       "      <td>0.0</td>\n",
       "      <td>0.0</td>\n",
       "    </tr>\n",
       "  </tbody>\n",
       "</table>\n",
       "</div>"
      ],
      "text/plain": [
       "                                Number of NULL Values  \\\n",
       "hotel                                             0.0   \n",
       "is_canceled                                       0.0   \n",
       "lead_time                                         0.0   \n",
       "arrival_date_year                                 0.0   \n",
       "arrival_date_month                                0.0   \n",
       "arrival_date_week_number                          0.0   \n",
       "arrival_date_day_of_month                         0.0   \n",
       "stays_in_weekend_nights                           0.0   \n",
       "stays_in_week_nights                              0.0   \n",
       "adults                                            0.0   \n",
       "children                                          0.0   \n",
       "babies                                            0.0   \n",
       "meal                                              0.0   \n",
       "country                                           0.0   \n",
       "market_segment                                    0.0   \n",
       "distribution_channel                              0.0   \n",
       "is_repeated_guest                                 0.0   \n",
       "previous_cancellations                            0.0   \n",
       "previous_bookings_not_canceled                    0.0   \n",
       "reserved_room_type                                0.0   \n",
       "assigned_room_type                                0.0   \n",
       "booking_changes                                   0.0   \n",
       "deposit_type                                      0.0   \n",
       "agent                                             0.0   \n",
       "days_in_waiting_list                              0.0   \n",
       "customer_type                                     0.0   \n",
       "adr                                               0.0   \n",
       "required_car_parking_spaces                       0.0   \n",
       "total_of_special_requests                         0.0   \n",
       "reservation_status                                0.0   \n",
       "reservation_status_date                           0.0   \n",
       "\n",
       "                                Percentage of NULL Values  \n",
       "hotel                                                 0.0  \n",
       "is_canceled                                           0.0  \n",
       "lead_time                                             0.0  \n",
       "arrival_date_year                                     0.0  \n",
       "arrival_date_month                                    0.0  \n",
       "arrival_date_week_number                              0.0  \n",
       "arrival_date_day_of_month                             0.0  \n",
       "stays_in_weekend_nights                               0.0  \n",
       "stays_in_week_nights                                  0.0  \n",
       "adults                                                0.0  \n",
       "children                                              0.0  \n",
       "babies                                                0.0  \n",
       "meal                                                  0.0  \n",
       "country                                               0.0  \n",
       "market_segment                                        0.0  \n",
       "distribution_channel                                  0.0  \n",
       "is_repeated_guest                                     0.0  \n",
       "previous_cancellations                                0.0  \n",
       "previous_bookings_not_canceled                        0.0  \n",
       "reserved_room_type                                    0.0  \n",
       "assigned_room_type                                    0.0  \n",
       "booking_changes                                       0.0  \n",
       "deposit_type                                          0.0  \n",
       "agent                                                 0.0  \n",
       "days_in_waiting_list                                  0.0  \n",
       "customer_type                                         0.0  \n",
       "adr                                                   0.0  \n",
       "required_car_parking_spaces                           0.0  \n",
       "total_of_special_requests                             0.0  \n",
       "reservation_status                                    0.0  \n",
       "reservation_status_date                               0.0  "
      ]
     },
     "execution_count": 21,
     "metadata": {},
     "output_type": "execute_result"
    }
   ],
   "source": [
    "# Rechecking NULL Values\n",
    "null_val_after = df_copy.isnull().sum()\n",
    "null_perc_after = (df_copy.isnull().sum()/len(df_copy))*100\n",
    "null_values_after = pd.DataFrame([null_val_after, null_perc_after]).T\n",
    "null_values_after.rename({0 : 'Number of NULL Values', 1 : 'Percentage of NULL Values'}, axis = 1, inplace = True)\n",
    "null_values_after"
   ]
  },
  {
   "cell_type": "code",
   "execution_count": 22,
   "metadata": {},
   "outputs": [],
   "source": [
    "df_copy['children'] = df_copy['children'].astype('int64')\n",
    "df_copy['agent'] = df_copy['agent'].astype('int64')"
   ]
  },
  {
   "cell_type": "code",
   "execution_count": 23,
   "metadata": {},
   "outputs": [
    {
     "data": {
      "text/plain": [
       "(119390, 31)"
      ]
     },
     "execution_count": 23,
     "metadata": {},
     "output_type": "execute_result"
    }
   ],
   "source": [
    "df_copy.shape"
   ]
  },
  {
   "cell_type": "code",
   "execution_count": 24,
   "metadata": {},
   "outputs": [
    {
     "data": {
      "text/plain": [
       "hotel                              object\n",
       "is_canceled                         int64\n",
       "lead_time                           int64\n",
       "arrival_date_year                   int64\n",
       "arrival_date_month                 object\n",
       "arrival_date_week_number            int64\n",
       "arrival_date_day_of_month           int64\n",
       "stays_in_weekend_nights             int64\n",
       "stays_in_week_nights                int64\n",
       "adults                              int64\n",
       "children                            int64\n",
       "babies                              int64\n",
       "meal                               object\n",
       "country                            object\n",
       "market_segment                     object\n",
       "distribution_channel               object\n",
       "is_repeated_guest                   int64\n",
       "previous_cancellations              int64\n",
       "previous_bookings_not_canceled      int64\n",
       "reserved_room_type                 object\n",
       "assigned_room_type                 object\n",
       "booking_changes                     int64\n",
       "deposit_type                       object\n",
       "agent                               int64\n",
       "days_in_waiting_list                int64\n",
       "customer_type                      object\n",
       "adr                               float64\n",
       "required_car_parking_spaces         int64\n",
       "total_of_special_requests           int64\n",
       "reservation_status                 object\n",
       "reservation_status_date            object\n",
       "dtype: object"
      ]
     },
     "execution_count": 24,
     "metadata": {},
     "output_type": "execute_result"
    }
   ],
   "source": [
    "# Rechecking data types\n",
    "df_copy.dtypes"
   ]
  },
  {
   "cell_type": "code",
   "execution_count": 25,
   "metadata": {},
   "outputs": [
    {
     "data": {
      "text/html": [
       "<div>\n",
       "<style scoped>\n",
       "    .dataframe tbody tr th:only-of-type {\n",
       "        vertical-align: middle;\n",
       "    }\n",
       "\n",
       "    .dataframe tbody tr th {\n",
       "        vertical-align: top;\n",
       "    }\n",
       "\n",
       "    .dataframe thead th {\n",
       "        text-align: right;\n",
       "    }\n",
       "</style>\n",
       "<table border=\"1\" class=\"dataframe\">\n",
       "  <thead>\n",
       "    <tr style=\"text-align: right;\">\n",
       "      <th></th>\n",
       "      <th>adults</th>\n",
       "      <th>children</th>\n",
       "    </tr>\n",
       "  </thead>\n",
       "  <tbody>\n",
       "    <tr>\n",
       "      <th>2224</th>\n",
       "      <td>0</td>\n",
       "      <td>0</td>\n",
       "    </tr>\n",
       "    <tr>\n",
       "      <th>2409</th>\n",
       "      <td>0</td>\n",
       "      <td>0</td>\n",
       "    </tr>\n",
       "    <tr>\n",
       "      <th>3181</th>\n",
       "      <td>0</td>\n",
       "      <td>0</td>\n",
       "    </tr>\n",
       "    <tr>\n",
       "      <th>3684</th>\n",
       "      <td>0</td>\n",
       "      <td>0</td>\n",
       "    </tr>\n",
       "    <tr>\n",
       "      <th>3708</th>\n",
       "      <td>0</td>\n",
       "      <td>0</td>\n",
       "    </tr>\n",
       "    <tr>\n",
       "      <th>...</th>\n",
       "      <td>...</td>\n",
       "      <td>...</td>\n",
       "    </tr>\n",
       "    <tr>\n",
       "      <th>115029</th>\n",
       "      <td>0</td>\n",
       "      <td>0</td>\n",
       "    </tr>\n",
       "    <tr>\n",
       "      <th>115091</th>\n",
       "      <td>0</td>\n",
       "      <td>0</td>\n",
       "    </tr>\n",
       "    <tr>\n",
       "      <th>116251</th>\n",
       "      <td>0</td>\n",
       "      <td>0</td>\n",
       "    </tr>\n",
       "    <tr>\n",
       "      <th>116534</th>\n",
       "      <td>0</td>\n",
       "      <td>0</td>\n",
       "    </tr>\n",
       "    <tr>\n",
       "      <th>117087</th>\n",
       "      <td>0</td>\n",
       "      <td>0</td>\n",
       "    </tr>\n",
       "  </tbody>\n",
       "</table>\n",
       "<p>180 rows × 2 columns</p>\n",
       "</div>"
      ],
      "text/plain": [
       "        adults  children\n",
       "2224         0         0\n",
       "2409         0         0\n",
       "3181         0         0\n",
       "3684         0         0\n",
       "3708         0         0\n",
       "...        ...       ...\n",
       "115029       0         0\n",
       "115091       0         0\n",
       "116251       0         0\n",
       "116534       0         0\n",
       "117087       0         0\n",
       "\n",
       "[180 rows x 2 columns]"
      ]
     },
     "execution_count": 25,
     "metadata": {},
     "output_type": "execute_result"
    }
   ],
   "source": [
    "ac = df_copy[['adults', 'children']]\n",
    "ac[(ac['adults'] == 0) & (ac['children'] == 0)]"
   ]
  },
  {
   "cell_type": "code",
   "execution_count": 26,
   "metadata": {},
   "outputs": [
    {
     "data": {
      "text/plain": [
       "(119390, 31)"
      ]
     },
     "execution_count": 26,
     "metadata": {},
     "output_type": "execute_result"
    }
   ],
   "source": [
    "df_copy.shape"
   ]
  },
  {
   "cell_type": "code",
   "execution_count": 27,
   "metadata": {},
   "outputs": [],
   "source": [
    "df_copy = df_copy[~((df_copy['adults'] == 0) & (df_copy['children'] == 0))]"
   ]
  },
  {
   "cell_type": "code",
   "execution_count": 28,
   "metadata": {},
   "outputs": [
    {
     "data": {
      "text/plain": [
       "0"
      ]
     },
     "execution_count": 28,
     "metadata": {},
     "output_type": "execute_result"
    }
   ],
   "source": [
    "len(df_copy[((main_df['adults'] == 0) & (main_df['children'] == 0))])"
   ]
  },
  {
   "cell_type": "code",
   "execution_count": 29,
   "metadata": {},
   "outputs": [
    {
     "data": {
      "text/plain": [
       "(119210, 31)"
      ]
     },
     "execution_count": 29,
     "metadata": {},
     "output_type": "execute_result"
    }
   ],
   "source": [
    "df_copy.shape"
   ]
  },
  {
   "cell_type": "code",
   "execution_count": 30,
   "metadata": {},
   "outputs": [
    {
     "data": {
      "text/plain": [
       "0"
      ]
     },
     "execution_count": 30,
     "metadata": {},
     "output_type": "execute_result"
    }
   ],
   "source": [
    "df_copy['is_canceled'].isnull().sum()"
   ]
  },
  {
   "cell_type": "code",
   "execution_count": 31,
   "metadata": {},
   "outputs": [
    {
     "data": {
      "text/plain": [
       "(119210,)"
      ]
     },
     "execution_count": 31,
     "metadata": {},
     "output_type": "execute_result"
    }
   ],
   "source": [
    "df_copy['is_canceled'].shape"
   ]
  },
  {
   "cell_type": "code",
   "execution_count": 32,
   "metadata": {},
   "outputs": [
    {
     "data": {
      "text/plain": [
       "32006"
      ]
     },
     "execution_count": 32,
     "metadata": {},
     "output_type": "execute_result"
    }
   ],
   "source": [
    "df_copy.duplicated().sum()"
   ]
  },
  {
   "cell_type": "code",
   "execution_count": 33,
   "metadata": {},
   "outputs": [],
   "source": [
    "df_copy['adr_pp'] = df_copy['adr']/(df_copy['adults'] + df_copy['children'])\n",
    "df_copy.drop('adr', axis = 1, inplace = True)"
   ]
  },
  {
   "cell_type": "code",
   "execution_count": 34,
   "metadata": {},
   "outputs": [
    {
     "data": {
      "text/plain": [
       "0"
      ]
     },
     "execution_count": 34,
     "metadata": {},
     "output_type": "execute_result"
    }
   ],
   "source": [
    "df_copy['adr_pp'].isnull().sum()"
   ]
  },
  {
   "cell_type": "code",
   "execution_count": 35,
   "metadata": {},
   "outputs": [
    {
     "data": {
      "text/plain": [
       "32006"
      ]
     },
     "execution_count": 35,
     "metadata": {},
     "output_type": "execute_result"
    }
   ],
   "source": [
    "df_copy.duplicated().sum()"
   ]
  },
  {
   "cell_type": "code",
   "execution_count": 36,
   "metadata": {},
   "outputs": [
    {
     "data": {
      "text/html": [
       "<div>\n",
       "<style scoped>\n",
       "    .dataframe tbody tr th:only-of-type {\n",
       "        vertical-align: middle;\n",
       "    }\n",
       "\n",
       "    .dataframe tbody tr th {\n",
       "        vertical-align: top;\n",
       "    }\n",
       "\n",
       "    .dataframe thead th {\n",
       "        text-align: right;\n",
       "    }\n",
       "</style>\n",
       "<table border=\"1\" class=\"dataframe\">\n",
       "  <thead>\n",
       "    <tr style=\"text-align: right;\">\n",
       "      <th></th>\n",
       "      <th>hotel</th>\n",
       "      <th>is_canceled</th>\n",
       "      <th>lead_time</th>\n",
       "      <th>arrival_date_year</th>\n",
       "      <th>arrival_date_month</th>\n",
       "      <th>arrival_date_week_number</th>\n",
       "      <th>arrival_date_day_of_month</th>\n",
       "      <th>stays_in_weekend_nights</th>\n",
       "      <th>stays_in_week_nights</th>\n",
       "      <th>adults</th>\n",
       "      <th>...</th>\n",
       "      <th>booking_changes</th>\n",
       "      <th>deposit_type</th>\n",
       "      <th>agent</th>\n",
       "      <th>days_in_waiting_list</th>\n",
       "      <th>customer_type</th>\n",
       "      <th>required_car_parking_spaces</th>\n",
       "      <th>total_of_special_requests</th>\n",
       "      <th>reservation_status</th>\n",
       "      <th>reservation_status_date</th>\n",
       "      <th>adr_pp</th>\n",
       "    </tr>\n",
       "  </thead>\n",
       "  <tbody>\n",
       "    <tr>\n",
       "      <th>0</th>\n",
       "      <td>Resort Hotel</td>\n",
       "      <td>0</td>\n",
       "      <td>342</td>\n",
       "      <td>2015</td>\n",
       "      <td>July</td>\n",
       "      <td>27</td>\n",
       "      <td>1</td>\n",
       "      <td>0</td>\n",
       "      <td>0</td>\n",
       "      <td>2</td>\n",
       "      <td>...</td>\n",
       "      <td>3</td>\n",
       "      <td>No Deposit</td>\n",
       "      <td>0</td>\n",
       "      <td>0</td>\n",
       "      <td>Transient</td>\n",
       "      <td>0</td>\n",
       "      <td>0</td>\n",
       "      <td>Check-Out</td>\n",
       "      <td>2015-07-01</td>\n",
       "      <td>0.0</td>\n",
       "    </tr>\n",
       "    <tr>\n",
       "      <th>1</th>\n",
       "      <td>Resort Hotel</td>\n",
       "      <td>0</td>\n",
       "      <td>737</td>\n",
       "      <td>2015</td>\n",
       "      <td>July</td>\n",
       "      <td>27</td>\n",
       "      <td>1</td>\n",
       "      <td>0</td>\n",
       "      <td>0</td>\n",
       "      <td>2</td>\n",
       "      <td>...</td>\n",
       "      <td>4</td>\n",
       "      <td>No Deposit</td>\n",
       "      <td>0</td>\n",
       "      <td>0</td>\n",
       "      <td>Transient</td>\n",
       "      <td>0</td>\n",
       "      <td>0</td>\n",
       "      <td>Check-Out</td>\n",
       "      <td>2015-07-01</td>\n",
       "      <td>0.0</td>\n",
       "    </tr>\n",
       "    <tr>\n",
       "      <th>2</th>\n",
       "      <td>Resort Hotel</td>\n",
       "      <td>0</td>\n",
       "      <td>7</td>\n",
       "      <td>2015</td>\n",
       "      <td>July</td>\n",
       "      <td>27</td>\n",
       "      <td>1</td>\n",
       "      <td>0</td>\n",
       "      <td>1</td>\n",
       "      <td>1</td>\n",
       "      <td>...</td>\n",
       "      <td>0</td>\n",
       "      <td>No Deposit</td>\n",
       "      <td>0</td>\n",
       "      <td>0</td>\n",
       "      <td>Transient</td>\n",
       "      <td>0</td>\n",
       "      <td>0</td>\n",
       "      <td>Check-Out</td>\n",
       "      <td>2015-07-02</td>\n",
       "      <td>75.0</td>\n",
       "    </tr>\n",
       "    <tr>\n",
       "      <th>3</th>\n",
       "      <td>Resort Hotel</td>\n",
       "      <td>0</td>\n",
       "      <td>13</td>\n",
       "      <td>2015</td>\n",
       "      <td>July</td>\n",
       "      <td>27</td>\n",
       "      <td>1</td>\n",
       "      <td>0</td>\n",
       "      <td>1</td>\n",
       "      <td>1</td>\n",
       "      <td>...</td>\n",
       "      <td>0</td>\n",
       "      <td>No Deposit</td>\n",
       "      <td>304</td>\n",
       "      <td>0</td>\n",
       "      <td>Transient</td>\n",
       "      <td>0</td>\n",
       "      <td>0</td>\n",
       "      <td>Check-Out</td>\n",
       "      <td>2015-07-02</td>\n",
       "      <td>75.0</td>\n",
       "    </tr>\n",
       "    <tr>\n",
       "      <th>4</th>\n",
       "      <td>Resort Hotel</td>\n",
       "      <td>0</td>\n",
       "      <td>14</td>\n",
       "      <td>2015</td>\n",
       "      <td>July</td>\n",
       "      <td>27</td>\n",
       "      <td>1</td>\n",
       "      <td>0</td>\n",
       "      <td>2</td>\n",
       "      <td>2</td>\n",
       "      <td>...</td>\n",
       "      <td>0</td>\n",
       "      <td>No Deposit</td>\n",
       "      <td>240</td>\n",
       "      <td>0</td>\n",
       "      <td>Transient</td>\n",
       "      <td>0</td>\n",
       "      <td>1</td>\n",
       "      <td>Check-Out</td>\n",
       "      <td>2015-07-03</td>\n",
       "      <td>49.0</td>\n",
       "    </tr>\n",
       "  </tbody>\n",
       "</table>\n",
       "<p>5 rows × 31 columns</p>\n",
       "</div>"
      ],
      "text/plain": [
       "          hotel  is_canceled  lead_time  arrival_date_year arrival_date_month  \\\n",
       "0  Resort Hotel            0        342               2015               July   \n",
       "1  Resort Hotel            0        737               2015               July   \n",
       "2  Resort Hotel            0          7               2015               July   \n",
       "3  Resort Hotel            0         13               2015               July   \n",
       "4  Resort Hotel            0         14               2015               July   \n",
       "\n",
       "   arrival_date_week_number  arrival_date_day_of_month  \\\n",
       "0                        27                          1   \n",
       "1                        27                          1   \n",
       "2                        27                          1   \n",
       "3                        27                          1   \n",
       "4                        27                          1   \n",
       "\n",
       "   stays_in_weekend_nights  stays_in_week_nights  adults  ...  \\\n",
       "0                        0                     0       2  ...   \n",
       "1                        0                     0       2  ...   \n",
       "2                        0                     1       1  ...   \n",
       "3                        0                     1       1  ...   \n",
       "4                        0                     2       2  ...   \n",
       "\n",
       "   booking_changes  deposit_type agent days_in_waiting_list customer_type  \\\n",
       "0                3    No Deposit     0                    0     Transient   \n",
       "1                4    No Deposit     0                    0     Transient   \n",
       "2                0    No Deposit     0                    0     Transient   \n",
       "3                0    No Deposit   304                    0     Transient   \n",
       "4                0    No Deposit   240                    0     Transient   \n",
       "\n",
       "  required_car_parking_spaces  total_of_special_requests  reservation_status  \\\n",
       "0                           0                          0           Check-Out   \n",
       "1                           0                          0           Check-Out   \n",
       "2                           0                          0           Check-Out   \n",
       "3                           0                          0           Check-Out   \n",
       "4                           0                          1           Check-Out   \n",
       "\n",
       "   reservation_status_date adr_pp  \n",
       "0               2015-07-01    0.0  \n",
       "1               2015-07-01    0.0  \n",
       "2               2015-07-02   75.0  \n",
       "3               2015-07-02   75.0  \n",
       "4               2015-07-03   49.0  \n",
       "\n",
       "[5 rows x 31 columns]"
      ]
     },
     "execution_count": 36,
     "metadata": {},
     "output_type": "execute_result"
    }
   ],
   "source": [
    "df_copy.head()"
   ]
  },
  {
   "cell_type": "code",
   "execution_count": 37,
   "metadata": {},
   "outputs": [
    {
     "name": "stdout",
     "output_type": "stream",
     "text": [
      "hotel\n",
      "is_canceled\n",
      "lead_time\n",
      "arrival_date_year\n",
      "arrival_date_month\n",
      "arrival_date_week_number\n",
      "arrival_date_day_of_month\n",
      "stays_in_weekend_nights\n",
      "stays_in_week_nights\n",
      "adults\n",
      "children\n",
      "babies\n",
      "meal\n",
      "country\n",
      "market_segment\n",
      "distribution_channel\n",
      "is_repeated_guest\n",
      "previous_cancellations\n",
      "previous_bookings_not_canceled\n",
      "reserved_room_type\n",
      "assigned_room_type\n",
      "booking_changes\n",
      "deposit_type\n",
      "agent\n",
      "days_in_waiting_list\n",
      "customer_type\n",
      "required_car_parking_spaces\n",
      "total_of_special_requests\n",
      "reservation_status\n",
      "reservation_status_date\n",
      "adr_pp\n"
     ]
    }
   ],
   "source": [
    "for ele in df_copy.columns:\n",
    "    print(ele)"
   ]
  },
  {
   "cell_type": "code",
   "execution_count": 38,
   "metadata": {},
   "outputs": [
    {
     "data": {
      "text/plain": [
       "(119210, 31)"
      ]
     },
     "execution_count": 38,
     "metadata": {},
     "output_type": "execute_result"
    }
   ],
   "source": [
    "df_copy.shape"
   ]
  },
  {
   "cell_type": "markdown",
   "metadata": {},
   "source": [
    "#### Feature Engineering"
   ]
  },
  {
   "cell_type": "code",
   "execution_count": 39,
   "metadata": {},
   "outputs": [],
   "source": [
    "df_copy_no_yfe = df_copy.copy()"
   ]
  },
  {
   "cell_type": "code",
   "execution_count": 40,
   "metadata": {},
   "outputs": [],
   "source": [
    "df_copy_no_yfe['Room'] = 0\n",
    "df_copy_no_yfe.loc[df_copy_no_yfe['reserved_room_type'] == df_copy_no_yfe['assigned_room_type'] , 'Room'] = 1"
   ]
  },
  {
   "cell_type": "code",
   "execution_count": 41,
   "metadata": {},
   "outputs": [
    {
     "data": {
      "text/plain": [
       "1    104414\n",
       "0     14796\n",
       "Name: Room, dtype: int64"
      ]
     },
     "execution_count": 41,
     "metadata": {},
     "output_type": "execute_result"
    }
   ],
   "source": [
    "df_copy_no_yfe['Room'].value_counts()"
   ]
  },
  {
   "cell_type": "code",
   "execution_count": 42,
   "metadata": {},
   "outputs": [],
   "source": [
    "df_copy_no_yfe.drop(['reserved_room_type', 'assigned_room_type'], axis = 1, inplace = True)"
   ]
  },
  {
   "cell_type": "code",
   "execution_count": 43,
   "metadata": {},
   "outputs": [
    {
     "data": {
      "text/plain": [
       "Index(['hotel', 'is_canceled', 'lead_time', 'arrival_date_year',\n",
       "       'arrival_date_month', 'arrival_date_week_number',\n",
       "       'arrival_date_day_of_month', 'stays_in_weekend_nights',\n",
       "       'stays_in_week_nights', 'adults', 'children', 'babies', 'meal',\n",
       "       'country', 'market_segment', 'distribution_channel',\n",
       "       'is_repeated_guest', 'previous_cancellations',\n",
       "       'previous_bookings_not_canceled', 'booking_changes', 'deposit_type',\n",
       "       'agent', 'days_in_waiting_list', 'customer_type',\n",
       "       'required_car_parking_spaces', 'total_of_special_requests',\n",
       "       'reservation_status', 'reservation_status_date', 'adr_pp', 'Room'],\n",
       "      dtype='object')"
      ]
     },
     "execution_count": 43,
     "metadata": {},
     "output_type": "execute_result"
    }
   ],
   "source": [
    "df_copy_no_yfe.columns"
   ]
  },
  {
   "cell_type": "code",
   "execution_count": 44,
   "metadata": {},
   "outputs": [
    {
     "data": {
      "text/plain": [
       "0"
      ]
     },
     "execution_count": 44,
     "metadata": {},
     "output_type": "execute_result"
    }
   ],
   "source": [
    "df_copy_no_yfe['is_canceled'].isnull().sum()"
   ]
  },
  {
   "cell_type": "code",
   "execution_count": 45,
   "metadata": {},
   "outputs": [],
   "source": [
    "def DaysInWaitingList(ele) :\n",
    "    if ele == 0 :\n",
    "        return \"No Waiting\"\n",
    "    elif ele > 0 and ele <= 50 :\n",
    "        return \"Low\"\n",
    "    elif ele > 50 and ele <= 130 :\n",
    "        return \"Medium\"\n",
    "    else:\n",
    "        return \"High\""
   ]
  },
  {
   "cell_type": "code",
   "execution_count": 46,
   "metadata": {},
   "outputs": [],
   "source": [
    "df_copy_no_yfe['DaysWaiting'] = df_copy_no_yfe['days_in_waiting_list'].apply(DaysInWaitingList)"
   ]
  },
  {
   "cell_type": "code",
   "execution_count": 47,
   "metadata": {},
   "outputs": [
    {
     "data": {
      "text/plain": [
       "No Waiting    115517\n",
       "Low             1808\n",
       "Medium          1408\n",
       "High             477\n",
       "Name: DaysWaiting, dtype: int64"
      ]
     },
     "execution_count": 47,
     "metadata": {},
     "output_type": "execute_result"
    }
   ],
   "source": [
    "df_copy_no_yfe['DaysWaiting'].value_counts()"
   ]
  },
  {
   "cell_type": "code",
   "execution_count": 48,
   "metadata": {},
   "outputs": [],
   "source": [
    "df_copy_no_yfe.drop('days_in_waiting_list', axis = 1, inplace = True)"
   ]
  },
  {
   "cell_type": "code",
   "execution_count": 49,
   "metadata": {},
   "outputs": [
    {
     "data": {
      "text/plain": [
       "0    113330\n",
       "1      5880\n",
       "Name: net_cancelled, dtype: int64"
      ]
     },
     "execution_count": 49,
     "metadata": {},
     "output_type": "execute_result"
    }
   ],
   "source": [
    "df_copy_no_yfe['net_cancelled'] = 0\n",
    "df_copy_no_yfe.loc[ df_copy_no_yfe['previous_cancellations'] > df_copy_no_yfe['previous_bookings_not_canceled'] , 'net_cancelled'] = 1\n",
    "df_copy_no_yfe['net_cancelled'].value_counts()"
   ]
  },
  {
   "cell_type": "code",
   "execution_count": 50,
   "metadata": {},
   "outputs": [],
   "source": [
    "df_copy_no_yfe.drop(['previous_cancellations', 'previous_bookings_not_canceled'], axis = 1, inplace = True)"
   ]
  },
  {
   "cell_type": "code",
   "execution_count": 51,
   "metadata": {},
   "outputs": [],
   "source": [
    "def category(ele):\n",
    "    if ele == 0:\n",
    "        return 'No Lead Time'\n",
    "    elif ele >=1 and ele <= 100:\n",
    "        return 'Low'\n",
    "    elif ele >100 and ele <=400:\n",
    "        return 'Medium'\n",
    "    else:\n",
    "        return 'High'"
   ]
  },
  {
   "cell_type": "code",
   "execution_count": 52,
   "metadata": {},
   "outputs": [],
   "source": [
    "df_copy_no_yfe['lead_category'] = df_copy_no_yfe['lead_time'].apply(category)"
   ]
  },
  {
   "cell_type": "code",
   "execution_count": 53,
   "metadata": {},
   "outputs": [
    {
     "data": {
      "text/plain": [
       "Low             65616\n",
       "Medium          45217\n",
       "No Lead Time     6264\n",
       "High             2113\n",
       "Name: lead_category, dtype: int64"
      ]
     },
     "execution_count": 53,
     "metadata": {},
     "output_type": "execute_result"
    }
   ],
   "source": [
    "df_copy_no_yfe['lead_category'].value_counts()"
   ]
  },
  {
   "cell_type": "code",
   "execution_count": 54,
   "metadata": {},
   "outputs": [],
   "source": [
    "df_copy_no_yfe.drop('lead_time', axis = 1, inplace = True)"
   ]
  },
  {
   "cell_type": "code",
   "execution_count": 55,
   "metadata": {},
   "outputs": [
    {
     "data": {
      "text/html": [
       "<div>\n",
       "<style scoped>\n",
       "    .dataframe tbody tr th:only-of-type {\n",
       "        vertical-align: middle;\n",
       "    }\n",
       "\n",
       "    .dataframe tbody tr th {\n",
       "        vertical-align: top;\n",
       "    }\n",
       "\n",
       "    .dataframe thead th {\n",
       "        text-align: right;\n",
       "    }\n",
       "</style>\n",
       "<table border=\"1\" class=\"dataframe\">\n",
       "  <thead>\n",
       "    <tr style=\"text-align: right;\">\n",
       "      <th></th>\n",
       "      <th>hotel</th>\n",
       "      <th>is_canceled</th>\n",
       "      <th>arrival_date_year</th>\n",
       "      <th>arrival_date_month</th>\n",
       "      <th>arrival_date_week_number</th>\n",
       "      <th>arrival_date_day_of_month</th>\n",
       "      <th>stays_in_weekend_nights</th>\n",
       "      <th>stays_in_week_nights</th>\n",
       "      <th>adults</th>\n",
       "      <th>children</th>\n",
       "      <th>...</th>\n",
       "      <th>customer_type</th>\n",
       "      <th>required_car_parking_spaces</th>\n",
       "      <th>total_of_special_requests</th>\n",
       "      <th>reservation_status</th>\n",
       "      <th>reservation_status_date</th>\n",
       "      <th>adr_pp</th>\n",
       "      <th>Room</th>\n",
       "      <th>DaysWaiting</th>\n",
       "      <th>net_cancelled</th>\n",
       "      <th>lead_category</th>\n",
       "    </tr>\n",
       "  </thead>\n",
       "  <tbody>\n",
       "    <tr>\n",
       "      <th>0</th>\n",
       "      <td>Resort Hotel</td>\n",
       "      <td>0</td>\n",
       "      <td>2015</td>\n",
       "      <td>July</td>\n",
       "      <td>27</td>\n",
       "      <td>1</td>\n",
       "      <td>0</td>\n",
       "      <td>0</td>\n",
       "      <td>2</td>\n",
       "      <td>0</td>\n",
       "      <td>...</td>\n",
       "      <td>Transient</td>\n",
       "      <td>0</td>\n",
       "      <td>0</td>\n",
       "      <td>Check-Out</td>\n",
       "      <td>2015-07-01</td>\n",
       "      <td>0.0</td>\n",
       "      <td>1</td>\n",
       "      <td>No Waiting</td>\n",
       "      <td>0</td>\n",
       "      <td>Medium</td>\n",
       "    </tr>\n",
       "    <tr>\n",
       "      <th>1</th>\n",
       "      <td>Resort Hotel</td>\n",
       "      <td>0</td>\n",
       "      <td>2015</td>\n",
       "      <td>July</td>\n",
       "      <td>27</td>\n",
       "      <td>1</td>\n",
       "      <td>0</td>\n",
       "      <td>0</td>\n",
       "      <td>2</td>\n",
       "      <td>0</td>\n",
       "      <td>...</td>\n",
       "      <td>Transient</td>\n",
       "      <td>0</td>\n",
       "      <td>0</td>\n",
       "      <td>Check-Out</td>\n",
       "      <td>2015-07-01</td>\n",
       "      <td>0.0</td>\n",
       "      <td>1</td>\n",
       "      <td>No Waiting</td>\n",
       "      <td>0</td>\n",
       "      <td>High</td>\n",
       "    </tr>\n",
       "    <tr>\n",
       "      <th>2</th>\n",
       "      <td>Resort Hotel</td>\n",
       "      <td>0</td>\n",
       "      <td>2015</td>\n",
       "      <td>July</td>\n",
       "      <td>27</td>\n",
       "      <td>1</td>\n",
       "      <td>0</td>\n",
       "      <td>1</td>\n",
       "      <td>1</td>\n",
       "      <td>0</td>\n",
       "      <td>...</td>\n",
       "      <td>Transient</td>\n",
       "      <td>0</td>\n",
       "      <td>0</td>\n",
       "      <td>Check-Out</td>\n",
       "      <td>2015-07-02</td>\n",
       "      <td>75.0</td>\n",
       "      <td>0</td>\n",
       "      <td>No Waiting</td>\n",
       "      <td>0</td>\n",
       "      <td>Low</td>\n",
       "    </tr>\n",
       "    <tr>\n",
       "      <th>3</th>\n",
       "      <td>Resort Hotel</td>\n",
       "      <td>0</td>\n",
       "      <td>2015</td>\n",
       "      <td>July</td>\n",
       "      <td>27</td>\n",
       "      <td>1</td>\n",
       "      <td>0</td>\n",
       "      <td>1</td>\n",
       "      <td>1</td>\n",
       "      <td>0</td>\n",
       "      <td>...</td>\n",
       "      <td>Transient</td>\n",
       "      <td>0</td>\n",
       "      <td>0</td>\n",
       "      <td>Check-Out</td>\n",
       "      <td>2015-07-02</td>\n",
       "      <td>75.0</td>\n",
       "      <td>1</td>\n",
       "      <td>No Waiting</td>\n",
       "      <td>0</td>\n",
       "      <td>Low</td>\n",
       "    </tr>\n",
       "    <tr>\n",
       "      <th>4</th>\n",
       "      <td>Resort Hotel</td>\n",
       "      <td>0</td>\n",
       "      <td>2015</td>\n",
       "      <td>July</td>\n",
       "      <td>27</td>\n",
       "      <td>1</td>\n",
       "      <td>0</td>\n",
       "      <td>2</td>\n",
       "      <td>2</td>\n",
       "      <td>0</td>\n",
       "      <td>...</td>\n",
       "      <td>Transient</td>\n",
       "      <td>0</td>\n",
       "      <td>1</td>\n",
       "      <td>Check-Out</td>\n",
       "      <td>2015-07-03</td>\n",
       "      <td>49.0</td>\n",
       "      <td>1</td>\n",
       "      <td>No Waiting</td>\n",
       "      <td>0</td>\n",
       "      <td>Low</td>\n",
       "    </tr>\n",
       "  </tbody>\n",
       "</table>\n",
       "<p>5 rows × 29 columns</p>\n",
       "</div>"
      ],
      "text/plain": [
       "          hotel  is_canceled  arrival_date_year arrival_date_month  \\\n",
       "0  Resort Hotel            0               2015               July   \n",
       "1  Resort Hotel            0               2015               July   \n",
       "2  Resort Hotel            0               2015               July   \n",
       "3  Resort Hotel            0               2015               July   \n",
       "4  Resort Hotel            0               2015               July   \n",
       "\n",
       "   arrival_date_week_number  arrival_date_day_of_month  \\\n",
       "0                        27                          1   \n",
       "1                        27                          1   \n",
       "2                        27                          1   \n",
       "3                        27                          1   \n",
       "4                        27                          1   \n",
       "\n",
       "   stays_in_weekend_nights  stays_in_week_nights  adults  children  ...  \\\n",
       "0                        0                     0       2         0  ...   \n",
       "1                        0                     0       2         0  ...   \n",
       "2                        0                     1       1         0  ...   \n",
       "3                        0                     1       1         0  ...   \n",
       "4                        0                     2       2         0  ...   \n",
       "\n",
       "   customer_type required_car_parking_spaces total_of_special_requests  \\\n",
       "0      Transient                           0                         0   \n",
       "1      Transient                           0                         0   \n",
       "2      Transient                           0                         0   \n",
       "3      Transient                           0                         0   \n",
       "4      Transient                           0                         1   \n",
       "\n",
       "  reservation_status reservation_status_date  adr_pp  Room DaysWaiting  \\\n",
       "0          Check-Out              2015-07-01     0.0     1  No Waiting   \n",
       "1          Check-Out              2015-07-01     0.0     1  No Waiting   \n",
       "2          Check-Out              2015-07-02    75.0     0  No Waiting   \n",
       "3          Check-Out              2015-07-02    75.0     1  No Waiting   \n",
       "4          Check-Out              2015-07-03    49.0     1  No Waiting   \n",
       "\n",
       "   net_cancelled lead_category  \n",
       "0              0        Medium  \n",
       "1              0          High  \n",
       "2              0           Low  \n",
       "3              0           Low  \n",
       "4              0           Low  \n",
       "\n",
       "[5 rows x 29 columns]"
      ]
     },
     "execution_count": 55,
     "metadata": {},
     "output_type": "execute_result"
    }
   ],
   "source": [
    "df_copy_no_yfe.head()"
   ]
  },
  {
   "cell_type": "code",
   "execution_count": 56,
   "metadata": {},
   "outputs": [
    {
     "name": "stdout",
     "output_type": "stream",
     "text": [
      "hotel\n",
      "is_canceled\n",
      "arrival_date_year\n",
      "arrival_date_month\n",
      "arrival_date_week_number\n",
      "arrival_date_day_of_month\n",
      "stays_in_weekend_nights\n",
      "stays_in_week_nights\n",
      "adults\n",
      "children\n",
      "babies\n",
      "meal\n",
      "country\n",
      "market_segment\n",
      "distribution_channel\n",
      "is_repeated_guest\n",
      "booking_changes\n",
      "deposit_type\n",
      "agent\n",
      "customer_type\n",
      "required_car_parking_spaces\n",
      "total_of_special_requests\n",
      "reservation_status\n",
      "reservation_status_date\n",
      "adr_pp\n",
      "Room\n",
      "DaysWaiting\n",
      "net_cancelled\n",
      "lead_category\n"
     ]
    }
   ],
   "source": [
    "for ele in df_copy_no_yfe.columns:\n",
    "    print(ele)"
   ]
  },
  {
   "cell_type": "code",
   "execution_count": 57,
   "metadata": {},
   "outputs": [],
   "source": [
    "pd.set_option(\"display.max_rows\", None)"
   ]
  },
  {
   "cell_type": "code",
   "execution_count": 58,
   "metadata": {},
   "outputs": [],
   "source": [
    "country_list = df_copy_no_yfe['country'].value_counts(normalize = True)[(df_copy_no_yfe['country'].value_counts(normalize = True) * 100) < 1].index"
   ]
  },
  {
   "cell_type": "code",
   "execution_count": 59,
   "metadata": {},
   "outputs": [
    {
     "data": {
      "text/plain": [
       "Index(['SWE', 'CHN', 'POL', 'ISR', 'RUS', 'NOR', 'ROU', 'FIN', 'DNK', 'AUS',\n",
       "       ...\n",
       "       'GUY', 'FJI', 'HND', 'LCA', 'PLW', 'ATF', 'CYM', 'NCL', 'SMR', 'SDN'],\n",
       "      dtype='object', length=163)"
      ]
     },
     "execution_count": 59,
     "metadata": {},
     "output_type": "execute_result"
    }
   ],
   "source": [
    "country_list"
   ]
  },
  {
   "cell_type": "code",
   "execution_count": 60,
   "metadata": {},
   "outputs": [
    {
     "data": {
      "text/plain": [
       "Europe           107606\n",
       "Asia               3809\n",
       "North America      3535\n",
       "South America      2720\n",
       "Africa             1032\n",
       "Oceania             506\n",
       "Antarctica            2\n",
       "Name: country, dtype: int64"
      ]
     },
     "execution_count": 60,
     "metadata": {},
     "output_type": "execute_result"
    }
   ],
   "source": [
    "df_copy_no_yfe['country'].replace(['CHN', 'ISR', 'RUS', 'TUR', 'JPN', 'IND', 'KOR', 'IRN', 'ZAF', \n",
    "                                   'THA', 'TWN', 'ARE', 'SAU', 'PHL', 'SGP', 'IDN', 'LBN', 'HKG', \n",
    "                                   'MYS', 'JOR', 'KAZ', 'OMN', 'KWT', 'QAT', 'PAK', 'IRQ', 'LAO', 'MMR', 'NPL',\n",
    "                                   'MDV', 'BGD', 'TJK', 'VNM', 'ARM', 'LKA', 'BHR', 'UZB', 'TMP', 'KHM', 'MAC', 'SYR'],\n",
    "                                   'Asia', inplace = True)\n",
    "\n",
    "df_copy_no_yfe['country'].replace(['PRT', 'GBR', 'FRA', 'ESP', 'DEU', 'ITA', 'IRL', 'BEL', 'NLD', 'CHE', 'AUT', 'SWE', \n",
    "                                   'POL', 'NOR', 'ROU', 'FIN', 'DNK', 'LUX', 'HUN', 'CZE', 'GRC', 'SRB', 'HRV', 'EST',\n",
    "                                   'LTU', 'BGR', 'ALB', 'JEY', 'AND', 'FRO', 'MNE', 'MCO', 'GGY',\n",
    "                                   'LIE', 'MYT', 'SMR', 'ATF', 'UKR', 'SVK', 'ISL', 'SVN', 'LVA', 'CYP', 'BLR',\n",
    "                                   'GEO', 'MLT', 'GIB', 'AZE', 'BIH', 'IMN', 'MKD'], 'Europe', inplace = True)\n",
    "\n",
    "df_copy_no_yfe['country'].replace(['BRA', 'ARG','PRI', 'SUR', 'PRY', 'ABW', 'GUY', 'COL', 'CHL', 'URY', 'PER', 'ECU',\n",
    "                                   'VEN', 'BOL'], 'South America', inplace = True)\n",
    "\n",
    "df_copy_no_yfe['country'].replace(['USA', 'CN', 'MEX', 'PAN', 'CUB', 'JAM', 'BRB', 'SLV', 'GLP', 'UMI', 'HND', 'NIC', \n",
    "                                   'CYM', 'BHS', 'VGB', 'LCA', 'AIA', 'CRI', 'DOM', 'KNA', 'GTM'], \n",
    "                                   'North America', inplace = True)\n",
    "\n",
    "df_copy_no_yfe['country'].replace(['AGO', 'MAR', 'DZA', 'SEN', 'CMR', 'GNB', 'MUS', 'KEN', 'CIV', 'TZA', 'CAF',\n",
    "                                   'ZWE', 'GAB', 'GHA', 'ETH', 'BEN', 'ZMB', 'SYC', 'COM', 'RWA', 'TGO', 'UGA', 'BWA', \n",
    "                                   'MRT', 'DJI', 'MLI', 'SDN', 'BFA','SLE', 'MDG', 'DMA', 'BDI', 'MOZ', 'TUN', 'NGA',\n",
    "                                   'EGY', 'CPV', 'MWI', 'STP', 'LBY', 'NAM'], 'Africa', inplace = True)\n",
    "\n",
    "df_copy_no_yfe['country'].replace(['AUS', 'NZL', 'ASM', 'PLW', 'NCL', 'PYF', 'FJI', 'KIR'], 'Oceania', inplace = True)\n",
    "\n",
    "df_copy_no_yfe['country'].replace('ATA', 'Antarctica', inplace = True)\n",
    "\n",
    "df_copy_no_yfe['country'].value_counts()"
   ]
  },
  {
   "cell_type": "code",
   "execution_count": 61,
   "metadata": {},
   "outputs": [
    {
     "data": {
      "text/plain": [
       "Index(['hotel', 'is_canceled', 'arrival_date_year', 'arrival_date_month',\n",
       "       'arrival_date_week_number', 'arrival_date_day_of_month',\n",
       "       'stays_in_weekend_nights', 'stays_in_week_nights', 'adults', 'children',\n",
       "       'babies', 'meal', 'country', 'market_segment', 'distribution_channel',\n",
       "       'is_repeated_guest', 'booking_changes', 'deposit_type', 'agent',\n",
       "       'customer_type', 'required_car_parking_spaces',\n",
       "       'total_of_special_requests', 'reservation_status',\n",
       "       'reservation_status_date', 'adr_pp', 'Room', 'DaysWaiting',\n",
       "       'net_cancelled', 'lead_category'],\n",
       "      dtype='object')"
      ]
     },
     "execution_count": 61,
     "metadata": {},
     "output_type": "execute_result"
    }
   ],
   "source": [
    "df_copy_no_yfe.columns"
   ]
  },
  {
   "cell_type": "code",
   "execution_count": 62,
   "metadata": {},
   "outputs": [
    {
     "data": {
      "text/plain": [
       "(119210, 29)"
      ]
     },
     "execution_count": 62,
     "metadata": {},
     "output_type": "execute_result"
    }
   ],
   "source": [
    "df_copy_no_yfe.shape"
   ]
  },
  {
   "cell_type": "code",
   "execution_count": 63,
   "metadata": {},
   "outputs": [
    {
     "data": {
      "text/plain": [
       "0"
      ]
     },
     "execution_count": 63,
     "metadata": {},
     "output_type": "execute_result"
    }
   ],
   "source": [
    "df_copy_no_yfe['is_canceled'].isnull().sum()"
   ]
  },
  {
   "cell_type": "code",
   "execution_count": 64,
   "metadata": {},
   "outputs": [],
   "source": [
    "df_copy_no_yfe.drop(['arrival_date_year', 'arrival_date_week_number', 'arrival_date_day_of_month'], axis = 1, inplace = True)"
   ]
  },
  {
   "cell_type": "code",
   "execution_count": 65,
   "metadata": {},
   "outputs": [],
   "source": [
    "df_copy_no_yfe.drop(['reservation_status', 'reservation_status_date'], axis = 1, inplace = True)"
   ]
  },
  {
   "cell_type": "code",
   "execution_count": 66,
   "metadata": {},
   "outputs": [
    {
     "data": {
      "text/plain": [
       "Index(['hotel', 'is_canceled', 'arrival_date_month', 'stays_in_weekend_nights',\n",
       "       'stays_in_week_nights', 'adults', 'children', 'babies', 'meal',\n",
       "       'country', 'market_segment', 'distribution_channel',\n",
       "       'is_repeated_guest', 'booking_changes', 'deposit_type', 'agent',\n",
       "       'customer_type', 'required_car_parking_spaces',\n",
       "       'total_of_special_requests', 'adr_pp', 'Room', 'DaysWaiting',\n",
       "       'net_cancelled', 'lead_category'],\n",
       "      dtype='object')"
      ]
     },
     "execution_count": 66,
     "metadata": {},
     "output_type": "execute_result"
    }
   ],
   "source": [
    "df_copy_no_yfe.columns"
   ]
  },
  {
   "cell_type": "code",
   "execution_count": 67,
   "metadata": {},
   "outputs": [
    {
     "data": {
      "text/plain": [
       "Index(['hotel', 'arrival_date_month', 'meal', 'country', 'market_segment',\n",
       "       'distribution_channel', 'deposit_type', 'customer_type', 'DaysWaiting',\n",
       "       'lead_category'],\n",
       "      dtype='object')"
      ]
     },
     "execution_count": 67,
     "metadata": {},
     "output_type": "execute_result"
    }
   ],
   "source": [
    "df_copy_no_yfe.select_dtypes(include = np.object).columns"
   ]
  },
  {
   "cell_type": "code",
   "execution_count": 68,
   "metadata": {},
   "outputs": [
    {
     "data": {
      "text/plain": [
       "0    111801\n",
       "1      7376\n",
       "2        28\n",
       "3         3\n",
       "8         2\n",
       "Name: required_car_parking_spaces, dtype: int64"
      ]
     },
     "execution_count": 68,
     "metadata": {},
     "output_type": "execute_result"
    }
   ],
   "source": [
    "df_copy_no_yfe['required_car_parking_spaces'].value_counts()"
   ]
  },
  {
   "cell_type": "code",
   "execution_count": 69,
   "metadata": {},
   "outputs": [
    {
     "name": "stdout",
     "output_type": "stream",
     "text": [
      "hotel\n",
      "is_canceled\n",
      "children\n",
      "babies\n",
      "meal\n",
      "country\n",
      "market_segment\n",
      "distribution_channel\n",
      "is_repeated_guest\n",
      "deposit_type\n",
      "customer_type\n",
      "required_car_parking_spaces\n",
      "total_of_special_requests\n",
      "Room\n",
      "DaysWaiting\n",
      "net_cancelled\n",
      "lead_category\n"
     ]
    }
   ],
   "source": [
    "for col in df_copy_no_yfe.columns :\n",
    "    if df_copy_no_yfe[col].nunique() < 10 :\n",
    "        print(col)"
   ]
  },
  {
   "cell_type": "code",
   "execution_count": 70,
   "metadata": {},
   "outputs": [],
   "source": [
    "def Bookingchanges(ele):\n",
    "    if ele == 0:\n",
    "        return 'No changes'\n",
    "    elif ele >= 1 and ele <= 5:\n",
    "        return 'Few changes'\n",
    "    else:\n",
    "        return 'More changes'"
   ]
  },
  {
   "cell_type": "code",
   "execution_count": 71,
   "metadata": {},
   "outputs": [],
   "source": [
    "df_copy_no_yfe['booking_changes'] = df_copy_no_yfe['booking_changes'].apply(Bookingchanges)"
   ]
  },
  {
   "cell_type": "code",
   "execution_count": 72,
   "metadata": {},
   "outputs": [
    {
     "data": {
      "text/plain": [
       "No changes      101232\n",
       "Few changes      17842\n",
       "More changes       136\n",
       "Name: booking_changes, dtype: int64"
      ]
     },
     "execution_count": 72,
     "metadata": {},
     "output_type": "execute_result"
    }
   ],
   "source": [
    "df_copy_no_yfe['booking_changes'].value_counts()"
   ]
  },
  {
   "cell_type": "code",
   "execution_count": 73,
   "metadata": {},
   "outputs": [],
   "source": [
    "def season(ele):\n",
    "    if ele in ('December','January'):\n",
    "        return 'Winter'\n",
    "    elif ele in ('February','March'):\n",
    "        return 'Spring'\n",
    "    elif ele in ('April','May','June'):\n",
    "        return 'Summer'\n",
    "    elif ele in ('July','August','September'):\n",
    "        return 'Monsoon'\n",
    "    else:\n",
    "        return 'Autumn'"
   ]
  },
  {
   "cell_type": "code",
   "execution_count": 74,
   "metadata": {},
   "outputs": [
    {
     "data": {
      "text/plain": [
       "Monsoon    37005\n",
       "Summer     33787\n",
       "Autumn     17918\n",
       "Spring     17820\n",
       "Winter     12680\n",
       "Name: arrival_date_month, dtype: int64"
      ]
     },
     "execution_count": 74,
     "metadata": {},
     "output_type": "execute_result"
    }
   ],
   "source": [
    "df_copy_no_yfe['arrival_date_month']=df_copy_no_yfe['arrival_date_month'].apply(season)\n",
    "df_copy_no_yfe['arrival_date_month'].value_counts()"
   ]
  },
  {
   "cell_type": "code",
   "execution_count": 75,
   "metadata": {},
   "outputs": [],
   "source": [
    "df_copy_no_yfe.drop('agent', axis = 1, inplace = True)"
   ]
  },
  {
   "cell_type": "code",
   "execution_count": 76,
   "metadata": {},
   "outputs": [
    {
     "data": {
      "text/html": [
       "<div>\n",
       "<style scoped>\n",
       "    .dataframe tbody tr th:only-of-type {\n",
       "        vertical-align: middle;\n",
       "    }\n",
       "\n",
       "    .dataframe tbody tr th {\n",
       "        vertical-align: top;\n",
       "    }\n",
       "\n",
       "    .dataframe thead th {\n",
       "        text-align: right;\n",
       "    }\n",
       "</style>\n",
       "<table border=\"1\" class=\"dataframe\">\n",
       "  <thead>\n",
       "    <tr style=\"text-align: right;\">\n",
       "      <th></th>\n",
       "      <th>hotel</th>\n",
       "      <th>is_canceled</th>\n",
       "      <th>arrival_date_month</th>\n",
       "      <th>stays_in_weekend_nights</th>\n",
       "      <th>stays_in_week_nights</th>\n",
       "      <th>adults</th>\n",
       "      <th>children</th>\n",
       "      <th>babies</th>\n",
       "      <th>meal</th>\n",
       "      <th>country</th>\n",
       "      <th>...</th>\n",
       "      <th>booking_changes</th>\n",
       "      <th>deposit_type</th>\n",
       "      <th>customer_type</th>\n",
       "      <th>required_car_parking_spaces</th>\n",
       "      <th>total_of_special_requests</th>\n",
       "      <th>adr_pp</th>\n",
       "      <th>Room</th>\n",
       "      <th>DaysWaiting</th>\n",
       "      <th>net_cancelled</th>\n",
       "      <th>lead_category</th>\n",
       "    </tr>\n",
       "  </thead>\n",
       "  <tbody>\n",
       "    <tr>\n",
       "      <th>0</th>\n",
       "      <td>Resort Hotel</td>\n",
       "      <td>0</td>\n",
       "      <td>Monsoon</td>\n",
       "      <td>0</td>\n",
       "      <td>0</td>\n",
       "      <td>2</td>\n",
       "      <td>0</td>\n",
       "      <td>0</td>\n",
       "      <td>BB</td>\n",
       "      <td>Europe</td>\n",
       "      <td>...</td>\n",
       "      <td>Few changes</td>\n",
       "      <td>No Deposit</td>\n",
       "      <td>Transient</td>\n",
       "      <td>0</td>\n",
       "      <td>0</td>\n",
       "      <td>0.0</td>\n",
       "      <td>1</td>\n",
       "      <td>No Waiting</td>\n",
       "      <td>0</td>\n",
       "      <td>Medium</td>\n",
       "    </tr>\n",
       "    <tr>\n",
       "      <th>1</th>\n",
       "      <td>Resort Hotel</td>\n",
       "      <td>0</td>\n",
       "      <td>Monsoon</td>\n",
       "      <td>0</td>\n",
       "      <td>0</td>\n",
       "      <td>2</td>\n",
       "      <td>0</td>\n",
       "      <td>0</td>\n",
       "      <td>BB</td>\n",
       "      <td>Europe</td>\n",
       "      <td>...</td>\n",
       "      <td>Few changes</td>\n",
       "      <td>No Deposit</td>\n",
       "      <td>Transient</td>\n",
       "      <td>0</td>\n",
       "      <td>0</td>\n",
       "      <td>0.0</td>\n",
       "      <td>1</td>\n",
       "      <td>No Waiting</td>\n",
       "      <td>0</td>\n",
       "      <td>High</td>\n",
       "    </tr>\n",
       "    <tr>\n",
       "      <th>2</th>\n",
       "      <td>Resort Hotel</td>\n",
       "      <td>0</td>\n",
       "      <td>Monsoon</td>\n",
       "      <td>0</td>\n",
       "      <td>1</td>\n",
       "      <td>1</td>\n",
       "      <td>0</td>\n",
       "      <td>0</td>\n",
       "      <td>BB</td>\n",
       "      <td>Europe</td>\n",
       "      <td>...</td>\n",
       "      <td>No changes</td>\n",
       "      <td>No Deposit</td>\n",
       "      <td>Transient</td>\n",
       "      <td>0</td>\n",
       "      <td>0</td>\n",
       "      <td>75.0</td>\n",
       "      <td>0</td>\n",
       "      <td>No Waiting</td>\n",
       "      <td>0</td>\n",
       "      <td>Low</td>\n",
       "    </tr>\n",
       "    <tr>\n",
       "      <th>3</th>\n",
       "      <td>Resort Hotel</td>\n",
       "      <td>0</td>\n",
       "      <td>Monsoon</td>\n",
       "      <td>0</td>\n",
       "      <td>1</td>\n",
       "      <td>1</td>\n",
       "      <td>0</td>\n",
       "      <td>0</td>\n",
       "      <td>BB</td>\n",
       "      <td>Europe</td>\n",
       "      <td>...</td>\n",
       "      <td>No changes</td>\n",
       "      <td>No Deposit</td>\n",
       "      <td>Transient</td>\n",
       "      <td>0</td>\n",
       "      <td>0</td>\n",
       "      <td>75.0</td>\n",
       "      <td>1</td>\n",
       "      <td>No Waiting</td>\n",
       "      <td>0</td>\n",
       "      <td>Low</td>\n",
       "    </tr>\n",
       "    <tr>\n",
       "      <th>4</th>\n",
       "      <td>Resort Hotel</td>\n",
       "      <td>0</td>\n",
       "      <td>Monsoon</td>\n",
       "      <td>0</td>\n",
       "      <td>2</td>\n",
       "      <td>2</td>\n",
       "      <td>0</td>\n",
       "      <td>0</td>\n",
       "      <td>BB</td>\n",
       "      <td>Europe</td>\n",
       "      <td>...</td>\n",
       "      <td>No changes</td>\n",
       "      <td>No Deposit</td>\n",
       "      <td>Transient</td>\n",
       "      <td>0</td>\n",
       "      <td>1</td>\n",
       "      <td>49.0</td>\n",
       "      <td>1</td>\n",
       "      <td>No Waiting</td>\n",
       "      <td>0</td>\n",
       "      <td>Low</td>\n",
       "    </tr>\n",
       "  </tbody>\n",
       "</table>\n",
       "<p>5 rows × 23 columns</p>\n",
       "</div>"
      ],
      "text/plain": [
       "          hotel  is_canceled arrival_date_month  stays_in_weekend_nights  \\\n",
       "0  Resort Hotel            0            Monsoon                        0   \n",
       "1  Resort Hotel            0            Monsoon                        0   \n",
       "2  Resort Hotel            0            Monsoon                        0   \n",
       "3  Resort Hotel            0            Monsoon                        0   \n",
       "4  Resort Hotel            0            Monsoon                        0   \n",
       "\n",
       "   stays_in_week_nights  adults  children  babies meal country  ...  \\\n",
       "0                     0       2         0       0   BB  Europe  ...   \n",
       "1                     0       2         0       0   BB  Europe  ...   \n",
       "2                     1       1         0       0   BB  Europe  ...   \n",
       "3                     1       1         0       0   BB  Europe  ...   \n",
       "4                     2       2         0       0   BB  Europe  ...   \n",
       "\n",
       "  booking_changes deposit_type  customer_type required_car_parking_spaces  \\\n",
       "0     Few changes   No Deposit      Transient                           0   \n",
       "1     Few changes   No Deposit      Transient                           0   \n",
       "2      No changes   No Deposit      Transient                           0   \n",
       "3      No changes   No Deposit      Transient                           0   \n",
       "4      No changes   No Deposit      Transient                           0   \n",
       "\n",
       "  total_of_special_requests adr_pp  Room  DaysWaiting  net_cancelled  \\\n",
       "0                         0    0.0     1   No Waiting              0   \n",
       "1                         0    0.0     1   No Waiting              0   \n",
       "2                         0   75.0     0   No Waiting              0   \n",
       "3                         0   75.0     1   No Waiting              0   \n",
       "4                         1   49.0     1   No Waiting              0   \n",
       "\n",
       "   lead_category  \n",
       "0         Medium  \n",
       "1           High  \n",
       "2            Low  \n",
       "3            Low  \n",
       "4            Low  \n",
       "\n",
       "[5 rows x 23 columns]"
      ]
     },
     "execution_count": 76,
     "metadata": {},
     "output_type": "execute_result"
    }
   ],
   "source": [
    "df_copy_no_yfe.head()"
   ]
  },
  {
   "cell_type": "code",
   "execution_count": 77,
   "metadata": {},
   "outputs": [
    {
     "data": {
      "text/plain": [
       "0"
      ]
     },
     "execution_count": 77,
     "metadata": {},
     "output_type": "execute_result"
    }
   ],
   "source": [
    "df_copy_no_yfe['is_canceled'].isnull().sum()"
   ]
  },
  {
   "cell_type": "code",
   "execution_count": 78,
   "metadata": {},
   "outputs": [
    {
     "data": {
      "text/plain": [
       "0    70201\n",
       "1    33183\n",
       "2    12952\n",
       "3     2494\n",
       "4      340\n",
       "5       40\n",
       "Name: total_of_special_requests, dtype: int64"
      ]
     },
     "execution_count": 78,
     "metadata": {},
     "output_type": "execute_result"
    }
   ],
   "source": [
    "df_copy_no_yfe['total_of_special_requests'].value_counts()"
   ]
  },
  {
   "cell_type": "code",
   "execution_count": 79,
   "metadata": {},
   "outputs": [],
   "source": [
    "df_copy_no_yfe['total_of_special_requests'] = df_copy_no_yfe['total_of_special_requests'].apply(str)\n",
    "df_copy_no_yfe['required_car_parking_spaces'] = df_copy_no_yfe['required_car_parking_spaces'].apply(str)"
   ]
  },
  {
   "cell_type": "code",
   "execution_count": 80,
   "metadata": {},
   "outputs": [
    {
     "data": {
      "text/plain": [
       "dtype('O')"
      ]
     },
     "execution_count": 80,
     "metadata": {},
     "output_type": "execute_result"
    }
   ],
   "source": [
    "df_copy_no_yfe['total_of_special_requests'].dtypes"
   ]
  },
  {
   "cell_type": "code",
   "execution_count": 81,
   "metadata": {},
   "outputs": [
    {
     "data": {
      "text/plain": [
       "Index(['hotel', 'is_canceled', 'arrival_date_month', 'stays_in_weekend_nights',\n",
       "       'stays_in_week_nights', 'adults', 'children', 'babies', 'meal',\n",
       "       'country', 'market_segment', 'distribution_channel',\n",
       "       'is_repeated_guest', 'booking_changes', 'deposit_type', 'customer_type',\n",
       "       'required_car_parking_spaces', 'total_of_special_requests', 'adr_pp',\n",
       "       'Room', 'DaysWaiting', 'net_cancelled', 'lead_category'],\n",
       "      dtype='object')"
      ]
     },
     "execution_count": 81,
     "metadata": {},
     "output_type": "execute_result"
    }
   ],
   "source": [
    "df_copy_no_yfe.columns"
   ]
  },
  {
   "cell_type": "markdown",
   "metadata": {},
   "source": [
    "#### Statistical Tests to select Significant Features and Encoding"
   ]
  },
  {
   "cell_type": "code",
   "execution_count": 82,
   "metadata": {},
   "outputs": [],
   "source": [
    "cat = [\"country\", \"meal\", \"arrival_date_month\", \"market_segment\", \"customer_type\", \"deposit_type\", \"distribution_channel\",\n",
    "      \"hotel\", \"Room\", \"total_of_special_requests\", \"required_car_parking_spaces\", \"booking_changes\", \"DaysWaiting\", \n",
    "       \"net_cancelled\", \"lead_category\", \"is_repeated_guest\"]\n",
    "num = ['stays_in_weekend_nights', 'stays_in_week_nights', 'adults', 'children', 'babies', 'adr_pp']"
   ]
  },
  {
   "cell_type": "code",
   "execution_count": 83,
   "metadata": {},
   "outputs": [
    {
     "name": "stdout",
     "output_type": "stream",
     "text": [
      "country : 7\n",
      "meal : 5\n",
      "arrival_date_month : 5\n",
      "market_segment : 8\n",
      "customer_type : 4\n",
      "deposit_type : 3\n",
      "distribution_channel : 5\n",
      "hotel : 2\n",
      "Room : 2\n",
      "total_of_special_requests : 6\n",
      "required_car_parking_spaces : 5\n",
      "booking_changes : 3\n",
      "DaysWaiting : 4\n",
      "net_cancelled : 2\n",
      "lead_category : 4\n",
      "is_repeated_guest : 2\n"
     ]
    }
   ],
   "source": [
    "cat_2 = []\n",
    "cat_more = []\n",
    "for ele in cat :\n",
    "    print(ele, \":\", df_copy_no_yfe[ele].nunique())\n",
    "    if df_copy_no_yfe[ele].nunique() == 2 :\n",
    "        cat_2.append(ele)\n",
    "    else :\n",
    "        cat_more.append(ele)"
   ]
  },
  {
   "cell_type": "code",
   "execution_count": 84,
   "metadata": {},
   "outputs": [
    {
     "data": {
      "text/plain": [
       "['hotel', 'Room', 'net_cancelled', 'is_repeated_guest']"
      ]
     },
     "execution_count": 84,
     "metadata": {},
     "output_type": "execute_result"
    }
   ],
   "source": [
    "cat_2"
   ]
  },
  {
   "cell_type": "code",
   "execution_count": 85,
   "metadata": {},
   "outputs": [
    {
     "data": {
      "text/plain": [
       "0    115455\n",
       "1      3755\n",
       "Name: is_repeated_guest, dtype: int64"
      ]
     },
     "execution_count": 85,
     "metadata": {},
     "output_type": "execute_result"
    }
   ],
   "source": [
    "df_copy_no_yfe['is_repeated_guest'].value_counts()"
   ]
  },
  {
   "cell_type": "code",
   "execution_count": 86,
   "metadata": {},
   "outputs": [
    {
     "data": {
      "text/plain": [
       "['country',\n",
       " 'meal',\n",
       " 'arrival_date_month',\n",
       " 'market_segment',\n",
       " 'customer_type',\n",
       " 'deposit_type',\n",
       " 'distribution_channel',\n",
       " 'total_of_special_requests',\n",
       " 'required_car_parking_spaces',\n",
       " 'booking_changes',\n",
       " 'DaysWaiting',\n",
       " 'lead_category']"
      ]
     },
     "execution_count": 86,
     "metadata": {},
     "output_type": "execute_result"
    }
   ],
   "source": [
    "cat_more"
   ]
  },
  {
   "cell_type": "code",
   "execution_count": 87,
   "metadata": {},
   "outputs": [],
   "source": [
    "from scipy.stats import chi2_contingency"
   ]
  },
  {
   "cell_type": "code",
   "execution_count": 88,
   "metadata": {},
   "outputs": [],
   "source": [
    "sig_features_cat_2 = []\n",
    "p_values_cat_2 = []\n",
    "for col in cat_2 :\n",
    "    obs_val = pd.crosstab(df_copy_no_yfe[col], df_copy_no_yfe['is_canceled'])\n",
    "    p_values_cat_2.append((col, chi2_contingency(obs_val)[1]))\n",
    "    if chi2_contingency(obs_val)[1] < 0.05 :\n",
    "        sig_features_cat_2.append(col)"
   ]
  },
  {
   "cell_type": "code",
   "execution_count": 89,
   "metadata": {},
   "outputs": [
    {
     "data": {
      "text/plain": [
       "[('hotel', 0.0),\n",
       " ('Room', 0.0),\n",
       " ('net_cancelled', 0.0),\n",
       " ('is_repeated_guest', 1.2849981092697814e-183)]"
      ]
     },
     "execution_count": 89,
     "metadata": {},
     "output_type": "execute_result"
    }
   ],
   "source": [
    "p_values_cat_2"
   ]
  },
  {
   "cell_type": "code",
   "execution_count": 90,
   "metadata": {},
   "outputs": [
    {
     "data": {
      "text/plain": [
       "['hotel', 'Room', 'net_cancelled', 'is_repeated_guest']"
      ]
     },
     "execution_count": 90,
     "metadata": {},
     "output_type": "execute_result"
    }
   ],
   "source": [
    "sig_features_cat_2"
   ]
  },
  {
   "cell_type": "code",
   "execution_count": 91,
   "metadata": {},
   "outputs": [
    {
     "data": {
      "text/plain": [
       "['country',\n",
       " 'meal',\n",
       " 'arrival_date_month',\n",
       " 'market_segment',\n",
       " 'customer_type',\n",
       " 'deposit_type',\n",
       " 'distribution_channel',\n",
       " 'total_of_special_requests',\n",
       " 'required_car_parking_spaces',\n",
       " 'booking_changes',\n",
       " 'DaysWaiting',\n",
       " 'lead_category']"
      ]
     },
     "execution_count": 91,
     "metadata": {},
     "output_type": "execute_result"
    }
   ],
   "source": [
    "cat_more"
   ]
  },
  {
   "cell_type": "code",
   "execution_count": 92,
   "metadata": {},
   "outputs": [],
   "source": [
    "cat_new = ['hotel','country',\n",
    " 'meal',\n",
    " 'arrival_date_month',\n",
    " 'market_segment',\n",
    " 'customer_type',\n",
    " 'deposit_type',\n",
    " 'distribution_channel',\n",
    " 'total_of_special_requests',\n",
    " 'required_car_parking_spaces',\n",
    " 'booking_changes',\n",
    " 'DaysWaiting',\n",
    " 'lead_category']"
   ]
  },
  {
   "cell_type": "code",
   "execution_count": 93,
   "metadata": {},
   "outputs": [
    {
     "data": {
      "text/html": [
       "<div>\n",
       "<style scoped>\n",
       "    .dataframe tbody tr th:only-of-type {\n",
       "        vertical-align: middle;\n",
       "    }\n",
       "\n",
       "    .dataframe tbody tr th {\n",
       "        vertical-align: top;\n",
       "    }\n",
       "\n",
       "    .dataframe thead th {\n",
       "        text-align: right;\n",
       "    }\n",
       "</style>\n",
       "<table border=\"1\" class=\"dataframe\">\n",
       "  <thead>\n",
       "    <tr style=\"text-align: right;\">\n",
       "      <th></th>\n",
       "      <th>Pair</th>\n",
       "      <th>Hypothesis</th>\n",
       "    </tr>\n",
       "  </thead>\n",
       "  <tbody>\n",
       "    <tr>\n",
       "      <th>0</th>\n",
       "      <td>hotel_City Hotel</td>\n",
       "      <td>Alternate Hypothesis</td>\n",
       "    </tr>\n",
       "    <tr>\n",
       "      <th>1</th>\n",
       "      <td>hotel_Resort Hotel</td>\n",
       "      <td>Alternate Hypothesis</td>\n",
       "    </tr>\n",
       "    <tr>\n",
       "      <th>2</th>\n",
       "      <td>country_Africa</td>\n",
       "      <td>Alternate Hypothesis</td>\n",
       "    </tr>\n",
       "    <tr>\n",
       "      <th>3</th>\n",
       "      <td>country_Antarctica</td>\n",
       "      <td>Null Hypothesis</td>\n",
       "    </tr>\n",
       "    <tr>\n",
       "      <th>4</th>\n",
       "      <td>country_Asia</td>\n",
       "      <td>Null Hypothesis</td>\n",
       "    </tr>\n",
       "    <tr>\n",
       "      <th>5</th>\n",
       "      <td>country_Europe</td>\n",
       "      <td>Alternate Hypothesis</td>\n",
       "    </tr>\n",
       "    <tr>\n",
       "      <th>6</th>\n",
       "      <td>country_North America</td>\n",
       "      <td>Alternate Hypothesis</td>\n",
       "    </tr>\n",
       "    <tr>\n",
       "      <th>7</th>\n",
       "      <td>country_Oceania</td>\n",
       "      <td>Alternate Hypothesis</td>\n",
       "    </tr>\n",
       "    <tr>\n",
       "      <th>8</th>\n",
       "      <td>country_South America</td>\n",
       "      <td>Null Hypothesis</td>\n",
       "    </tr>\n",
       "    <tr>\n",
       "      <th>9</th>\n",
       "      <td>meal_BB</td>\n",
       "      <td>Alternate Hypothesis</td>\n",
       "    </tr>\n",
       "    <tr>\n",
       "      <th>10</th>\n",
       "      <td>meal_FB</td>\n",
       "      <td>Alternate Hypothesis</td>\n",
       "    </tr>\n",
       "    <tr>\n",
       "      <th>11</th>\n",
       "      <td>meal_HB</td>\n",
       "      <td>Alternate Hypothesis</td>\n",
       "    </tr>\n",
       "    <tr>\n",
       "      <th>12</th>\n",
       "      <td>meal_SC</td>\n",
       "      <td>Null Hypothesis</td>\n",
       "    </tr>\n",
       "    <tr>\n",
       "      <th>13</th>\n",
       "      <td>meal_Undefined</td>\n",
       "      <td>Alternate Hypothesis</td>\n",
       "    </tr>\n",
       "    <tr>\n",
       "      <th>14</th>\n",
       "      <td>arrival_date_month_Autumn</td>\n",
       "      <td>Alternate Hypothesis</td>\n",
       "    </tr>\n",
       "    <tr>\n",
       "      <th>15</th>\n",
       "      <td>arrival_date_month_Monsoon</td>\n",
       "      <td>Alternate Hypothesis</td>\n",
       "    </tr>\n",
       "    <tr>\n",
       "      <th>16</th>\n",
       "      <td>arrival_date_month_Spring</td>\n",
       "      <td>Alternate Hypothesis</td>\n",
       "    </tr>\n",
       "    <tr>\n",
       "      <th>17</th>\n",
       "      <td>arrival_date_month_Summer</td>\n",
       "      <td>Alternate Hypothesis</td>\n",
       "    </tr>\n",
       "    <tr>\n",
       "      <th>18</th>\n",
       "      <td>arrival_date_month_Winter</td>\n",
       "      <td>Alternate Hypothesis</td>\n",
       "    </tr>\n",
       "    <tr>\n",
       "      <th>19</th>\n",
       "      <td>market_segment_Aviation</td>\n",
       "      <td>Alternate Hypothesis</td>\n",
       "    </tr>\n",
       "    <tr>\n",
       "      <th>20</th>\n",
       "      <td>market_segment_Complementary</td>\n",
       "      <td>Alternate Hypothesis</td>\n",
       "    </tr>\n",
       "    <tr>\n",
       "      <th>21</th>\n",
       "      <td>market_segment_Corporate</td>\n",
       "      <td>Alternate Hypothesis</td>\n",
       "    </tr>\n",
       "    <tr>\n",
       "      <th>22</th>\n",
       "      <td>market_segment_Direct</td>\n",
       "      <td>Alternate Hypothesis</td>\n",
       "    </tr>\n",
       "    <tr>\n",
       "      <th>23</th>\n",
       "      <td>market_segment_Groups</td>\n",
       "      <td>Alternate Hypothesis</td>\n",
       "    </tr>\n",
       "    <tr>\n",
       "      <th>24</th>\n",
       "      <td>market_segment_Offline TA/TO</td>\n",
       "      <td>Alternate Hypothesis</td>\n",
       "    </tr>\n",
       "    <tr>\n",
       "      <th>25</th>\n",
       "      <td>market_segment_Online TA</td>\n",
       "      <td>Null Hypothesis</td>\n",
       "    </tr>\n",
       "    <tr>\n",
       "      <th>26</th>\n",
       "      <td>market_segment_Undefined</td>\n",
       "      <td>Null Hypothesis</td>\n",
       "    </tr>\n",
       "    <tr>\n",
       "      <th>27</th>\n",
       "      <td>customer_type_Contract</td>\n",
       "      <td>Alternate Hypothesis</td>\n",
       "    </tr>\n",
       "    <tr>\n",
       "      <th>28</th>\n",
       "      <td>customer_type_Group</td>\n",
       "      <td>Alternate Hypothesis</td>\n",
       "    </tr>\n",
       "    <tr>\n",
       "      <th>29</th>\n",
       "      <td>customer_type_Transient</td>\n",
       "      <td>Alternate Hypothesis</td>\n",
       "    </tr>\n",
       "    <tr>\n",
       "      <th>30</th>\n",
       "      <td>customer_type_Transient-Party</td>\n",
       "      <td>Alternate Hypothesis</td>\n",
       "    </tr>\n",
       "    <tr>\n",
       "      <th>31</th>\n",
       "      <td>deposit_type_No Deposit</td>\n",
       "      <td>Alternate Hypothesis</td>\n",
       "    </tr>\n",
       "    <tr>\n",
       "      <th>32</th>\n",
       "      <td>deposit_type_Non Refund</td>\n",
       "      <td>Alternate Hypothesis</td>\n",
       "    </tr>\n",
       "    <tr>\n",
       "      <th>33</th>\n",
       "      <td>deposit_type_Refundable</td>\n",
       "      <td>Alternate Hypothesis</td>\n",
       "    </tr>\n",
       "    <tr>\n",
       "      <th>34</th>\n",
       "      <td>distribution_channel_Corporate</td>\n",
       "      <td>Alternate Hypothesis</td>\n",
       "    </tr>\n",
       "    <tr>\n",
       "      <th>35</th>\n",
       "      <td>distribution_channel_Direct</td>\n",
       "      <td>Alternate Hypothesis</td>\n",
       "    </tr>\n",
       "    <tr>\n",
       "      <th>36</th>\n",
       "      <td>distribution_channel_GDS</td>\n",
       "      <td>Alternate Hypothesis</td>\n",
       "    </tr>\n",
       "    <tr>\n",
       "      <th>37</th>\n",
       "      <td>distribution_channel_TA/TO</td>\n",
       "      <td>Alternate Hypothesis</td>\n",
       "    </tr>\n",
       "    <tr>\n",
       "      <th>38</th>\n",
       "      <td>distribution_channel_Undefined</td>\n",
       "      <td>Null Hypothesis</td>\n",
       "    </tr>\n",
       "    <tr>\n",
       "      <th>39</th>\n",
       "      <td>total_of_special_requests_0</td>\n",
       "      <td>Alternate Hypothesis</td>\n",
       "    </tr>\n",
       "    <tr>\n",
       "      <th>40</th>\n",
       "      <td>total_of_special_requests_1</td>\n",
       "      <td>Alternate Hypothesis</td>\n",
       "    </tr>\n",
       "    <tr>\n",
       "      <th>41</th>\n",
       "      <td>total_of_special_requests_2</td>\n",
       "      <td>Alternate Hypothesis</td>\n",
       "    </tr>\n",
       "    <tr>\n",
       "      <th>42</th>\n",
       "      <td>total_of_special_requests_3</td>\n",
       "      <td>Alternate Hypothesis</td>\n",
       "    </tr>\n",
       "    <tr>\n",
       "      <th>43</th>\n",
       "      <td>total_of_special_requests_4</td>\n",
       "      <td>Alternate Hypothesis</td>\n",
       "    </tr>\n",
       "    <tr>\n",
       "      <th>44</th>\n",
       "      <td>total_of_special_requests_5</td>\n",
       "      <td>Alternate Hypothesis</td>\n",
       "    </tr>\n",
       "    <tr>\n",
       "      <th>45</th>\n",
       "      <td>required_car_parking_spaces_0</td>\n",
       "      <td>Alternate Hypothesis</td>\n",
       "    </tr>\n",
       "    <tr>\n",
       "      <th>46</th>\n",
       "      <td>required_car_parking_spaces_1</td>\n",
       "      <td>Alternate Hypothesis</td>\n",
       "    </tr>\n",
       "    <tr>\n",
       "      <th>47</th>\n",
       "      <td>required_car_parking_spaces_2</td>\n",
       "      <td>Alternate Hypothesis</td>\n",
       "    </tr>\n",
       "    <tr>\n",
       "      <th>48</th>\n",
       "      <td>required_car_parking_spaces_3</td>\n",
       "      <td>Null Hypothesis</td>\n",
       "    </tr>\n",
       "    <tr>\n",
       "      <th>49</th>\n",
       "      <td>required_car_parking_spaces_8</td>\n",
       "      <td>Null Hypothesis</td>\n",
       "    </tr>\n",
       "    <tr>\n",
       "      <th>50</th>\n",
       "      <td>booking_changes_Few changes</td>\n",
       "      <td>Alternate Hypothesis</td>\n",
       "    </tr>\n",
       "    <tr>\n",
       "      <th>51</th>\n",
       "      <td>booking_changes_More changes</td>\n",
       "      <td>Alternate Hypothesis</td>\n",
       "    </tr>\n",
       "    <tr>\n",
       "      <th>52</th>\n",
       "      <td>booking_changes_No changes</td>\n",
       "      <td>Alternate Hypothesis</td>\n",
       "    </tr>\n",
       "    <tr>\n",
       "      <th>53</th>\n",
       "      <td>DaysWaiting_High</td>\n",
       "      <td>Alternate Hypothesis</td>\n",
       "    </tr>\n",
       "    <tr>\n",
       "      <th>54</th>\n",
       "      <td>DaysWaiting_Low</td>\n",
       "      <td>Alternate Hypothesis</td>\n",
       "    </tr>\n",
       "    <tr>\n",
       "      <th>55</th>\n",
       "      <td>DaysWaiting_Medium</td>\n",
       "      <td>Alternate Hypothesis</td>\n",
       "    </tr>\n",
       "    <tr>\n",
       "      <th>56</th>\n",
       "      <td>DaysWaiting_No Waiting</td>\n",
       "      <td>Alternate Hypothesis</td>\n",
       "    </tr>\n",
       "    <tr>\n",
       "      <th>57</th>\n",
       "      <td>lead_category_High</td>\n",
       "      <td>Alternate Hypothesis</td>\n",
       "    </tr>\n",
       "    <tr>\n",
       "      <th>58</th>\n",
       "      <td>lead_category_Low</td>\n",
       "      <td>Alternate Hypothesis</td>\n",
       "    </tr>\n",
       "    <tr>\n",
       "      <th>59</th>\n",
       "      <td>lead_category_Medium</td>\n",
       "      <td>Alternate Hypothesis</td>\n",
       "    </tr>\n",
       "    <tr>\n",
       "      <th>60</th>\n",
       "      <td>lead_category_No Lead Time</td>\n",
       "      <td>Alternate Hypothesis</td>\n",
       "    </tr>\n",
       "  </tbody>\n",
       "</table>\n",
       "</div>"
      ],
      "text/plain": [
       "                              Pair            Hypothesis\n",
       "0                 hotel_City Hotel  Alternate Hypothesis\n",
       "1               hotel_Resort Hotel  Alternate Hypothesis\n",
       "2                   country_Africa  Alternate Hypothesis\n",
       "3               country_Antarctica       Null Hypothesis\n",
       "4                     country_Asia       Null Hypothesis\n",
       "5                   country_Europe  Alternate Hypothesis\n",
       "6            country_North America  Alternate Hypothesis\n",
       "7                  country_Oceania  Alternate Hypothesis\n",
       "8            country_South America       Null Hypothesis\n",
       "9                          meal_BB  Alternate Hypothesis\n",
       "10                         meal_FB  Alternate Hypothesis\n",
       "11                         meal_HB  Alternate Hypothesis\n",
       "12                         meal_SC       Null Hypothesis\n",
       "13                  meal_Undefined  Alternate Hypothesis\n",
       "14       arrival_date_month_Autumn  Alternate Hypothesis\n",
       "15      arrival_date_month_Monsoon  Alternate Hypothesis\n",
       "16       arrival_date_month_Spring  Alternate Hypothesis\n",
       "17       arrival_date_month_Summer  Alternate Hypothesis\n",
       "18       arrival_date_month_Winter  Alternate Hypothesis\n",
       "19         market_segment_Aviation  Alternate Hypothesis\n",
       "20    market_segment_Complementary  Alternate Hypothesis\n",
       "21        market_segment_Corporate  Alternate Hypothesis\n",
       "22           market_segment_Direct  Alternate Hypothesis\n",
       "23           market_segment_Groups  Alternate Hypothesis\n",
       "24    market_segment_Offline TA/TO  Alternate Hypothesis\n",
       "25        market_segment_Online TA       Null Hypothesis\n",
       "26        market_segment_Undefined       Null Hypothesis\n",
       "27          customer_type_Contract  Alternate Hypothesis\n",
       "28             customer_type_Group  Alternate Hypothesis\n",
       "29         customer_type_Transient  Alternate Hypothesis\n",
       "30   customer_type_Transient-Party  Alternate Hypothesis\n",
       "31         deposit_type_No Deposit  Alternate Hypothesis\n",
       "32         deposit_type_Non Refund  Alternate Hypothesis\n",
       "33         deposit_type_Refundable  Alternate Hypothesis\n",
       "34  distribution_channel_Corporate  Alternate Hypothesis\n",
       "35     distribution_channel_Direct  Alternate Hypothesis\n",
       "36        distribution_channel_GDS  Alternate Hypothesis\n",
       "37      distribution_channel_TA/TO  Alternate Hypothesis\n",
       "38  distribution_channel_Undefined       Null Hypothesis\n",
       "39     total_of_special_requests_0  Alternate Hypothesis\n",
       "40     total_of_special_requests_1  Alternate Hypothesis\n",
       "41     total_of_special_requests_2  Alternate Hypothesis\n",
       "42     total_of_special_requests_3  Alternate Hypothesis\n",
       "43     total_of_special_requests_4  Alternate Hypothesis\n",
       "44     total_of_special_requests_5  Alternate Hypothesis\n",
       "45   required_car_parking_spaces_0  Alternate Hypothesis\n",
       "46   required_car_parking_spaces_1  Alternate Hypothesis\n",
       "47   required_car_parking_spaces_2  Alternate Hypothesis\n",
       "48   required_car_parking_spaces_3       Null Hypothesis\n",
       "49   required_car_parking_spaces_8       Null Hypothesis\n",
       "50     booking_changes_Few changes  Alternate Hypothesis\n",
       "51    booking_changes_More changes  Alternate Hypothesis\n",
       "52      booking_changes_No changes  Alternate Hypothesis\n",
       "53                DaysWaiting_High  Alternate Hypothesis\n",
       "54                 DaysWaiting_Low  Alternate Hypothesis\n",
       "55              DaysWaiting_Medium  Alternate Hypothesis\n",
       "56          DaysWaiting_No Waiting  Alternate Hypothesis\n",
       "57              lead_category_High  Alternate Hypothesis\n",
       "58               lead_category_Low  Alternate Hypothesis\n",
       "59            lead_category_Medium  Alternate Hypothesis\n",
       "60      lead_category_No Lead Time  Alternate Hypothesis"
      ]
     },
     "execution_count": 93,
     "metadata": {},
     "output_type": "execute_result"
    }
   ],
   "source": [
    "check = {}\n",
    "for col in cat_new:\n",
    "    dummies = pd.get_dummies(df_copy_no_yfe[col])\n",
    "    bon_p_value = 0.05/df_copy_no_yfe[col].nunique()\n",
    "    for series in dummies:\n",
    "        if chi2_contingency(pd.crosstab(df_copy_no_yfe['is_canceled'], dummies[series]))[1] < bon_p_value:\n",
    "            check['{}_{}'.format(col, series)] = 'Alternate Hypothesis'\n",
    "        else:\n",
    "            check['{}_{}'.format(col, series)] = 'Null Hypothesis'\n",
    "res_chi_ph = pd.DataFrame(data = [check.keys(), check.values()]).T\n",
    "res_chi_ph.columns = ['Pair', 'Hypothesis']\n",
    "res_chi_ph"
   ]
  },
  {
   "cell_type": "code",
   "execution_count": 94,
   "metadata": {},
   "outputs": [
    {
     "data": {
      "text/plain": [
       "['hotel_City Hotel',\n",
       " 'hotel_Resort Hotel',\n",
       " 'country_Africa',\n",
       " 'country_Europe',\n",
       " 'country_North America',\n",
       " 'country_Oceania',\n",
       " 'meal_BB',\n",
       " 'meal_FB',\n",
       " 'meal_HB',\n",
       " 'meal_Undefined',\n",
       " 'arrival_date_month_Autumn',\n",
       " 'arrival_date_month_Monsoon',\n",
       " 'arrival_date_month_Spring',\n",
       " 'arrival_date_month_Summer',\n",
       " 'arrival_date_month_Winter',\n",
       " 'market_segment_Aviation',\n",
       " 'market_segment_Complementary',\n",
       " 'market_segment_Corporate',\n",
       " 'market_segment_Direct',\n",
       " 'market_segment_Groups',\n",
       " 'market_segment_Offline TA/TO',\n",
       " 'customer_type_Contract',\n",
       " 'customer_type_Group',\n",
       " 'customer_type_Transient',\n",
       " 'customer_type_Transient-Party',\n",
       " 'deposit_type_No Deposit',\n",
       " 'deposit_type_Non Refund',\n",
       " 'deposit_type_Refundable',\n",
       " 'distribution_channel_Corporate',\n",
       " 'distribution_channel_Direct',\n",
       " 'distribution_channel_GDS',\n",
       " 'distribution_channel_TA/TO',\n",
       " 'total_of_special_requests_0',\n",
       " 'total_of_special_requests_1',\n",
       " 'total_of_special_requests_2',\n",
       " 'total_of_special_requests_3',\n",
       " 'total_of_special_requests_4',\n",
       " 'total_of_special_requests_5',\n",
       " 'required_car_parking_spaces_0',\n",
       " 'required_car_parking_spaces_1',\n",
       " 'required_car_parking_spaces_2',\n",
       " 'booking_changes_Few changes',\n",
       " 'booking_changes_More changes',\n",
       " 'booking_changes_No changes',\n",
       " 'DaysWaiting_High',\n",
       " 'DaysWaiting_Low',\n",
       " 'DaysWaiting_Medium',\n",
       " 'DaysWaiting_No Waiting',\n",
       " 'lead_category_High',\n",
       " 'lead_category_Low',\n",
       " 'lead_category_Medium',\n",
       " 'lead_category_No Lead Time']"
      ]
     },
     "execution_count": 94,
     "metadata": {},
     "output_type": "execute_result"
    }
   ],
   "source": [
    "sig_features_cat_more = []\n",
    "for i in range(len(res_chi_ph)) :\n",
    "    if res_chi_ph.loc[i, 'Hypothesis'] == 'Alternate Hypothesis' :\n",
    "        sig_features_cat_more.append(res_chi_ph.loc[i, 'Pair'])\n",
    "sig_features_cat_more"
   ]
  },
  {
   "cell_type": "code",
   "execution_count": 95,
   "metadata": {},
   "outputs": [
    {
     "data": {
      "text/plain": [
       "Index(['hotel_City Hotel', 'hotel_Resort Hotel', 'country_Africa',\n",
       "       'country_Antarctica', 'country_Asia', 'country_Europe',\n",
       "       'country_North America', 'country_Oceania', 'country_South America',\n",
       "       'meal_BB', 'meal_FB', 'meal_HB', 'meal_SC', 'meal_Undefined',\n",
       "       'arrival_date_month_Autumn', 'arrival_date_month_Monsoon',\n",
       "       'arrival_date_month_Spring', 'arrival_date_month_Summer',\n",
       "       'arrival_date_month_Winter', 'market_segment_Aviation',\n",
       "       'market_segment_Complementary', 'market_segment_Corporate',\n",
       "       'market_segment_Direct', 'market_segment_Groups',\n",
       "       'market_segment_Offline TA/TO', 'market_segment_Online TA',\n",
       "       'market_segment_Undefined', 'customer_type_Contract',\n",
       "       'customer_type_Group', 'customer_type_Transient',\n",
       "       'customer_type_Transient-Party', 'deposit_type_No Deposit',\n",
       "       'deposit_type_Non Refund', 'deposit_type_Refundable',\n",
       "       'distribution_channel_Corporate', 'distribution_channel_Direct',\n",
       "       'distribution_channel_GDS', 'distribution_channel_TA/TO',\n",
       "       'distribution_channel_Undefined', 'total_of_special_requests_0',\n",
       "       'total_of_special_requests_1', 'total_of_special_requests_2',\n",
       "       'total_of_special_requests_3', 'total_of_special_requests_4',\n",
       "       'total_of_special_requests_5', 'required_car_parking_spaces_0',\n",
       "       'required_car_parking_spaces_1', 'required_car_parking_spaces_2',\n",
       "       'required_car_parking_spaces_3', 'required_car_parking_spaces_8',\n",
       "       'booking_changes_Few changes', 'booking_changes_More changes',\n",
       "       'booking_changes_No changes', 'DaysWaiting_High', 'DaysWaiting_Low',\n",
       "       'DaysWaiting_Medium', 'DaysWaiting_No Waiting', 'lead_category_High',\n",
       "       'lead_category_Low', 'lead_category_Medium',\n",
       "       'lead_category_No Lead Time'],\n",
       "      dtype='object')"
      ]
     },
     "execution_count": 95,
     "metadata": {},
     "output_type": "execute_result"
    }
   ],
   "source": [
    "df_dummies = pd.get_dummies(df_copy_no_yfe[cat_new])\n",
    "df_dummies.columns"
   ]
  },
  {
   "cell_type": "code",
   "execution_count": 96,
   "metadata": {},
   "outputs": [],
   "source": [
    "num = ['stays_in_weekend_nights', 'stays_in_week_nights', 'adults', 'children', 'babies', 'adr_pp']"
   ]
  },
  {
   "cell_type": "code",
   "execution_count": 97,
   "metadata": {},
   "outputs": [],
   "source": [
    "from scipy.stats import jarque_bera"
   ]
  },
  {
   "cell_type": "raw",
   "metadata": {},
   "source": [
    "Hypothesis for Jarque Bera Test\n",
    "\n",
    "NULL Hyp : The distribution is normal\n",
    "Alt Hyp : The distribution is not-normal"
   ]
  },
  {
   "cell_type": "code",
   "execution_count": 98,
   "metadata": {},
   "outputs": [],
   "source": [
    "normal_features = []\n",
    "p_values_num = []\n",
    "for col in num :\n",
    "    data = np.array(df_copy_no_yfe[col])\n",
    "    p_values_num.append((col, jarque_bera(data)[1]))\n",
    "    if jarque_bera(data)[1] > 0.05 :\n",
    "        normal_features.append(col)"
   ]
  },
  {
   "cell_type": "code",
   "execution_count": 99,
   "metadata": {},
   "outputs": [
    {
     "data": {
      "text/plain": [
       "[('stays_in_weekend_nights', 0.0),\n",
       " ('stays_in_week_nights', 0.0),\n",
       " ('adults', 0.0),\n",
       " ('children', 0.0),\n",
       " ('babies', 0.0),\n",
       " ('adr_pp', 0.0)]"
      ]
     },
     "execution_count": 99,
     "metadata": {},
     "output_type": "execute_result"
    }
   ],
   "source": [
    "p_values_num"
   ]
  },
  {
   "cell_type": "code",
   "execution_count": 100,
   "metadata": {},
   "outputs": [
    {
     "data": {
      "text/plain": [
       "[]"
      ]
     },
     "execution_count": 100,
     "metadata": {},
     "output_type": "execute_result"
    }
   ],
   "source": [
    "normal_features"
   ]
  },
  {
   "cell_type": "raw",
   "metadata": {},
   "source": [
    "None of the features are normally distributed. So, we perform power transformation on the data."
   ]
  },
  {
   "cell_type": "code",
   "execution_count": 101,
   "metadata": {},
   "outputs": [
    {
     "data": {
      "text/html": [
       "<div>\n",
       "<style scoped>\n",
       "    .dataframe tbody tr th:only-of-type {\n",
       "        vertical-align: middle;\n",
       "    }\n",
       "\n",
       "    .dataframe tbody tr th {\n",
       "        vertical-align: top;\n",
       "    }\n",
       "\n",
       "    .dataframe thead th {\n",
       "        text-align: right;\n",
       "    }\n",
       "</style>\n",
       "<table border=\"1\" class=\"dataframe\">\n",
       "  <thead>\n",
       "    <tr style=\"text-align: right;\">\n",
       "      <th></th>\n",
       "      <th>stays_in_weekend_nights</th>\n",
       "      <th>stays_in_week_nights</th>\n",
       "      <th>adults</th>\n",
       "      <th>children</th>\n",
       "      <th>babies</th>\n",
       "      <th>adr_pp</th>\n",
       "    </tr>\n",
       "  </thead>\n",
       "  <tbody>\n",
       "    <tr>\n",
       "      <th>0</th>\n",
       "      <td>0</td>\n",
       "      <td>0</td>\n",
       "      <td>2</td>\n",
       "      <td>0</td>\n",
       "      <td>0</td>\n",
       "      <td>0.0</td>\n",
       "    </tr>\n",
       "    <tr>\n",
       "      <th>1</th>\n",
       "      <td>0</td>\n",
       "      <td>0</td>\n",
       "      <td>2</td>\n",
       "      <td>0</td>\n",
       "      <td>0</td>\n",
       "      <td>0.0</td>\n",
       "    </tr>\n",
       "    <tr>\n",
       "      <th>2</th>\n",
       "      <td>0</td>\n",
       "      <td>1</td>\n",
       "      <td>1</td>\n",
       "      <td>0</td>\n",
       "      <td>0</td>\n",
       "      <td>75.0</td>\n",
       "    </tr>\n",
       "    <tr>\n",
       "      <th>3</th>\n",
       "      <td>0</td>\n",
       "      <td>1</td>\n",
       "      <td>1</td>\n",
       "      <td>0</td>\n",
       "      <td>0</td>\n",
       "      <td>75.0</td>\n",
       "    </tr>\n",
       "    <tr>\n",
       "      <th>4</th>\n",
       "      <td>0</td>\n",
       "      <td>2</td>\n",
       "      <td>2</td>\n",
       "      <td>0</td>\n",
       "      <td>0</td>\n",
       "      <td>49.0</td>\n",
       "    </tr>\n",
       "  </tbody>\n",
       "</table>\n",
       "</div>"
      ],
      "text/plain": [
       "   stays_in_weekend_nights  stays_in_week_nights  adults  children  babies  \\\n",
       "0                        0                     0       2         0       0   \n",
       "1                        0                     0       2         0       0   \n",
       "2                        0                     1       1         0       0   \n",
       "3                        0                     1       1         0       0   \n",
       "4                        0                     2       2         0       0   \n",
       "\n",
       "   adr_pp  \n",
       "0     0.0  \n",
       "1     0.0  \n",
       "2    75.0  \n",
       "3    75.0  \n",
       "4    49.0  "
      ]
     },
     "execution_count": 101,
     "metadata": {},
     "output_type": "execute_result"
    }
   ],
   "source": [
    "num_df = df_copy_no_yfe[num]\n",
    "num_df.head()"
   ]
  },
  {
   "cell_type": "code",
   "execution_count": 102,
   "metadata": {},
   "outputs": [
    {
     "data": {
      "text/plain": [
       "0"
      ]
     },
     "execution_count": 102,
     "metadata": {},
     "output_type": "execute_result"
    }
   ],
   "source": [
    "df_copy_no_yfe['is_canceled'].isnull().sum()"
   ]
  },
  {
   "cell_type": "code",
   "execution_count": 103,
   "metadata": {},
   "outputs": [
    {
     "data": {
      "text/plain": [
       "stays_in_weekend_nights    0\n",
       "stays_in_week_nights       0\n",
       "adults                     0\n",
       "children                   0\n",
       "babies                     0\n",
       "adr_pp                     0\n",
       "dtype: int64"
      ]
     },
     "execution_count": 103,
     "metadata": {},
     "output_type": "execute_result"
    }
   ],
   "source": [
    "num_df.isnull().sum()"
   ]
  },
  {
   "cell_type": "code",
   "execution_count": 104,
   "metadata": {},
   "outputs": [],
   "source": [
    "from sklearn.preprocessing import PowerTransformer"
   ]
  },
  {
   "cell_type": "code",
   "execution_count": 105,
   "metadata": {},
   "outputs": [
    {
     "data": {
      "text/plain": [
       "(119210, 6)"
      ]
     },
     "execution_count": 105,
     "metadata": {},
     "output_type": "execute_result"
    }
   ],
   "source": [
    "power = PowerTransformer(method = 'yeo-johnson', standardize = True)\n",
    "df_num = power.fit_transform(num_df)\n",
    "df_num.shape"
   ]
  },
  {
   "cell_type": "code",
   "execution_count": 106,
   "metadata": {},
   "outputs": [
    {
     "data": {
      "text/html": [
       "<div>\n",
       "<style scoped>\n",
       "    .dataframe tbody tr th:only-of-type {\n",
       "        vertical-align: middle;\n",
       "    }\n",
       "\n",
       "    .dataframe tbody tr th {\n",
       "        vertical-align: top;\n",
       "    }\n",
       "\n",
       "    .dataframe thead th {\n",
       "        text-align: right;\n",
       "    }\n",
       "</style>\n",
       "<table border=\"1\" class=\"dataframe\">\n",
       "  <thead>\n",
       "    <tr style=\"text-align: right;\">\n",
       "      <th></th>\n",
       "      <th>stays_in_weekend_nights</th>\n",
       "      <th>stays_in_week_nights</th>\n",
       "      <th>adults</th>\n",
       "      <th>children</th>\n",
       "      <th>babies</th>\n",
       "      <th>adr_pp</th>\n",
       "    </tr>\n",
       "  </thead>\n",
       "  <tbody>\n",
       "    <tr>\n",
       "      <th>0</th>\n",
       "      <td>-1.076212</td>\n",
       "      <td>-2.193059</td>\n",
       "      <td>0.321536</td>\n",
       "      <td>-0.278663</td>\n",
       "      <td>-0.088045</td>\n",
       "      <td>-3.325562</td>\n",
       "    </tr>\n",
       "    <tr>\n",
       "      <th>1</th>\n",
       "      <td>-1.076212</td>\n",
       "      <td>-2.193059</td>\n",
       "      <td>0.321536</td>\n",
       "      <td>-0.278663</td>\n",
       "      <td>-0.088045</td>\n",
       "      <td>-3.325562</td>\n",
       "    </tr>\n",
       "    <tr>\n",
       "      <th>2</th>\n",
       "      <td>-1.076212</td>\n",
       "      <td>-0.877644</td>\n",
       "      <td>-1.775785</td>\n",
       "      <td>-0.278663</td>\n",
       "      <td>-0.088045</td>\n",
       "      <td>0.787670</td>\n",
       "    </tr>\n",
       "    <tr>\n",
       "      <th>3</th>\n",
       "      <td>-1.076212</td>\n",
       "      <td>-0.877644</td>\n",
       "      <td>-1.775785</td>\n",
       "      <td>-0.278663</td>\n",
       "      <td>-0.088045</td>\n",
       "      <td>0.787670</td>\n",
       "    </tr>\n",
       "    <tr>\n",
       "      <th>4</th>\n",
       "      <td>-1.076212</td>\n",
       "      <td>-0.078177</td>\n",
       "      <td>0.321536</td>\n",
       "      <td>-0.278663</td>\n",
       "      <td>-0.088045</td>\n",
       "      <td>-0.106321</td>\n",
       "    </tr>\n",
       "  </tbody>\n",
       "</table>\n",
       "</div>"
      ],
      "text/plain": [
       "   stays_in_weekend_nights  stays_in_week_nights    adults  children  \\\n",
       "0                -1.076212             -2.193059  0.321536 -0.278663   \n",
       "1                -1.076212             -2.193059  0.321536 -0.278663   \n",
       "2                -1.076212             -0.877644 -1.775785 -0.278663   \n",
       "3                -1.076212             -0.877644 -1.775785 -0.278663   \n",
       "4                -1.076212             -0.078177  0.321536 -0.278663   \n",
       "\n",
       "     babies    adr_pp  \n",
       "0 -0.088045 -3.325562  \n",
       "1 -0.088045 -3.325562  \n",
       "2 -0.088045  0.787670  \n",
       "3 -0.088045  0.787670  \n",
       "4 -0.088045 -0.106321  "
      ]
     },
     "execution_count": 106,
     "metadata": {},
     "output_type": "execute_result"
    }
   ],
   "source": [
    "df_num = pd.DataFrame(df_num, columns = num)\n",
    "df_num.head()"
   ]
  },
  {
   "cell_type": "code",
   "execution_count": 107,
   "metadata": {},
   "outputs": [
    {
     "data": {
      "text/plain": [
       "(119210, 6)"
      ]
     },
     "execution_count": 107,
     "metadata": {},
     "output_type": "execute_result"
    }
   ],
   "source": [
    "df_num.shape"
   ]
  },
  {
   "cell_type": "code",
   "execution_count": 108,
   "metadata": {},
   "outputs": [
    {
     "data": {
      "text/plain": [
       "(119210, 23)"
      ]
     },
     "execution_count": 108,
     "metadata": {},
     "output_type": "execute_result"
    }
   ],
   "source": [
    "df_copy_no_yfe.shape"
   ]
  },
  {
   "cell_type": "code",
   "execution_count": 109,
   "metadata": {},
   "outputs": [
    {
     "data": {
      "text/plain": [
       "0"
      ]
     },
     "execution_count": 109,
     "metadata": {},
     "output_type": "execute_result"
    }
   ],
   "source": [
    "df_copy_no_yfe['is_canceled'].isnull().sum()"
   ]
  },
  {
   "cell_type": "code",
   "execution_count": 110,
   "metadata": {},
   "outputs": [
    {
     "data": {
      "text/plain": [
       "(119210, 7)"
      ]
     },
     "execution_count": 110,
     "metadata": {},
     "output_type": "execute_result"
    }
   ],
   "source": [
    "df_num['is_canceled'] = df_copy_no_yfe['is_canceled'].values\n",
    "df_num.shape"
   ]
  },
  {
   "cell_type": "code",
   "execution_count": 111,
   "metadata": {},
   "outputs": [
    {
     "data": {
      "text/plain": [
       "0"
      ]
     },
     "execution_count": 111,
     "metadata": {},
     "output_type": "execute_result"
    }
   ],
   "source": [
    "df_num['is_canceled'].isnull().sum()"
   ]
  },
  {
   "cell_type": "code",
   "execution_count": 112,
   "metadata": {},
   "outputs": [
    {
     "data": {
      "text/plain": [
       "0    75011\n",
       "1    44199\n",
       "Name: is_canceled, dtype: int64"
      ]
     },
     "execution_count": 112,
     "metadata": {},
     "output_type": "execute_result"
    }
   ],
   "source": [
    "df_num['is_canceled'].value_counts(dropna = False)"
   ]
  },
  {
   "cell_type": "code",
   "execution_count": 113,
   "metadata": {},
   "outputs": [
    {
     "data": {
      "text/plain": [
       "(119210, 7)"
      ]
     },
     "execution_count": 113,
     "metadata": {},
     "output_type": "execute_result"
    }
   ],
   "source": [
    "df_num.shape"
   ]
  },
  {
   "cell_type": "code",
   "execution_count": 114,
   "metadata": {},
   "outputs": [
    {
     "data": {
      "text/plain": [
       "(119210, 23)"
      ]
     },
     "execution_count": 114,
     "metadata": {},
     "output_type": "execute_result"
    }
   ],
   "source": [
    "df_copy_no_yfe.shape"
   ]
  },
  {
   "cell_type": "code",
   "execution_count": 115,
   "metadata": {},
   "outputs": [
    {
     "data": {
      "text/plain": [
       "0    75011\n",
       "1    44199\n",
       "Name: is_canceled, dtype: int64"
      ]
     },
     "execution_count": 115,
     "metadata": {},
     "output_type": "execute_result"
    }
   ],
   "source": [
    "df_copy['is_canceled'].value_counts()"
   ]
  },
  {
   "cell_type": "code",
   "execution_count": 116,
   "metadata": {},
   "outputs": [],
   "source": [
    "# Rechecking normality after transformation\n",
    "\n",
    "normal_features = []\n",
    "p_values_num = []\n",
    "for col in num :\n",
    "    data = np.array(df_num[col])\n",
    "    p_values_num.append((col, jarque_bera(data)[1]))\n",
    "    if jarque_bera(data)[1] > 0.05 :\n",
    "        normal_features.append(col)"
   ]
  },
  {
   "cell_type": "code",
   "execution_count": 117,
   "metadata": {},
   "outputs": [
    {
     "data": {
      "text/plain": [
       "stays_in_weekend_nights     0.071899\n",
       "stays_in_week_nights        0.005005\n",
       "adults                      0.421744\n",
       "children                    3.309939\n",
       "babies                     11.269913\n",
       "adr_pp                      0.305062\n",
       "is_canceled                 0.535127\n",
       "dtype: float64"
      ]
     },
     "execution_count": 117,
     "metadata": {},
     "output_type": "execute_result"
    }
   ],
   "source": [
    "df_num.skew()"
   ]
  },
  {
   "cell_type": "code",
   "execution_count": 118,
   "metadata": {},
   "outputs": [
    {
     "data": {
      "text/plain": [
       "stays_in_weekend_nights     1.320242\n",
       "stays_in_week_nights        2.754863\n",
       "adults                     18.774333\n",
       "children                    4.109048\n",
       "babies                     24.627962\n",
       "adr_pp                      7.676228\n",
       "dtype: float64"
      ]
     },
     "execution_count": 118,
     "metadata": {},
     "output_type": "execute_result"
    }
   ],
   "source": [
    "df_copy_no_yfe[num].skew()"
   ]
  },
  {
   "cell_type": "raw",
   "metadata": {},
   "source": [
    "We can see that children and babies are still highly skewed. So, instead of having three sepeate features - adults, children and babies, we have a new feature 'people' which indicates the total number of people in the booking, rather than segmenting them."
   ]
  },
  {
   "cell_type": "code",
   "execution_count": 119,
   "metadata": {},
   "outputs": [
    {
     "data": {
      "text/plain": [
       "Index(['hotel', 'is_canceled', 'arrival_date_month', 'stays_in_weekend_nights',\n",
       "       'stays_in_week_nights', 'meal', 'country', 'market_segment',\n",
       "       'distribution_channel', 'is_repeated_guest', 'booking_changes',\n",
       "       'deposit_type', 'customer_type', 'required_car_parking_spaces',\n",
       "       'total_of_special_requests', 'adr_pp', 'Room', 'DaysWaiting',\n",
       "       'net_cancelled', 'lead_category', 'people'],\n",
       "      dtype='object')"
      ]
     },
     "execution_count": 119,
     "metadata": {},
     "output_type": "execute_result"
    }
   ],
   "source": [
    "df_copy_no_yfe['people'] = df_copy_no_yfe['adults']+df_copy_no_yfe['children']+df_copy_no_yfe['babies']\n",
    "df_copy_no_yfe.drop(['adults', 'children', 'babies'], axis = 1, inplace = True)\n",
    "df_copy_no_yfe.columns"
   ]
  },
  {
   "cell_type": "code",
   "execution_count": 120,
   "metadata": {},
   "outputs": [],
   "source": [
    "num = ['stays_in_weekend_nights', 'stays_in_week_nights', 'people', 'adr_pp']\n",
    "num_df = df_copy_no_yfe[num]"
   ]
  },
  {
   "cell_type": "raw",
   "metadata": {},
   "source": [
    "We are not rechecking normality, since even if 'people' turns out to be normally distributed, the other columns are not and we have to perform transformation anyway."
   ]
  },
  {
   "cell_type": "code",
   "execution_count": 121,
   "metadata": {},
   "outputs": [
    {
     "data": {
      "text/html": [
       "<div>\n",
       "<style scoped>\n",
       "    .dataframe tbody tr th:only-of-type {\n",
       "        vertical-align: middle;\n",
       "    }\n",
       "\n",
       "    .dataframe tbody tr th {\n",
       "        vertical-align: top;\n",
       "    }\n",
       "\n",
       "    .dataframe thead th {\n",
       "        text-align: right;\n",
       "    }\n",
       "</style>\n",
       "<table border=\"1\" class=\"dataframe\">\n",
       "  <thead>\n",
       "    <tr style=\"text-align: right;\">\n",
       "      <th></th>\n",
       "      <th>stays_in_weekend_nights</th>\n",
       "      <th>stays_in_week_nights</th>\n",
       "      <th>people</th>\n",
       "      <th>adr_pp</th>\n",
       "    </tr>\n",
       "  </thead>\n",
       "  <tbody>\n",
       "    <tr>\n",
       "      <th>0</th>\n",
       "      <td>-1.076212</td>\n",
       "      <td>-2.193059</td>\n",
       "      <td>0.158484</td>\n",
       "      <td>-3.325562</td>\n",
       "    </tr>\n",
       "    <tr>\n",
       "      <th>1</th>\n",
       "      <td>-1.076212</td>\n",
       "      <td>-2.193059</td>\n",
       "      <td>0.158484</td>\n",
       "      <td>-3.325562</td>\n",
       "    </tr>\n",
       "    <tr>\n",
       "      <th>2</th>\n",
       "      <td>-1.076212</td>\n",
       "      <td>-0.877644</td>\n",
       "      <td>-1.721918</td>\n",
       "      <td>0.787670</td>\n",
       "    </tr>\n",
       "    <tr>\n",
       "      <th>3</th>\n",
       "      <td>-1.076212</td>\n",
       "      <td>-0.877644</td>\n",
       "      <td>-1.721918</td>\n",
       "      <td>0.787670</td>\n",
       "    </tr>\n",
       "    <tr>\n",
       "      <th>4</th>\n",
       "      <td>-1.076212</td>\n",
       "      <td>-0.078177</td>\n",
       "      <td>0.158484</td>\n",
       "      <td>-0.106321</td>\n",
       "    </tr>\n",
       "  </tbody>\n",
       "</table>\n",
       "</div>"
      ],
      "text/plain": [
       "   stays_in_weekend_nights  stays_in_week_nights    people    adr_pp\n",
       "0                -1.076212             -2.193059  0.158484 -3.325562\n",
       "1                -1.076212             -2.193059  0.158484 -3.325562\n",
       "2                -1.076212             -0.877644 -1.721918  0.787670\n",
       "3                -1.076212             -0.877644 -1.721918  0.787670\n",
       "4                -1.076212             -0.078177  0.158484 -0.106321"
      ]
     },
     "execution_count": 121,
     "metadata": {},
     "output_type": "execute_result"
    }
   ],
   "source": [
    "power = PowerTransformer(method = 'yeo-johnson', standardize = True)\n",
    "df_num = power.fit_transform(num_df)\n",
    "df_num.shape\n",
    "\n",
    "df_num = pd.DataFrame(df_num, columns = num)\n",
    "df_num.head()"
   ]
  },
  {
   "cell_type": "code",
   "execution_count": 122,
   "metadata": {},
   "outputs": [
    {
     "data": {
      "text/html": [
       "<div>\n",
       "<style scoped>\n",
       "    .dataframe tbody tr th:only-of-type {\n",
       "        vertical-align: middle;\n",
       "    }\n",
       "\n",
       "    .dataframe tbody tr th {\n",
       "        vertical-align: top;\n",
       "    }\n",
       "\n",
       "    .dataframe thead th {\n",
       "        text-align: right;\n",
       "    }\n",
       "</style>\n",
       "<table border=\"1\" class=\"dataframe\">\n",
       "  <thead>\n",
       "    <tr style=\"text-align: right;\">\n",
       "      <th></th>\n",
       "      <th>stays_in_weekend_nights</th>\n",
       "      <th>stays_in_week_nights</th>\n",
       "      <th>people</th>\n",
       "      <th>adr_pp</th>\n",
       "      <th>is_canceled</th>\n",
       "    </tr>\n",
       "  </thead>\n",
       "  <tbody>\n",
       "    <tr>\n",
       "      <th>0</th>\n",
       "      <td>-1.076212</td>\n",
       "      <td>-2.193059</td>\n",
       "      <td>0.158484</td>\n",
       "      <td>-3.325562</td>\n",
       "      <td>0.0</td>\n",
       "    </tr>\n",
       "    <tr>\n",
       "      <th>1</th>\n",
       "      <td>-1.076212</td>\n",
       "      <td>-2.193059</td>\n",
       "      <td>0.158484</td>\n",
       "      <td>-3.325562</td>\n",
       "      <td>0.0</td>\n",
       "    </tr>\n",
       "    <tr>\n",
       "      <th>2</th>\n",
       "      <td>-1.076212</td>\n",
       "      <td>-0.877644</td>\n",
       "      <td>-1.721918</td>\n",
       "      <td>0.787670</td>\n",
       "      <td>0.0</td>\n",
       "    </tr>\n",
       "    <tr>\n",
       "      <th>3</th>\n",
       "      <td>-1.076212</td>\n",
       "      <td>-0.877644</td>\n",
       "      <td>-1.721918</td>\n",
       "      <td>0.787670</td>\n",
       "      <td>0.0</td>\n",
       "    </tr>\n",
       "    <tr>\n",
       "      <th>4</th>\n",
       "      <td>-1.076212</td>\n",
       "      <td>-0.078177</td>\n",
       "      <td>0.158484</td>\n",
       "      <td>-0.106321</td>\n",
       "      <td>0.0</td>\n",
       "    </tr>\n",
       "  </tbody>\n",
       "</table>\n",
       "</div>"
      ],
      "text/plain": [
       "   stays_in_weekend_nights  stays_in_week_nights    people    adr_pp  \\\n",
       "0                -1.076212             -2.193059  0.158484 -3.325562   \n",
       "1                -1.076212             -2.193059  0.158484 -3.325562   \n",
       "2                -1.076212             -0.877644 -1.721918  0.787670   \n",
       "3                -1.076212             -0.877644 -1.721918  0.787670   \n",
       "4                -1.076212             -0.078177  0.158484 -0.106321   \n",
       "\n",
       "   is_canceled  \n",
       "0          0.0  \n",
       "1          0.0  \n",
       "2          0.0  \n",
       "3          0.0  \n",
       "4          0.0  "
      ]
     },
     "execution_count": 122,
     "metadata": {},
     "output_type": "execute_result"
    }
   ],
   "source": [
    "df_num['is_canceled'] = df_copy_no_yfe['is_canceled']\n",
    "df_num.head()"
   ]
  },
  {
   "cell_type": "code",
   "execution_count": 123,
   "metadata": {},
   "outputs": [
    {
     "data": {
      "text/plain": [
       "(119210,)"
      ]
     },
     "execution_count": 123,
     "metadata": {},
     "output_type": "execute_result"
    }
   ],
   "source": [
    "df_copy_no_yfe['is_canceled'].shape"
   ]
  },
  {
   "cell_type": "code",
   "execution_count": 124,
   "metadata": {},
   "outputs": [
    {
     "data": {
      "text/plain": [
       "stays_in_weekend_nights    0.071899\n",
       "stays_in_week_nights       0.005005\n",
       "people                    -0.004875\n",
       "adr_pp                     0.305062\n",
       "is_canceled                0.532640\n",
       "dtype: float64"
      ]
     },
     "execution_count": 124,
     "metadata": {},
     "output_type": "execute_result"
    }
   ],
   "source": [
    "df_num.skew()"
   ]
  },
  {
   "cell_type": "raw",
   "metadata": {},
   "source": [
    "Skewness is considerably reduced."
   ]
  },
  {
   "cell_type": "code",
   "execution_count": 125,
   "metadata": {},
   "outputs": [],
   "source": [
    "from scipy.stats import levene"
   ]
  },
  {
   "cell_type": "code",
   "execution_count": 126,
   "metadata": {},
   "outputs": [],
   "source": [
    "df_num['is_canceled'] = df_copy_no_yfe['is_canceled']"
   ]
  },
  {
   "cell_type": "code",
   "execution_count": 127,
   "metadata": {},
   "outputs": [
    {
     "data": {
      "text/plain": [
       "['stays_in_weekend_nights', 'stays_in_week_nights', 'people', 'adr_pp']"
      ]
     },
     "execution_count": 127,
     "metadata": {},
     "output_type": "execute_result"
    }
   ],
   "source": [
    "equal_var = []\n",
    "for col in df_num.columns :\n",
    "    grp_a = df_num[df_num['is_canceled'] == 0][col]\n",
    "    grp_b = df_num[df_num['is_canceled'] == 1][col]\n",
    "    if levene(grp_a, grp_b)[1] < 0.05 :\n",
    "        equal_var.append(col)\n",
    "equal_var"
   ]
  },
  {
   "cell_type": "code",
   "execution_count": 128,
   "metadata": {},
   "outputs": [],
   "source": [
    "from scipy.stats import f_oneway"
   ]
  },
  {
   "cell_type": "code",
   "execution_count": 129,
   "metadata": {},
   "outputs": [
    {
     "data": {
      "text/plain": [
       "['stays_in_week_nights', 'people', 'adr_pp']"
      ]
     },
     "execution_count": 129,
     "metadata": {},
     "output_type": "execute_result"
    }
   ],
   "source": [
    "anova_pass = []\n",
    "for col in equal_var :\n",
    "    grp_a = df_num[df_num['is_canceled'] == 0][col]\n",
    "    grp_b = df_num[df_num['is_canceled'] == 1][col]\n",
    "    if f_oneway(grp_a, grp_b)[1] < 0.05 :\n",
    "        anova_pass.append(col)\n",
    "anova_pass"
   ]
  },
  {
   "cell_type": "code",
   "execution_count": 130,
   "metadata": {},
   "outputs": [],
   "source": [
    "final_num = df_num[anova_pass]"
   ]
  },
  {
   "cell_type": "code",
   "execution_count": 131,
   "metadata": {},
   "outputs": [
    {
     "data": {
      "text/plain": [
       "stays_in_week_nights    float64\n",
       "people                  float64\n",
       "adr_pp                  float64\n",
       "dtype: object"
      ]
     },
     "execution_count": 131,
     "metadata": {},
     "output_type": "execute_result"
    }
   ],
   "source": [
    "final_num.dtypes"
   ]
  },
  {
   "cell_type": "code",
   "execution_count": 132,
   "metadata": {},
   "outputs": [
    {
     "data": {
      "text/html": [
       "<div>\n",
       "<style scoped>\n",
       "    .dataframe tbody tr th:only-of-type {\n",
       "        vertical-align: middle;\n",
       "    }\n",
       "\n",
       "    .dataframe tbody tr th {\n",
       "        vertical-align: top;\n",
       "    }\n",
       "\n",
       "    .dataframe thead th {\n",
       "        text-align: right;\n",
       "    }\n",
       "</style>\n",
       "<table border=\"1\" class=\"dataframe\">\n",
       "  <thead>\n",
       "    <tr style=\"text-align: right;\">\n",
       "      <th></th>\n",
       "      <th>hotel_City Hotel</th>\n",
       "      <th>hotel_Resort Hotel</th>\n",
       "      <th>country_Africa</th>\n",
       "      <th>country_Europe</th>\n",
       "      <th>country_North America</th>\n",
       "      <th>country_Oceania</th>\n",
       "      <th>meal_BB</th>\n",
       "      <th>meal_FB</th>\n",
       "      <th>meal_HB</th>\n",
       "      <th>meal_Undefined</th>\n",
       "      <th>...</th>\n",
       "      <th>DaysWaiting_Medium</th>\n",
       "      <th>DaysWaiting_No Waiting</th>\n",
       "      <th>lead_category_High</th>\n",
       "      <th>lead_category_Low</th>\n",
       "      <th>lead_category_Medium</th>\n",
       "      <th>lead_category_No Lead Time</th>\n",
       "      <th>hotel</th>\n",
       "      <th>Room</th>\n",
       "      <th>net_cancelled</th>\n",
       "      <th>is_repeated_guest</th>\n",
       "    </tr>\n",
       "  </thead>\n",
       "  <tbody>\n",
       "    <tr>\n",
       "      <th>0</th>\n",
       "      <td>0</td>\n",
       "      <td>1</td>\n",
       "      <td>0</td>\n",
       "      <td>1</td>\n",
       "      <td>0</td>\n",
       "      <td>0</td>\n",
       "      <td>1</td>\n",
       "      <td>0</td>\n",
       "      <td>0</td>\n",
       "      <td>0</td>\n",
       "      <td>...</td>\n",
       "      <td>0</td>\n",
       "      <td>1</td>\n",
       "      <td>0</td>\n",
       "      <td>0</td>\n",
       "      <td>1</td>\n",
       "      <td>0</td>\n",
       "      <td>Resort Hotel</td>\n",
       "      <td>1</td>\n",
       "      <td>0</td>\n",
       "      <td>0</td>\n",
       "    </tr>\n",
       "    <tr>\n",
       "      <th>1</th>\n",
       "      <td>0</td>\n",
       "      <td>1</td>\n",
       "      <td>0</td>\n",
       "      <td>1</td>\n",
       "      <td>0</td>\n",
       "      <td>0</td>\n",
       "      <td>1</td>\n",
       "      <td>0</td>\n",
       "      <td>0</td>\n",
       "      <td>0</td>\n",
       "      <td>...</td>\n",
       "      <td>0</td>\n",
       "      <td>1</td>\n",
       "      <td>1</td>\n",
       "      <td>0</td>\n",
       "      <td>0</td>\n",
       "      <td>0</td>\n",
       "      <td>Resort Hotel</td>\n",
       "      <td>1</td>\n",
       "      <td>0</td>\n",
       "      <td>0</td>\n",
       "    </tr>\n",
       "    <tr>\n",
       "      <th>2</th>\n",
       "      <td>0</td>\n",
       "      <td>1</td>\n",
       "      <td>0</td>\n",
       "      <td>1</td>\n",
       "      <td>0</td>\n",
       "      <td>0</td>\n",
       "      <td>1</td>\n",
       "      <td>0</td>\n",
       "      <td>0</td>\n",
       "      <td>0</td>\n",
       "      <td>...</td>\n",
       "      <td>0</td>\n",
       "      <td>1</td>\n",
       "      <td>0</td>\n",
       "      <td>1</td>\n",
       "      <td>0</td>\n",
       "      <td>0</td>\n",
       "      <td>Resort Hotel</td>\n",
       "      <td>0</td>\n",
       "      <td>0</td>\n",
       "      <td>0</td>\n",
       "    </tr>\n",
       "    <tr>\n",
       "      <th>3</th>\n",
       "      <td>0</td>\n",
       "      <td>1</td>\n",
       "      <td>0</td>\n",
       "      <td>1</td>\n",
       "      <td>0</td>\n",
       "      <td>0</td>\n",
       "      <td>1</td>\n",
       "      <td>0</td>\n",
       "      <td>0</td>\n",
       "      <td>0</td>\n",
       "      <td>...</td>\n",
       "      <td>0</td>\n",
       "      <td>1</td>\n",
       "      <td>0</td>\n",
       "      <td>1</td>\n",
       "      <td>0</td>\n",
       "      <td>0</td>\n",
       "      <td>Resort Hotel</td>\n",
       "      <td>1</td>\n",
       "      <td>0</td>\n",
       "      <td>0</td>\n",
       "    </tr>\n",
       "    <tr>\n",
       "      <th>4</th>\n",
       "      <td>0</td>\n",
       "      <td>1</td>\n",
       "      <td>0</td>\n",
       "      <td>1</td>\n",
       "      <td>0</td>\n",
       "      <td>0</td>\n",
       "      <td>1</td>\n",
       "      <td>0</td>\n",
       "      <td>0</td>\n",
       "      <td>0</td>\n",
       "      <td>...</td>\n",
       "      <td>0</td>\n",
       "      <td>1</td>\n",
       "      <td>0</td>\n",
       "      <td>1</td>\n",
       "      <td>0</td>\n",
       "      <td>0</td>\n",
       "      <td>Resort Hotel</td>\n",
       "      <td>1</td>\n",
       "      <td>0</td>\n",
       "      <td>0</td>\n",
       "    </tr>\n",
       "  </tbody>\n",
       "</table>\n",
       "<p>5 rows × 56 columns</p>\n",
       "</div>"
      ],
      "text/plain": [
       "  hotel_City Hotel hotel_Resort Hotel country_Africa country_Europe  \\\n",
       "0                0                  1              0              1   \n",
       "1                0                  1              0              1   \n",
       "2                0                  1              0              1   \n",
       "3                0                  1              0              1   \n",
       "4                0                  1              0              1   \n",
       "\n",
       "  country_North America country_Oceania meal_BB meal_FB meal_HB  \\\n",
       "0                     0               0       1       0       0   \n",
       "1                     0               0       1       0       0   \n",
       "2                     0               0       1       0       0   \n",
       "3                     0               0       1       0       0   \n",
       "4                     0               0       1       0       0   \n",
       "\n",
       "  meal_Undefined  ... DaysWaiting_Medium DaysWaiting_No Waiting  \\\n",
       "0              0  ...                  0                      1   \n",
       "1              0  ...                  0                      1   \n",
       "2              0  ...                  0                      1   \n",
       "3              0  ...                  0                      1   \n",
       "4              0  ...                  0                      1   \n",
       "\n",
       "  lead_category_High lead_category_Low lead_category_Medium  \\\n",
       "0                  0                 0                    1   \n",
       "1                  1                 0                    0   \n",
       "2                  0                 1                    0   \n",
       "3                  0                 1                    0   \n",
       "4                  0                 1                    0   \n",
       "\n",
       "  lead_category_No Lead Time         hotel Room net_cancelled  \\\n",
       "0                          0  Resort Hotel    1             0   \n",
       "1                          0  Resort Hotel    1             0   \n",
       "2                          0  Resort Hotel    0             0   \n",
       "3                          0  Resort Hotel    1             0   \n",
       "4                          0  Resort Hotel    1             0   \n",
       "\n",
       "  is_repeated_guest  \n",
       "0                 0  \n",
       "1                 0  \n",
       "2                 0  \n",
       "3                 0  \n",
       "4                 0  \n",
       "\n",
       "[5 rows x 56 columns]"
      ]
     },
     "execution_count": 132,
     "metadata": {},
     "output_type": "execute_result"
    }
   ],
   "source": [
    "final_cat = np.hstack((df_dummies[sig_features_cat_more], df_copy_no_yfe[sig_features_cat_2]))\n",
    "final_cat = pd.DataFrame(final_cat, columns = pd.concat([df_dummies[sig_features_cat_more], \n",
    "                                                         df_copy_no_yfe[sig_features_cat_2]]).columns)\n",
    "final_cat.head()"
   ]
  },
  {
   "cell_type": "code",
   "execution_count": 133,
   "metadata": {},
   "outputs": [],
   "source": [
    "final_cat.drop('hotel', axis =1, inplace = True)"
   ]
  },
  {
   "cell_type": "code",
   "execution_count": 134,
   "metadata": {},
   "outputs": [
    {
     "data": {
      "text/html": [
       "<div>\n",
       "<style scoped>\n",
       "    .dataframe tbody tr th:only-of-type {\n",
       "        vertical-align: middle;\n",
       "    }\n",
       "\n",
       "    .dataframe tbody tr th {\n",
       "        vertical-align: top;\n",
       "    }\n",
       "\n",
       "    .dataframe thead th {\n",
       "        text-align: right;\n",
       "    }\n",
       "</style>\n",
       "<table border=\"1\" class=\"dataframe\">\n",
       "  <thead>\n",
       "    <tr style=\"text-align: right;\">\n",
       "      <th></th>\n",
       "      <th>hotel_City Hotel</th>\n",
       "      <th>hotel_Resort Hotel</th>\n",
       "      <th>country_Africa</th>\n",
       "      <th>country_Europe</th>\n",
       "      <th>country_North America</th>\n",
       "      <th>country_Oceania</th>\n",
       "      <th>meal_BB</th>\n",
       "      <th>meal_FB</th>\n",
       "      <th>meal_HB</th>\n",
       "      <th>meal_Undefined</th>\n",
       "      <th>...</th>\n",
       "      <th>DaysWaiting_Low</th>\n",
       "      <th>DaysWaiting_Medium</th>\n",
       "      <th>DaysWaiting_No Waiting</th>\n",
       "      <th>lead_category_High</th>\n",
       "      <th>lead_category_Low</th>\n",
       "      <th>lead_category_Medium</th>\n",
       "      <th>lead_category_No Lead Time</th>\n",
       "      <th>Room</th>\n",
       "      <th>net_cancelled</th>\n",
       "      <th>is_repeated_guest</th>\n",
       "    </tr>\n",
       "  </thead>\n",
       "  <tbody>\n",
       "    <tr>\n",
       "      <th>0</th>\n",
       "      <td>0</td>\n",
       "      <td>1</td>\n",
       "      <td>0</td>\n",
       "      <td>1</td>\n",
       "      <td>0</td>\n",
       "      <td>0</td>\n",
       "      <td>1</td>\n",
       "      <td>0</td>\n",
       "      <td>0</td>\n",
       "      <td>0</td>\n",
       "      <td>...</td>\n",
       "      <td>0</td>\n",
       "      <td>0</td>\n",
       "      <td>1</td>\n",
       "      <td>0</td>\n",
       "      <td>0</td>\n",
       "      <td>1</td>\n",
       "      <td>0</td>\n",
       "      <td>1</td>\n",
       "      <td>0</td>\n",
       "      <td>0</td>\n",
       "    </tr>\n",
       "    <tr>\n",
       "      <th>1</th>\n",
       "      <td>0</td>\n",
       "      <td>1</td>\n",
       "      <td>0</td>\n",
       "      <td>1</td>\n",
       "      <td>0</td>\n",
       "      <td>0</td>\n",
       "      <td>1</td>\n",
       "      <td>0</td>\n",
       "      <td>0</td>\n",
       "      <td>0</td>\n",
       "      <td>...</td>\n",
       "      <td>0</td>\n",
       "      <td>0</td>\n",
       "      <td>1</td>\n",
       "      <td>1</td>\n",
       "      <td>0</td>\n",
       "      <td>0</td>\n",
       "      <td>0</td>\n",
       "      <td>1</td>\n",
       "      <td>0</td>\n",
       "      <td>0</td>\n",
       "    </tr>\n",
       "    <tr>\n",
       "      <th>2</th>\n",
       "      <td>0</td>\n",
       "      <td>1</td>\n",
       "      <td>0</td>\n",
       "      <td>1</td>\n",
       "      <td>0</td>\n",
       "      <td>0</td>\n",
       "      <td>1</td>\n",
       "      <td>0</td>\n",
       "      <td>0</td>\n",
       "      <td>0</td>\n",
       "      <td>...</td>\n",
       "      <td>0</td>\n",
       "      <td>0</td>\n",
       "      <td>1</td>\n",
       "      <td>0</td>\n",
       "      <td>1</td>\n",
       "      <td>0</td>\n",
       "      <td>0</td>\n",
       "      <td>0</td>\n",
       "      <td>0</td>\n",
       "      <td>0</td>\n",
       "    </tr>\n",
       "    <tr>\n",
       "      <th>3</th>\n",
       "      <td>0</td>\n",
       "      <td>1</td>\n",
       "      <td>0</td>\n",
       "      <td>1</td>\n",
       "      <td>0</td>\n",
       "      <td>0</td>\n",
       "      <td>1</td>\n",
       "      <td>0</td>\n",
       "      <td>0</td>\n",
       "      <td>0</td>\n",
       "      <td>...</td>\n",
       "      <td>0</td>\n",
       "      <td>0</td>\n",
       "      <td>1</td>\n",
       "      <td>0</td>\n",
       "      <td>1</td>\n",
       "      <td>0</td>\n",
       "      <td>0</td>\n",
       "      <td>1</td>\n",
       "      <td>0</td>\n",
       "      <td>0</td>\n",
       "    </tr>\n",
       "    <tr>\n",
       "      <th>4</th>\n",
       "      <td>0</td>\n",
       "      <td>1</td>\n",
       "      <td>0</td>\n",
       "      <td>1</td>\n",
       "      <td>0</td>\n",
       "      <td>0</td>\n",
       "      <td>1</td>\n",
       "      <td>0</td>\n",
       "      <td>0</td>\n",
       "      <td>0</td>\n",
       "      <td>...</td>\n",
       "      <td>0</td>\n",
       "      <td>0</td>\n",
       "      <td>1</td>\n",
       "      <td>0</td>\n",
       "      <td>1</td>\n",
       "      <td>0</td>\n",
       "      <td>0</td>\n",
       "      <td>1</td>\n",
       "      <td>0</td>\n",
       "      <td>0</td>\n",
       "    </tr>\n",
       "  </tbody>\n",
       "</table>\n",
       "<p>5 rows × 55 columns</p>\n",
       "</div>"
      ],
      "text/plain": [
       "  hotel_City Hotel hotel_Resort Hotel country_Africa country_Europe  \\\n",
       "0                0                  1              0              1   \n",
       "1                0                  1              0              1   \n",
       "2                0                  1              0              1   \n",
       "3                0                  1              0              1   \n",
       "4                0                  1              0              1   \n",
       "\n",
       "  country_North America country_Oceania meal_BB meal_FB meal_HB  \\\n",
       "0                     0               0       1       0       0   \n",
       "1                     0               0       1       0       0   \n",
       "2                     0               0       1       0       0   \n",
       "3                     0               0       1       0       0   \n",
       "4                     0               0       1       0       0   \n",
       "\n",
       "  meal_Undefined  ... DaysWaiting_Low DaysWaiting_Medium  \\\n",
       "0              0  ...               0                  0   \n",
       "1              0  ...               0                  0   \n",
       "2              0  ...               0                  0   \n",
       "3              0  ...               0                  0   \n",
       "4              0  ...               0                  0   \n",
       "\n",
       "  DaysWaiting_No Waiting lead_category_High lead_category_Low  \\\n",
       "0                      1                  0                 0   \n",
       "1                      1                  1                 0   \n",
       "2                      1                  0                 1   \n",
       "3                      1                  0                 1   \n",
       "4                      1                  0                 1   \n",
       "\n",
       "  lead_category_Medium lead_category_No Lead Time Room net_cancelled  \\\n",
       "0                    1                          0    1             0   \n",
       "1                    0                          0    1             0   \n",
       "2                    0                          0    0             0   \n",
       "3                    0                          0    1             0   \n",
       "4                    0                          0    1             0   \n",
       "\n",
       "  is_repeated_guest  \n",
       "0                 0  \n",
       "1                 0  \n",
       "2                 0  \n",
       "3                 0  \n",
       "4                 0  \n",
       "\n",
       "[5 rows x 55 columns]"
      ]
     },
     "execution_count": 134,
     "metadata": {},
     "output_type": "execute_result"
    }
   ],
   "source": [
    "final_cat.head()"
   ]
  },
  {
   "cell_type": "code",
   "execution_count": 135,
   "metadata": {},
   "outputs": [],
   "source": [
    "final_cat = final_cat.astype('int64')"
   ]
  },
  {
   "cell_type": "code",
   "execution_count": 136,
   "metadata": {},
   "outputs": [
    {
     "data": {
      "text/plain": [
       "(hotel_City Hotel                  int64\n",
       " hotel_Resort Hotel                int64\n",
       " country_Africa                    int64\n",
       " country_Europe                    int64\n",
       " country_North America             int64\n",
       " country_Oceania                   int64\n",
       " meal_BB                           int64\n",
       " meal_FB                           int64\n",
       " meal_HB                           int64\n",
       " meal_Undefined                    int64\n",
       " arrival_date_month_Autumn         int64\n",
       " arrival_date_month_Monsoon        int64\n",
       " arrival_date_month_Spring         int64\n",
       " arrival_date_month_Summer         int64\n",
       " arrival_date_month_Winter         int64\n",
       " market_segment_Aviation           int64\n",
       " market_segment_Complementary      int64\n",
       " market_segment_Corporate          int64\n",
       " market_segment_Direct             int64\n",
       " market_segment_Groups             int64\n",
       " market_segment_Offline TA/TO      int64\n",
       " customer_type_Contract            int64\n",
       " customer_type_Group               int64\n",
       " customer_type_Transient           int64\n",
       " customer_type_Transient-Party     int64\n",
       " deposit_type_No Deposit           int64\n",
       " deposit_type_Non Refund           int64\n",
       " deposit_type_Refundable           int64\n",
       " distribution_channel_Corporate    int64\n",
       " distribution_channel_Direct       int64\n",
       " distribution_channel_GDS          int64\n",
       " distribution_channel_TA/TO        int64\n",
       " total_of_special_requests_0       int64\n",
       " total_of_special_requests_1       int64\n",
       " total_of_special_requests_2       int64\n",
       " total_of_special_requests_3       int64\n",
       " total_of_special_requests_4       int64\n",
       " total_of_special_requests_5       int64\n",
       " required_car_parking_spaces_0     int64\n",
       " required_car_parking_spaces_1     int64\n",
       " required_car_parking_spaces_2     int64\n",
       " booking_changes_Few changes       int64\n",
       " booking_changes_More changes      int64\n",
       " booking_changes_No changes        int64\n",
       " DaysWaiting_High                  int64\n",
       " DaysWaiting_Low                   int64\n",
       " DaysWaiting_Medium                int64\n",
       " DaysWaiting_No Waiting            int64\n",
       " lead_category_High                int64\n",
       " lead_category_Low                 int64\n",
       " lead_category_Medium              int64\n",
       " lead_category_No Lead Time        int64\n",
       " Room                              int64\n",
       " net_cancelled                     int64\n",
       " is_repeated_guest                 int64\n",
       " dtype: object,\n",
       " stays_in_week_nights    float64\n",
       " people                  float64\n",
       " adr_pp                  float64\n",
       " dtype: object)"
      ]
     },
     "execution_count": 136,
     "metadata": {},
     "output_type": "execute_result"
    }
   ],
   "source": [
    "final_cat.dtypes, final_num.dtypes"
   ]
  },
  {
   "cell_type": "code",
   "execution_count": 137,
   "metadata": {},
   "outputs": [
    {
     "data": {
      "text/plain": [
       "Index(['hotel_City Hotel', 'hotel_Resort Hotel', 'country_Africa',\n",
       "       'country_Europe', 'country_North America', 'country_Oceania', 'meal_BB',\n",
       "       'meal_FB', 'meal_HB', 'meal_Undefined', 'arrival_date_month_Autumn',\n",
       "       'arrival_date_month_Monsoon', 'arrival_date_month_Spring',\n",
       "       'arrival_date_month_Summer', 'arrival_date_month_Winter',\n",
       "       'market_segment_Aviation', 'market_segment_Complementary',\n",
       "       'market_segment_Corporate', 'market_segment_Direct',\n",
       "       'market_segment_Groups', 'market_segment_Offline TA/TO',\n",
       "       'customer_type_Contract', 'customer_type_Group',\n",
       "       'customer_type_Transient', 'customer_type_Transient-Party',\n",
       "       'deposit_type_No Deposit', 'deposit_type_Non Refund',\n",
       "       'deposit_type_Refundable', 'distribution_channel_Corporate',\n",
       "       'distribution_channel_Direct', 'distribution_channel_GDS',\n",
       "       'distribution_channel_TA/TO', 'total_of_special_requests_0',\n",
       "       'total_of_special_requests_1', 'total_of_special_requests_2',\n",
       "       'total_of_special_requests_3', 'total_of_special_requests_4',\n",
       "       'total_of_special_requests_5', 'required_car_parking_spaces_0',\n",
       "       'required_car_parking_spaces_1', 'required_car_parking_spaces_2',\n",
       "       'booking_changes_Few changes', 'booking_changes_More changes',\n",
       "       'booking_changes_No changes', 'DaysWaiting_High', 'DaysWaiting_Low',\n",
       "       'DaysWaiting_Medium', 'DaysWaiting_No Waiting', 'lead_category_High',\n",
       "       'lead_category_Low', 'lead_category_Medium',\n",
       "       'lead_category_No Lead Time', 'Room', 'net_cancelled',\n",
       "       'is_repeated_guest'],\n",
       "      dtype='object')"
      ]
     },
     "execution_count": 137,
     "metadata": {},
     "output_type": "execute_result"
    }
   ],
   "source": [
    "final_cat.columns"
   ]
  },
  {
   "cell_type": "code",
   "execution_count": 138,
   "metadata": {},
   "outputs": [
    {
     "data": {
      "text/plain": [
       "(119210, 55)"
      ]
     },
     "execution_count": 138,
     "metadata": {},
     "output_type": "execute_result"
    }
   ],
   "source": [
    "final_cat.shape"
   ]
  },
  {
   "cell_type": "code",
   "execution_count": 139,
   "metadata": {},
   "outputs": [
    {
     "data": {
      "text/plain": [
       "(119210, 3)"
      ]
     },
     "execution_count": 139,
     "metadata": {},
     "output_type": "execute_result"
    }
   ],
   "source": [
    "final_num.shape"
   ]
  },
  {
   "cell_type": "code",
   "execution_count": 140,
   "metadata": {},
   "outputs": [
    {
     "data": {
      "text/plain": [
       "Index(['stays_in_week_nights', 'people', 'adr_pp'], dtype='object')"
      ]
     },
     "execution_count": 140,
     "metadata": {},
     "output_type": "execute_result"
    }
   ],
   "source": [
    "final_num.columns"
   ]
  },
  {
   "cell_type": "code",
   "execution_count": 141,
   "metadata": {},
   "outputs": [],
   "source": [
    "final_df = np.hstack((final_cat, final_num))\n",
    "final_df = pd.DataFrame(final_df, columns = pd.concat([final_cat, final_num], axis = 1).columns)\n",
    "final_df = np.hstack([final_df, pd.DataFrame(df_copy_no_yfe['is_canceled'])])\n"
   ]
  },
  {
   "cell_type": "code",
   "execution_count": 142,
   "metadata": {},
   "outputs": [],
   "source": [
    "final_new = pd.DataFrame(final_df, columns = pd.concat([final_cat, final_num, df_copy_no_yfe['is_canceled']], axis = 1).columns)"
   ]
  },
  {
   "cell_type": "code",
   "execution_count": 143,
   "metadata": {},
   "outputs": [
    {
     "data": {
      "text/html": [
       "<div>\n",
       "<style scoped>\n",
       "    .dataframe tbody tr th:only-of-type {\n",
       "        vertical-align: middle;\n",
       "    }\n",
       "\n",
       "    .dataframe tbody tr th {\n",
       "        vertical-align: top;\n",
       "    }\n",
       "\n",
       "    .dataframe thead th {\n",
       "        text-align: right;\n",
       "    }\n",
       "</style>\n",
       "<table border=\"1\" class=\"dataframe\">\n",
       "  <thead>\n",
       "    <tr style=\"text-align: right;\">\n",
       "      <th></th>\n",
       "      <th>hotel_City Hotel</th>\n",
       "      <th>hotel_Resort Hotel</th>\n",
       "      <th>country_Africa</th>\n",
       "      <th>country_Europe</th>\n",
       "      <th>country_North America</th>\n",
       "      <th>country_Oceania</th>\n",
       "      <th>meal_BB</th>\n",
       "      <th>meal_FB</th>\n",
       "      <th>meal_HB</th>\n",
       "      <th>meal_Undefined</th>\n",
       "      <th>...</th>\n",
       "      <th>lead_category_Low</th>\n",
       "      <th>lead_category_Medium</th>\n",
       "      <th>lead_category_No Lead Time</th>\n",
       "      <th>Room</th>\n",
       "      <th>net_cancelled</th>\n",
       "      <th>is_repeated_guest</th>\n",
       "      <th>stays_in_week_nights</th>\n",
       "      <th>people</th>\n",
       "      <th>adr_pp</th>\n",
       "      <th>is_canceled</th>\n",
       "    </tr>\n",
       "  </thead>\n",
       "  <tbody>\n",
       "    <tr>\n",
       "      <th>0</th>\n",
       "      <td>0.0</td>\n",
       "      <td>1.0</td>\n",
       "      <td>0.0</td>\n",
       "      <td>1.0</td>\n",
       "      <td>0.0</td>\n",
       "      <td>0.0</td>\n",
       "      <td>1.0</td>\n",
       "      <td>0.0</td>\n",
       "      <td>0.0</td>\n",
       "      <td>0.0</td>\n",
       "      <td>...</td>\n",
       "      <td>0.0</td>\n",
       "      <td>1.0</td>\n",
       "      <td>0.0</td>\n",
       "      <td>1.0</td>\n",
       "      <td>0.0</td>\n",
       "      <td>0.0</td>\n",
       "      <td>-2.193059</td>\n",
       "      <td>0.158484</td>\n",
       "      <td>-3.325562</td>\n",
       "      <td>0.0</td>\n",
       "    </tr>\n",
       "    <tr>\n",
       "      <th>1</th>\n",
       "      <td>0.0</td>\n",
       "      <td>1.0</td>\n",
       "      <td>0.0</td>\n",
       "      <td>1.0</td>\n",
       "      <td>0.0</td>\n",
       "      <td>0.0</td>\n",
       "      <td>1.0</td>\n",
       "      <td>0.0</td>\n",
       "      <td>0.0</td>\n",
       "      <td>0.0</td>\n",
       "      <td>...</td>\n",
       "      <td>0.0</td>\n",
       "      <td>0.0</td>\n",
       "      <td>0.0</td>\n",
       "      <td>1.0</td>\n",
       "      <td>0.0</td>\n",
       "      <td>0.0</td>\n",
       "      <td>-2.193059</td>\n",
       "      <td>0.158484</td>\n",
       "      <td>-3.325562</td>\n",
       "      <td>0.0</td>\n",
       "    </tr>\n",
       "    <tr>\n",
       "      <th>2</th>\n",
       "      <td>0.0</td>\n",
       "      <td>1.0</td>\n",
       "      <td>0.0</td>\n",
       "      <td>1.0</td>\n",
       "      <td>0.0</td>\n",
       "      <td>0.0</td>\n",
       "      <td>1.0</td>\n",
       "      <td>0.0</td>\n",
       "      <td>0.0</td>\n",
       "      <td>0.0</td>\n",
       "      <td>...</td>\n",
       "      <td>1.0</td>\n",
       "      <td>0.0</td>\n",
       "      <td>0.0</td>\n",
       "      <td>0.0</td>\n",
       "      <td>0.0</td>\n",
       "      <td>0.0</td>\n",
       "      <td>-0.877644</td>\n",
       "      <td>-1.721918</td>\n",
       "      <td>0.787670</td>\n",
       "      <td>0.0</td>\n",
       "    </tr>\n",
       "    <tr>\n",
       "      <th>3</th>\n",
       "      <td>0.0</td>\n",
       "      <td>1.0</td>\n",
       "      <td>0.0</td>\n",
       "      <td>1.0</td>\n",
       "      <td>0.0</td>\n",
       "      <td>0.0</td>\n",
       "      <td>1.0</td>\n",
       "      <td>0.0</td>\n",
       "      <td>0.0</td>\n",
       "      <td>0.0</td>\n",
       "      <td>...</td>\n",
       "      <td>1.0</td>\n",
       "      <td>0.0</td>\n",
       "      <td>0.0</td>\n",
       "      <td>1.0</td>\n",
       "      <td>0.0</td>\n",
       "      <td>0.0</td>\n",
       "      <td>-0.877644</td>\n",
       "      <td>-1.721918</td>\n",
       "      <td>0.787670</td>\n",
       "      <td>0.0</td>\n",
       "    </tr>\n",
       "    <tr>\n",
       "      <th>4</th>\n",
       "      <td>0.0</td>\n",
       "      <td>1.0</td>\n",
       "      <td>0.0</td>\n",
       "      <td>1.0</td>\n",
       "      <td>0.0</td>\n",
       "      <td>0.0</td>\n",
       "      <td>1.0</td>\n",
       "      <td>0.0</td>\n",
       "      <td>0.0</td>\n",
       "      <td>0.0</td>\n",
       "      <td>...</td>\n",
       "      <td>1.0</td>\n",
       "      <td>0.0</td>\n",
       "      <td>0.0</td>\n",
       "      <td>1.0</td>\n",
       "      <td>0.0</td>\n",
       "      <td>0.0</td>\n",
       "      <td>-0.078177</td>\n",
       "      <td>0.158484</td>\n",
       "      <td>-0.106321</td>\n",
       "      <td>0.0</td>\n",
       "    </tr>\n",
       "  </tbody>\n",
       "</table>\n",
       "<p>5 rows × 59 columns</p>\n",
       "</div>"
      ],
      "text/plain": [
       "   hotel_City Hotel  hotel_Resort Hotel  country_Africa  country_Europe  \\\n",
       "0               0.0                 1.0             0.0             1.0   \n",
       "1               0.0                 1.0             0.0             1.0   \n",
       "2               0.0                 1.0             0.0             1.0   \n",
       "3               0.0                 1.0             0.0             1.0   \n",
       "4               0.0                 1.0             0.0             1.0   \n",
       "\n",
       "   country_North America  country_Oceania  meal_BB  meal_FB  meal_HB  \\\n",
       "0                    0.0              0.0      1.0      0.0      0.0   \n",
       "1                    0.0              0.0      1.0      0.0      0.0   \n",
       "2                    0.0              0.0      1.0      0.0      0.0   \n",
       "3                    0.0              0.0      1.0      0.0      0.0   \n",
       "4                    0.0              0.0      1.0      0.0      0.0   \n",
       "\n",
       "   meal_Undefined  ...  lead_category_Low  lead_category_Medium  \\\n",
       "0             0.0  ...                0.0                   1.0   \n",
       "1             0.0  ...                0.0                   0.0   \n",
       "2             0.0  ...                1.0                   0.0   \n",
       "3             0.0  ...                1.0                   0.0   \n",
       "4             0.0  ...                1.0                   0.0   \n",
       "\n",
       "   lead_category_No Lead Time  Room  net_cancelled  is_repeated_guest  \\\n",
       "0                         0.0   1.0            0.0                0.0   \n",
       "1                         0.0   1.0            0.0                0.0   \n",
       "2                         0.0   0.0            0.0                0.0   \n",
       "3                         0.0   1.0            0.0                0.0   \n",
       "4                         0.0   1.0            0.0                0.0   \n",
       "\n",
       "   stays_in_week_nights    people    adr_pp  is_canceled  \n",
       "0             -2.193059  0.158484 -3.325562          0.0  \n",
       "1             -2.193059  0.158484 -3.325562          0.0  \n",
       "2             -0.877644 -1.721918  0.787670          0.0  \n",
       "3             -0.877644 -1.721918  0.787670          0.0  \n",
       "4             -0.078177  0.158484 -0.106321          0.0  \n",
       "\n",
       "[5 rows x 59 columns]"
      ]
     },
     "execution_count": 143,
     "metadata": {},
     "output_type": "execute_result"
    }
   ],
   "source": [
    "final_new.head()"
   ]
  },
  {
   "cell_type": "code",
   "execution_count": 144,
   "metadata": {},
   "outputs": [
    {
     "data": {
      "text/plain": [
       "0.0    75011\n",
       "1.0    44199\n",
       "Name: is_canceled, dtype: int64"
      ]
     },
     "execution_count": 144,
     "metadata": {},
     "output_type": "execute_result"
    }
   ],
   "source": [
    "final_new['is_canceled'].value_counts()"
   ]
  },
  {
   "cell_type": "code",
   "execution_count": 145,
   "metadata": {},
   "outputs": [
    {
     "data": {
      "text/plain": [
       "119210"
      ]
     },
     "execution_count": 145,
     "metadata": {},
     "output_type": "execute_result"
    }
   ],
   "source": [
    "len(df_copy_no_yfe['is_canceled'])"
   ]
  },
  {
   "cell_type": "code",
   "execution_count": 146,
   "metadata": {},
   "outputs": [
    {
     "data": {
      "text/plain": [
       "hotel_City Hotel                  float64\n",
       "hotel_Resort Hotel                float64\n",
       "country_Africa                    float64\n",
       "country_Europe                    float64\n",
       "country_North America             float64\n",
       "country_Oceania                   float64\n",
       "meal_BB                           float64\n",
       "meal_FB                           float64\n",
       "meal_HB                           float64\n",
       "meal_Undefined                    float64\n",
       "arrival_date_month_Autumn         float64\n",
       "arrival_date_month_Monsoon        float64\n",
       "arrival_date_month_Spring         float64\n",
       "arrival_date_month_Summer         float64\n",
       "arrival_date_month_Winter         float64\n",
       "market_segment_Aviation           float64\n",
       "market_segment_Complementary      float64\n",
       "market_segment_Corporate          float64\n",
       "market_segment_Direct             float64\n",
       "market_segment_Groups             float64\n",
       "market_segment_Offline TA/TO      float64\n",
       "customer_type_Contract            float64\n",
       "customer_type_Group               float64\n",
       "customer_type_Transient           float64\n",
       "customer_type_Transient-Party     float64\n",
       "deposit_type_No Deposit           float64\n",
       "deposit_type_Non Refund           float64\n",
       "deposit_type_Refundable           float64\n",
       "distribution_channel_Corporate    float64\n",
       "distribution_channel_Direct       float64\n",
       "distribution_channel_GDS          float64\n",
       "distribution_channel_TA/TO        float64\n",
       "total_of_special_requests_0       float64\n",
       "total_of_special_requests_1       float64\n",
       "total_of_special_requests_2       float64\n",
       "total_of_special_requests_3       float64\n",
       "total_of_special_requests_4       float64\n",
       "total_of_special_requests_5       float64\n",
       "required_car_parking_spaces_0     float64\n",
       "required_car_parking_spaces_1     float64\n",
       "required_car_parking_spaces_2     float64\n",
       "booking_changes_Few changes       float64\n",
       "booking_changes_More changes      float64\n",
       "booking_changes_No changes        float64\n",
       "DaysWaiting_High                  float64\n",
       "DaysWaiting_Low                   float64\n",
       "DaysWaiting_Medium                float64\n",
       "DaysWaiting_No Waiting            float64\n",
       "lead_category_High                float64\n",
       "lead_category_Low                 float64\n",
       "lead_category_Medium              float64\n",
       "lead_category_No Lead Time        float64\n",
       "Room                              float64\n",
       "net_cancelled                     float64\n",
       "is_repeated_guest                 float64\n",
       "stays_in_week_nights              float64\n",
       "people                            float64\n",
       "adr_pp                            float64\n",
       "is_canceled                       float64\n",
       "dtype: object"
      ]
     },
     "execution_count": 146,
     "metadata": {},
     "output_type": "execute_result"
    }
   ],
   "source": [
    "final_new.dtypes"
   ]
  },
  {
   "cell_type": "code",
   "execution_count": 147,
   "metadata": {},
   "outputs": [
    {
     "data": {
      "text/plain": [
       "hotel_City Hotel                  0\n",
       "hotel_Resort Hotel                0\n",
       "country_Africa                    0\n",
       "country_Europe                    0\n",
       "country_North America             0\n",
       "country_Oceania                   0\n",
       "meal_BB                           0\n",
       "meal_FB                           0\n",
       "meal_HB                           0\n",
       "meal_Undefined                    0\n",
       "arrival_date_month_Autumn         0\n",
       "arrival_date_month_Monsoon        0\n",
       "arrival_date_month_Spring         0\n",
       "arrival_date_month_Summer         0\n",
       "arrival_date_month_Winter         0\n",
       "market_segment_Aviation           0\n",
       "market_segment_Complementary      0\n",
       "market_segment_Corporate          0\n",
       "market_segment_Direct             0\n",
       "market_segment_Groups             0\n",
       "market_segment_Offline TA/TO      0\n",
       "customer_type_Contract            0\n",
       "customer_type_Group               0\n",
       "customer_type_Transient           0\n",
       "customer_type_Transient-Party     0\n",
       "deposit_type_No Deposit           0\n",
       "deposit_type_Non Refund           0\n",
       "deposit_type_Refundable           0\n",
       "distribution_channel_Corporate    0\n",
       "distribution_channel_Direct       0\n",
       "distribution_channel_GDS          0\n",
       "distribution_channel_TA/TO        0\n",
       "total_of_special_requests_0       0\n",
       "total_of_special_requests_1       0\n",
       "total_of_special_requests_2       0\n",
       "total_of_special_requests_3       0\n",
       "total_of_special_requests_4       0\n",
       "total_of_special_requests_5       0\n",
       "required_car_parking_spaces_0     0\n",
       "required_car_parking_spaces_1     0\n",
       "required_car_parking_spaces_2     0\n",
       "booking_changes_Few changes       0\n",
       "booking_changes_More changes      0\n",
       "booking_changes_No changes        0\n",
       "DaysWaiting_High                  0\n",
       "DaysWaiting_Low                   0\n",
       "DaysWaiting_Medium                0\n",
       "DaysWaiting_No Waiting            0\n",
       "lead_category_High                0\n",
       "lead_category_Low                 0\n",
       "lead_category_Medium              0\n",
       "lead_category_No Lead Time        0\n",
       "Room                              0\n",
       "net_cancelled                     0\n",
       "is_repeated_guest                 0\n",
       "stays_in_week_nights              0\n",
       "people                            0\n",
       "adr_pp                            0\n",
       "is_canceled                       0\n",
       "dtype: int64"
      ]
     },
     "execution_count": 147,
     "metadata": {},
     "output_type": "execute_result"
    }
   ],
   "source": [
    "final_new.isnull().sum()"
   ]
  },
  {
   "cell_type": "code",
   "execution_count": 148,
   "metadata": {},
   "outputs": [
    {
     "data": {
      "text/plain": [
       "hotel_City Hotel                  float64\n",
       "hotel_Resort Hotel                float64\n",
       "country_Africa                    float64\n",
       "country_Europe                    float64\n",
       "country_North America             float64\n",
       "country_Oceania                   float64\n",
       "meal_BB                           float64\n",
       "meal_FB                           float64\n",
       "meal_HB                           float64\n",
       "meal_Undefined                    float64\n",
       "arrival_date_month_Autumn         float64\n",
       "arrival_date_month_Monsoon        float64\n",
       "arrival_date_month_Spring         float64\n",
       "arrival_date_month_Summer         float64\n",
       "arrival_date_month_Winter         float64\n",
       "market_segment_Aviation           float64\n",
       "market_segment_Complementary      float64\n",
       "market_segment_Corporate          float64\n",
       "market_segment_Direct             float64\n",
       "market_segment_Groups             float64\n",
       "market_segment_Offline TA/TO      float64\n",
       "customer_type_Contract            float64\n",
       "customer_type_Group               float64\n",
       "customer_type_Transient           float64\n",
       "customer_type_Transient-Party     float64\n",
       "deposit_type_No Deposit           float64\n",
       "deposit_type_Non Refund           float64\n",
       "deposit_type_Refundable           float64\n",
       "distribution_channel_Corporate    float64\n",
       "distribution_channel_Direct       float64\n",
       "distribution_channel_GDS          float64\n",
       "distribution_channel_TA/TO        float64\n",
       "total_of_special_requests_0       float64\n",
       "total_of_special_requests_1       float64\n",
       "total_of_special_requests_2       float64\n",
       "total_of_special_requests_3       float64\n",
       "total_of_special_requests_4       float64\n",
       "total_of_special_requests_5       float64\n",
       "required_car_parking_spaces_0     float64\n",
       "required_car_parking_spaces_1     float64\n",
       "required_car_parking_spaces_2     float64\n",
       "booking_changes_Few changes       float64\n",
       "booking_changes_More changes      float64\n",
       "booking_changes_No changes        float64\n",
       "DaysWaiting_High                  float64\n",
       "DaysWaiting_Low                   float64\n",
       "DaysWaiting_Medium                float64\n",
       "DaysWaiting_No Waiting            float64\n",
       "lead_category_High                float64\n",
       "lead_category_Low                 float64\n",
       "lead_category_Medium              float64\n",
       "lead_category_No Lead Time        float64\n",
       "Room                              float64\n",
       "net_cancelled                     float64\n",
       "is_repeated_guest                 float64\n",
       "stays_in_week_nights              float64\n",
       "people                            float64\n",
       "adr_pp                            float64\n",
       "is_canceled                       float64\n",
       "dtype: object"
      ]
     },
     "execution_count": 148,
     "metadata": {},
     "output_type": "execute_result"
    }
   ],
   "source": [
    "final_new.dtypes"
   ]
  },
  {
   "cell_type": "code",
   "execution_count": 149,
   "metadata": {},
   "outputs": [
    {
     "data": {
      "text/html": [
       "<div>\n",
       "<style scoped>\n",
       "    .dataframe tbody tr th:only-of-type {\n",
       "        vertical-align: middle;\n",
       "    }\n",
       "\n",
       "    .dataframe tbody tr th {\n",
       "        vertical-align: top;\n",
       "    }\n",
       "\n",
       "    .dataframe thead th {\n",
       "        text-align: right;\n",
       "    }\n",
       "</style>\n",
       "<table border=\"1\" class=\"dataframe\">\n",
       "  <thead>\n",
       "    <tr style=\"text-align: right;\">\n",
       "      <th></th>\n",
       "      <th>hotel_City Hotel</th>\n",
       "      <th>hotel_Resort Hotel</th>\n",
       "      <th>country_Africa</th>\n",
       "      <th>country_Europe</th>\n",
       "      <th>country_North America</th>\n",
       "      <th>country_Oceania</th>\n",
       "      <th>meal_BB</th>\n",
       "      <th>meal_FB</th>\n",
       "      <th>meal_HB</th>\n",
       "      <th>meal_Undefined</th>\n",
       "      <th>...</th>\n",
       "      <th>lead_category_Low</th>\n",
       "      <th>lead_category_Medium</th>\n",
       "      <th>lead_category_No Lead Time</th>\n",
       "      <th>Room</th>\n",
       "      <th>net_cancelled</th>\n",
       "      <th>is_repeated_guest</th>\n",
       "      <th>stays_in_week_nights</th>\n",
       "      <th>people</th>\n",
       "      <th>adr_pp</th>\n",
       "      <th>is_canceled</th>\n",
       "    </tr>\n",
       "  </thead>\n",
       "  <tbody>\n",
       "  </tbody>\n",
       "</table>\n",
       "<p>0 rows × 59 columns</p>\n",
       "</div>"
      ],
      "text/plain": [
       "Empty DataFrame\n",
       "Columns: [hotel_City Hotel, hotel_Resort Hotel, country_Africa, country_Europe, country_North America, country_Oceania, meal_BB, meal_FB, meal_HB, meal_Undefined, arrival_date_month_Autumn, arrival_date_month_Monsoon, arrival_date_month_Spring, arrival_date_month_Summer, arrival_date_month_Winter, market_segment_Aviation, market_segment_Complementary, market_segment_Corporate, market_segment_Direct, market_segment_Groups, market_segment_Offline TA/TO, customer_type_Contract, customer_type_Group, customer_type_Transient, customer_type_Transient-Party, deposit_type_No Deposit, deposit_type_Non Refund, deposit_type_Refundable, distribution_channel_Corporate, distribution_channel_Direct, distribution_channel_GDS, distribution_channel_TA/TO, total_of_special_requests_0, total_of_special_requests_1, total_of_special_requests_2, total_of_special_requests_3, total_of_special_requests_4, total_of_special_requests_5, required_car_parking_spaces_0, required_car_parking_spaces_1, required_car_parking_spaces_2, booking_changes_Few changes, booking_changes_More changes, booking_changes_No changes, DaysWaiting_High, DaysWaiting_Low, DaysWaiting_Medium, DaysWaiting_No Waiting, lead_category_High, lead_category_Low, lead_category_Medium, lead_category_No Lead Time, Room, net_cancelled, is_repeated_guest, stays_in_week_nights, people, adr_pp, is_canceled]\n",
       "Index: []\n",
       "\n",
       "[0 rows x 59 columns]"
      ]
     },
     "execution_count": 149,
     "metadata": {},
     "output_type": "execute_result"
    }
   ],
   "source": [
    "final_new[final_new['is_canceled'].isnull()]"
   ]
  },
  {
   "cell_type": "markdown",
   "metadata": {},
   "source": [
    "#### Scaling"
   ]
  },
  {
   "cell_type": "code",
   "execution_count": 150,
   "metadata": {},
   "outputs": [],
   "source": [
    "X = final_new.drop('is_canceled', axis = 1)\n",
    "y = final_new['is_canceled']"
   ]
  },
  {
   "cell_type": "code",
   "execution_count": 151,
   "metadata": {},
   "outputs": [
    {
     "data": {
      "text/plain": [
       "0    0.0\n",
       "1    0.0\n",
       "2    0.0\n",
       "3    0.0\n",
       "4    0.0\n",
       "Name: is_canceled, dtype: float64"
      ]
     },
     "execution_count": 151,
     "metadata": {},
     "output_type": "execute_result"
    }
   ],
   "source": [
    "y.head()"
   ]
  },
  {
   "cell_type": "code",
   "execution_count": 152,
   "metadata": {},
   "outputs": [
    {
     "data": {
      "text/plain": [
       "hotel_City Hotel                  0\n",
       "hotel_Resort Hotel                0\n",
       "country_Africa                    0\n",
       "country_Europe                    0\n",
       "country_North America             0\n",
       "country_Oceania                   0\n",
       "meal_BB                           0\n",
       "meal_FB                           0\n",
       "meal_HB                           0\n",
       "meal_Undefined                    0\n",
       "arrival_date_month_Autumn         0\n",
       "arrival_date_month_Monsoon        0\n",
       "arrival_date_month_Spring         0\n",
       "arrival_date_month_Summer         0\n",
       "arrival_date_month_Winter         0\n",
       "market_segment_Aviation           0\n",
       "market_segment_Complementary      0\n",
       "market_segment_Corporate          0\n",
       "market_segment_Direct             0\n",
       "market_segment_Groups             0\n",
       "market_segment_Offline TA/TO      0\n",
       "customer_type_Contract            0\n",
       "customer_type_Group               0\n",
       "customer_type_Transient           0\n",
       "customer_type_Transient-Party     0\n",
       "deposit_type_No Deposit           0\n",
       "deposit_type_Non Refund           0\n",
       "deposit_type_Refundable           0\n",
       "distribution_channel_Corporate    0\n",
       "distribution_channel_Direct       0\n",
       "distribution_channel_GDS          0\n",
       "distribution_channel_TA/TO        0\n",
       "total_of_special_requests_0       0\n",
       "total_of_special_requests_1       0\n",
       "total_of_special_requests_2       0\n",
       "total_of_special_requests_3       0\n",
       "total_of_special_requests_4       0\n",
       "total_of_special_requests_5       0\n",
       "required_car_parking_spaces_0     0\n",
       "required_car_parking_spaces_1     0\n",
       "required_car_parking_spaces_2     0\n",
       "booking_changes_Few changes       0\n",
       "booking_changes_More changes      0\n",
       "booking_changes_No changes        0\n",
       "DaysWaiting_High                  0\n",
       "DaysWaiting_Low                   0\n",
       "DaysWaiting_Medium                0\n",
       "DaysWaiting_No Waiting            0\n",
       "lead_category_High                0\n",
       "lead_category_Low                 0\n",
       "lead_category_Medium              0\n",
       "lead_category_No Lead Time        0\n",
       "Room                              0\n",
       "net_cancelled                     0\n",
       "is_repeated_guest                 0\n",
       "stays_in_week_nights              0\n",
       "people                            0\n",
       "adr_pp                            0\n",
       "is_canceled                       0\n",
       "dtype: int64"
      ]
     },
     "execution_count": 152,
     "metadata": {},
     "output_type": "execute_result"
    }
   ],
   "source": [
    "final_new.isnull().sum()"
   ]
  },
  {
   "cell_type": "code",
   "execution_count": 153,
   "metadata": {},
   "outputs": [
    {
     "data": {
      "text/plain": [
       "(119210, 58)"
      ]
     },
     "execution_count": 153,
     "metadata": {},
     "output_type": "execute_result"
    }
   ],
   "source": [
    "X.shape"
   ]
  },
  {
   "cell_type": "code",
   "execution_count": 154,
   "metadata": {},
   "outputs": [
    {
     "data": {
      "text/plain": [
       "(119210,)"
      ]
     },
     "execution_count": 154,
     "metadata": {},
     "output_type": "execute_result"
    }
   ],
   "source": [
    "y.shape"
   ]
  },
  {
   "cell_type": "code",
   "execution_count": 155,
   "metadata": {},
   "outputs": [],
   "source": [
    "from sklearn.model_selection import train_test_split\n",
    "\n",
    "X_train, X_test, y_train, y_test = train_test_split(X, y, random_state = 1, test_size = 0.3)"
   ]
  },
  {
   "cell_type": "code",
   "execution_count": 156,
   "metadata": {},
   "outputs": [],
   "source": [
    "from sklearn.preprocessing import MinMaxScaler\n",
    "\n",
    "scaler = MinMaxScaler()\n",
    "scaler.fit(X_train)\n",
    "X_train_scaled = scaler.transform(X_train) \n",
    "X_test_scaled = scaler.transform(X_test)"
   ]
  },
  {
   "cell_type": "code",
   "execution_count": 157,
   "metadata": {},
   "outputs": [],
   "source": [
    "train = pd.DataFrame(X_train_scaled, columns = X_train.columns)\n"
   ]
  },
  {
   "cell_type": "code",
   "execution_count": 158,
   "metadata": {},
   "outputs": [
    {
     "data": {
      "text/plain": [
       "array([[1.        , 0.        , 0.        , ..., 0.26936712, 0.13164106,\n",
       "        0.17115955],\n",
       "       [0.        , 1.        , 0.        , ..., 0.        , 0.13164106,\n",
       "        0.11602168],\n",
       "       [0.        , 1.        , 0.        , ..., 0.40182049, 0.22388871,\n",
       "        0.17226152],\n",
       "       ...,\n",
       "       [0.        , 1.        , 0.        , ..., 0.34338015, 0.13164106,\n",
       "        0.11773779],\n",
       "       [1.        , 0.        , 0.        , ..., 0.        , 0.        ,\n",
       "        0.04267289],\n",
       "       [1.        , 0.        , 0.        , ..., 0.34338015, 0.13164106,\n",
       "        0.14914656]])"
      ]
     },
     "execution_count": 158,
     "metadata": {},
     "output_type": "execute_result"
    }
   ],
   "source": [
    "X_train_scaled"
   ]
  },
  {
   "cell_type": "code",
   "execution_count": 159,
   "metadata": {},
   "outputs": [
    {
     "data": {
      "text/plain": [
       "hotel_City Hotel                  float64\n",
       "hotel_Resort Hotel                float64\n",
       "country_Africa                    float64\n",
       "country_Europe                    float64\n",
       "country_North America             float64\n",
       "country_Oceania                   float64\n",
       "meal_BB                           float64\n",
       "meal_FB                           float64\n",
       "meal_HB                           float64\n",
       "meal_Undefined                    float64\n",
       "arrival_date_month_Autumn         float64\n",
       "arrival_date_month_Monsoon        float64\n",
       "arrival_date_month_Spring         float64\n",
       "arrival_date_month_Summer         float64\n",
       "arrival_date_month_Winter         float64\n",
       "market_segment_Aviation           float64\n",
       "market_segment_Complementary      float64\n",
       "market_segment_Corporate          float64\n",
       "market_segment_Direct             float64\n",
       "market_segment_Groups             float64\n",
       "market_segment_Offline TA/TO      float64\n",
       "customer_type_Contract            float64\n",
       "customer_type_Group               float64\n",
       "customer_type_Transient           float64\n",
       "customer_type_Transient-Party     float64\n",
       "deposit_type_No Deposit           float64\n",
       "deposit_type_Non Refund           float64\n",
       "deposit_type_Refundable           float64\n",
       "distribution_channel_Corporate    float64\n",
       "distribution_channel_Direct       float64\n",
       "distribution_channel_GDS          float64\n",
       "distribution_channel_TA/TO        float64\n",
       "total_of_special_requests_0       float64\n",
       "total_of_special_requests_1       float64\n",
       "total_of_special_requests_2       float64\n",
       "total_of_special_requests_3       float64\n",
       "total_of_special_requests_4       float64\n",
       "total_of_special_requests_5       float64\n",
       "required_car_parking_spaces_0     float64\n",
       "required_car_parking_spaces_1     float64\n",
       "required_car_parking_spaces_2     float64\n",
       "booking_changes_Few changes       float64\n",
       "booking_changes_More changes      float64\n",
       "booking_changes_No changes        float64\n",
       "DaysWaiting_High                  float64\n",
       "DaysWaiting_Low                   float64\n",
       "DaysWaiting_Medium                float64\n",
       "DaysWaiting_No Waiting            float64\n",
       "lead_category_High                float64\n",
       "lead_category_Low                 float64\n",
       "lead_category_Medium              float64\n",
       "lead_category_No Lead Time        float64\n",
       "Room                              float64\n",
       "net_cancelled                     float64\n",
       "is_repeated_guest                 float64\n",
       "stays_in_week_nights              float64\n",
       "people                            float64\n",
       "adr_pp                            float64\n",
       "dtype: object"
      ]
     },
     "execution_count": 159,
     "metadata": {},
     "output_type": "execute_result"
    }
   ],
   "source": [
    "X_train.dtypes"
   ]
  },
  {
   "cell_type": "markdown",
   "metadata": {},
   "source": [
    "#### Selecting the base model"
   ]
  },
  {
   "cell_type": "code",
   "execution_count": 160,
   "metadata": {},
   "outputs": [],
   "source": [
    "from sklearn.linear_model import LogisticRegression\n",
    "from sklearn.metrics import classification_report, f1_score, accuracy_score, recall_score, precision_score, roc_curve, roc_auc_score"
   ]
  },
  {
   "cell_type": "code",
   "execution_count": 161,
   "metadata": {},
   "outputs": [
    {
     "data": {
      "text/plain": [
       "LogisticRegression(max_iter=119210)"
      ]
     },
     "execution_count": 161,
     "metadata": {},
     "output_type": "execute_result"
    }
   ],
   "source": [
    "lr_model = LogisticRegression(max_iter = len(df_copy_no_yfe))\n",
    "lr_model.fit(X_train_scaled, y_train)"
   ]
  },
  {
   "cell_type": "code",
   "execution_count": 162,
   "metadata": {},
   "outputs": [
    {
     "name": "stdout",
     "output_type": "stream",
     "text": [
      "              precision    recall  f1-score   support\n",
      "\n",
      "         0.0       0.93      0.81      0.86     25838\n",
      "         1.0       0.62      0.83      0.71      9925\n",
      "\n",
      "    accuracy                           0.81     35763\n",
      "   macro avg       0.78      0.82      0.79     35763\n",
      "weighted avg       0.84      0.81      0.82     35763\n",
      "\n"
     ]
    }
   ],
   "source": [
    "lr_y_pred = lr_model.predict(X_test_scaled)\n",
    "print(classification_report(lr_y_pred, y_test))"
   ]
  },
  {
   "cell_type": "code",
   "execution_count": 163,
   "metadata": {},
   "outputs": [
    {
     "data": {
      "text/plain": [
       "0.8143891731677991"
      ]
     },
     "execution_count": 163,
     "metadata": {},
     "output_type": "execute_result"
    }
   ],
   "source": [
    "accuracy_score(y_test, lr_y_pred)"
   ]
  },
  {
   "cell_type": "code",
   "execution_count": 164,
   "metadata": {},
   "outputs": [
    {
     "data": {
      "text/plain": [
       "0.71355829809269"
      ]
     },
     "execution_count": 164,
     "metadata": {},
     "output_type": "execute_result"
    }
   ],
   "source": [
    "f1_score(y_test, lr_y_pred)"
   ]
  },
  {
   "cell_type": "code",
   "execution_count": 165,
   "metadata": {},
   "outputs": [
    {
     "data": {
      "text/plain": [
       "0.8330478589420655"
      ]
     },
     "execution_count": 165,
     "metadata": {},
     "output_type": "execute_result"
    }
   ],
   "source": [
    "precision_score(y_test, lr_y_pred)"
   ]
  },
  {
   "cell_type": "code",
   "execution_count": 166,
   "metadata": {},
   "outputs": [
    {
     "data": {
      "text/plain": [
       "0.6240470978941807"
      ]
     },
     "execution_count": 166,
     "metadata": {},
     "output_type": "execute_result"
    }
   ],
   "source": [
    "recall_score(y_test, lr_y_pred)"
   ]
  },
  {
   "cell_type": "code",
   "execution_count": 171,
   "metadata": {},
   "outputs": [
    {
     "data": {
      "image/png": "[encoded data removed]",
      "text/plain": [
       "<Figure size 432x288 with 1 Axes>"
      ]
     },
     "metadata": {
      "needs_background": "light"
     },
     "output_type": "display_data"
    }
   ],
   "source": [
    "y_pred_prob = lr_model.predict_proba(X_test_scaled)[:,1]\n",
    "fpr, tpr, thresholds = roc_curve(y_test, y_pred_prob)\n",
    "plt.plot(fpr, tpr)\n",
    "\n",
    "plt.xlim([0.0, 1.0])\n",
    "plt.ylim([0.0, 1.0])\n",
    "plt.plot([0, 1], [0, 1], 'r--')\n",
    "plt.title('ROC Curve')\n",
    "plt.xlabel('False Positive Rate : 1 - Specificity')\n",
    "plt.ylabel('True Positive Rate : Sensitivity')\n",
    "plt.text(x = 0.02, y = 0.9, s = ('AUC Score :', round(roc_auc_score(y_test, y_pred_prob), 4)))\n",
    "\n",
    "plt.grid(True)"
   ]
  },
  {
   "cell_type": "raw",
   "metadata": {},
   "source": [
    "We try to improve our base model performance."
   ]
  },
  {
   "cell_type": "code",
   "execution_count": 161,
   "metadata": {},
   "outputs": [],
   "source": [
    "from sklearn.tree import DecisionTreeClassifier\n",
    "from sklearn.neighbors import KNeighborsClassifier\n",
    "from sklearn.linear_model import LogisticRegression\n",
    "from sklearn.ensemble import RandomForestClassifier\n",
    "from sklearn.naive_bayes import GaussianNB\n",
    "from xgboost import XGBClassifier\n",
    "from sklearn.model_selection import cross_val_score, KFold\n",
    "from sklearn.metrics import make_scorer\n",
    "from sklearn.ensemble import AdaBoostClassifier"
   ]
  },
  {
   "cell_type": "code",
   "execution_count": 168,
   "metadata": {},
   "outputs": [],
   "source": [
    "m1 = LogisticRegression(random_state=1)\n",
    "m2 = DecisionTreeClassifier(random_state=1)\n",
    "m3 = RandomForestClassifier(random_state=1)\n",
    "m4 = KNeighborsClassifier()\n",
    "m5 = GaussianNB()\n",
    "m6 = XGBClassifier(random_state=1)\n",
    "m7 = AdaBoostClassifier(random_state=1)"
   ]
  },
  {
   "cell_type": "code",
   "execution_count": 162,
   "metadata": {},
   "outputs": [],
   "source": [
    "from sklearn.metrics import precision_score, recall_score, f1_score, confusion_matrix"
   ]
  },
  {
   "cell_type": "code",
   "execution_count": 170,
   "metadata": {},
   "outputs": [
    {
     "name": "stdout",
     "output_type": "stream",
     "text": [
      "LR\n",
      "Train Score : 0.8125876304720362\n",
      "Test score 0.8140815927075469\n",
      "Precision 0.8328626185192657\n",
      "Recall 0.623216846554457\n",
      "F1 Score 0.7129473729655055\n",
      "\n",
      "\n",
      "DT\n",
      "Train Score : 0.9654031900487735\n",
      "Test score 0.8159270754690602\n",
      "Precision 0.7566610195595257\n",
      "Recall 0.7416408785568722\n",
      "F1 Score 0.7490756622832097\n",
      "\n",
      "\n",
      "RF\n",
      "Train Score : 0.9653432717772957\n",
      "Test score 0.8363392332857982\n",
      "Precision 0.7999188969991889\n",
      "Recall 0.7444335421541248\n",
      "F1 Score 0.7711794831697878\n",
      "\n",
      "\n",
      "KNN\n",
      "Train Score : 0.8709480268913202\n",
      "Test score 0.8218549897939211\n",
      "Precision 0.7777867528271406\n",
      "Recall 0.726771831836365\n",
      "F1 Score 0.7514144133598658\n",
      "\n",
      "\n",
      "GNB\n",
      "Train Score : 0.5339796517550062\n",
      "Test score 0.535917009199452\n",
      "Precision 0.44221209610604806\n",
      "Recall 0.9668654238055703\n",
      "F1 Score 0.6068645332449013\n",
      "\n",
      "\n",
      "[21:01:16] WARNING: C:/Users/Administrator/workspace/xgboost-win64_release_1.3.0/src/learner.cc:1061: Starting in XGBoost 1.3.0, the default evaluation metric used with the objective 'binary:logistic' was changed from 'error' to 'logloss'. Explicitly set eval_metric if you'd like to restore the old behavior.\n",
      "[21:01:24] WARNING: C:/Users/Administrator/workspace/xgboost-win64_release_1.3.0/src/learner.cc:1061: Starting in XGBoost 1.3.0, the default evaluation metric used with the objective 'binary:logistic' was changed from 'error' to 'logloss'. Explicitly set eval_metric if you'd like to restore the old behavior.\n",
      "[21:01:33] WARNING: C:/Users/Administrator/workspace/xgboost-win64_release_1.3.0/src/learner.cc:1061: Starting in XGBoost 1.3.0, the default evaluation metric used with the objective 'binary:logistic' was changed from 'error' to 'logloss'. Explicitly set eval_metric if you'd like to restore the old behavior.\n",
      "[21:01:41] WARNING: C:/Users/Administrator/workspace/xgboost-win64_release_1.3.0/src/learner.cc:1061: Starting in XGBoost 1.3.0, the default evaluation metric used with the objective 'binary:logistic' was changed from 'error' to 'logloss'. Explicitly set eval_metric if you'd like to restore the old behavior.\n",
      "[21:01:50] WARNING: C:/Users/Administrator/workspace/xgboost-win64_release_1.3.0/src/learner.cc:1061: Starting in XGBoost 1.3.0, the default evaluation metric used with the objective 'binary:logistic' was changed from 'error' to 'logloss'. Explicitly set eval_metric if you'd like to restore the old behavior.\n",
      "[21:01:59] WARNING: C:/Users/Administrator/workspace/xgboost-win64_release_1.3.0/src/learner.cc:1061: Starting in XGBoost 1.3.0, the default evaluation metric used with the objective 'binary:logistic' was changed from 'error' to 'logloss'. Explicitly set eval_metric if you'd like to restore the old behavior.\n",
      "XGB\n",
      "Train Score : 0.8471125384974895\n",
      "Test score 0.8377652881469675\n",
      "Precision 0.8383462062698773\n",
      "Recall 0.6963544418446675\n",
      "F1 Score 0.7607817267254886\n",
      "\n",
      "\n",
      "ADA\n",
      "Train Score : 0.812959123755198\n",
      "Test score 0.813690126667226\n",
      "Precision 0.8411728139245752\n",
      "Recall 0.6128009661106498\n",
      "F1 Score 0.7090520064625998\n",
      "\n",
      "\n"
     ]
    }
   ],
   "source": [
    "model_name = ['LR','DT','RF','KNN','GNB','XGB','ADA']\n",
    "kf = KFold(n_splits=5,shuffle=True,random_state=1)\n",
    "score = pd.DataFrame()\n",
    "\n",
    "for name,model in zip(model_name,[m1,m2,m3,m4,m5,m6,m7]):\n",
    "    scores = cross_val_score(model,X_train_scaled,y_train,cv=5,scoring='f1')\n",
    "    model.fit(X_train_scaled,y_train)\n",
    "    y_pred=model.predict(X_test_scaled)\n",
    "    print(name)\n",
    "    print('Train Score :', model.score(X_train_scaled,y_train))\n",
    "    print('Test score', model.score(X_test_scaled,y_test))\n",
    "    print('Precision', precision_score(y_test,y_pred))\n",
    "    print('Recall', recall_score(y_test,y_pred))\n",
    "    print('F1 Score', f1_score(y_test,y_pred))\n",
    "    print(\"\\n\")"
   ]
  },
  {
   "cell_type": "raw",
   "metadata": {},
   "source": [
    "Even though Random Forest has the best F1-score out of all, XGB best has almost the same F1 score as well. There is not much difference between the train and test score as well, so the model is a good fit. So, we select the base model as XGB Model."
   ]
  },
  {
   "cell_type": "markdown",
   "metadata": {},
   "source": [
    "#### Fitting the base model"
   ]
  },
  {
   "cell_type": "code",
   "execution_count": 172,
   "metadata": {},
   "outputs": [
    {
     "name": "stdout",
     "output_type": "stream",
     "text": [
      "[21:09:45] WARNING: C:/Users/Administrator/workspace/xgboost-win64_release_1.3.0/src/learner.cc:1061: Starting in XGBoost 1.3.0, the default evaluation metric used with the objective 'binary:logistic' was changed from 'error' to 'logloss'. Explicitly set eval_metric if you'd like to restore the old behavior.\n",
      "Train score : 0.8471125384974895\n",
      "Test score : 0.8377652881469675\n",
      "Precision Score : 0.8383462062698773\n",
      "Recall Score : 0.6963544418446675\n",
      "F1 Score : 0.7607817267254886\n",
      "Confusion Matrix\n",
      "[[20735  1779]\n",
      " [ 4023  9226]]\n"
     ]
    }
   ],
   "source": [
    "model = XGBClassifier(random_state = 1)\n",
    "model.fit(X_train_scaled,y_train)\n",
    "y_pred = model.predict(X_test_scaled)\n",
    "\n",
    "print('Train score :', model.score(X_train_scaled,y_train))\n",
    "print('Test score :', model.score(X_test_scaled,y_test))\n",
    "print('Precision Score :', precision_score(y_test,y_pred))\n",
    "print('Recall Score :', recall_score(y_test,y_pred))\n",
    "print('F1 Score :', f1_score(y_test,y_pred))\n",
    "print('Confusion Matrix')\n",
    "print(confusion_matrix(y_test, y_pred))"
   ]
  },
  {
   "cell_type": "raw",
   "metadata": {},
   "source": [
    "F1 Score is 76.08%. We try to improve this score using SMOTE, an oversampling technique, to deal with class imbalance."
   ]
  },
  {
   "cell_type": "markdown",
   "metadata": {},
   "source": [
    "#### SMOTE"
   ]
  },
  {
   "cell_type": "code",
   "execution_count": 166,
   "metadata": {},
   "outputs": [
    {
     "data": {
      "image/png": "[encoded data removed]",
      "text/plain": [
       "<Figure size 432x288 with 1 Axes>"
      ]
     },
     "metadata": {
      "needs_background": "light"
     },
     "output_type": "display_data"
    }
   ],
   "source": [
    "sns.countplot(df_copy_no_yfe['is_canceled'])\n",
    "plt.show()"
   ]
  },
  {
   "cell_type": "code",
   "execution_count": 167,
   "metadata": {},
   "outputs": [],
   "source": [
    "from imblearn.over_sampling import SMOTE\n",
    "\n",
    "sm = SMOTE(random_state = 1)\n",
    "X_res, y_res = sm.fit_resample(X_train_scaled, y_train)"
   ]
  },
  {
   "cell_type": "code",
   "execution_count": 168,
   "metadata": {},
   "outputs": [
    {
     "data": {
      "text/plain": [
       "((83447, 58), (83447,))"
      ]
     },
     "execution_count": 168,
     "metadata": {},
     "output_type": "execute_result"
    }
   ],
   "source": [
    "X_train_scaled.shape, y_train.shape"
   ]
  },
  {
   "cell_type": "code",
   "execution_count": 176,
   "metadata": {},
   "outputs": [
    {
     "data": {
      "text/plain": [
       "((104994, 58), (104994,))"
      ]
     },
     "execution_count": 176,
     "metadata": {},
     "output_type": "execute_result"
    }
   ],
   "source": [
    "X_res.shape, y_res.shape"
   ]
  },
  {
   "cell_type": "markdown",
   "metadata": {},
   "source": [
    "#### Refitting base model"
   ]
  },
  {
   "cell_type": "code",
   "execution_count": 177,
   "metadata": {},
   "outputs": [
    {
     "name": "stdout",
     "output_type": "stream",
     "text": [
      "[21:13:26] WARNING: C:/Users/Administrator/workspace/xgboost-win64_release_1.3.0/src/learner.cc:1061: Starting in XGBoost 1.3.0, the default evaluation metric used with the objective 'binary:logistic' was changed from 'error' to 'logloss'. Explicitly set eval_metric if you'd like to restore the old behavior.\n",
      "Train score : 0.8506867059070042\n",
      "Test score : 0.8299918910605933\n",
      "Precision Score : 0.7767312591677603\n",
      "Recall Score : 0.7593780662691524\n",
      "F1 Score : 0.7679566445309518\n",
      "Confusion Matrix\n",
      "[[19622  2892]\n",
      " [ 3188 10061]]\n"
     ]
    }
   ],
   "source": [
    "model = XGBClassifier(random_state = 1)\n",
    "model.fit(X_res,y_res)\n",
    "y_pred = model.predict(X_test_scaled)\n",
    "\n",
    "print('Train score :', model.score(X_res,y_res))\n",
    "print('Test score :', model.score(X_test_scaled,y_test))\n",
    "print('Precision Score :', precision_score(y_test,y_pred))\n",
    "print('Recall Score :', recall_score(y_test,y_pred))\n",
    "print('F1 Score :', f1_score(y_test,y_pred))\n",
    "print('Confusion Matrix')\n",
    "print(confusion_matrix(y_test, y_pred))"
   ]
  },
  {
   "cell_type": "raw",
   "metadata": {},
   "source": [
    "F1 score has improved to 76.8%. We further try to improve the model by tuning the parameters using GridSearchCV."
   ]
  },
  {
   "cell_type": "markdown",
   "metadata": {},
   "source": [
    "#### Using GridSearchCV"
   ]
  },
  {
   "cell_type": "code",
   "execution_count": null,
   "metadata": {},
   "outputs": [],
   "source": [
    "from sklearn.model_selection import KFold\n",
    "from sklearn.model_selection import GridSearchCV\n",
    "param_grid={'colsample_bytree': [0.7, 0.8]}\n",
    "\n",
    "model = XGBClassifier(random_state=1)\n",
    "cv_rfc = GridSearchCV(model,param_grid,cv=5)\n",
    "cv_rfc.fit(X_train_scaled,y_train)\n",
    "y_pred = cv_rfc.predict(X_test_scaled)\n",
    "\n",
    "cv_rfc.best_params_"
   ]
  },
  {
   "cell_type": "code",
   "execution_count": null,
   "metadata": {},
   "outputs": [],
   "source": [
    "from sklearn.model_selection import KFold\n",
    "from sklearn.model_selection import GridSearchCV\n",
    "param_grid={'max_depth': [15,20,25]}\n",
    "\n",
    "model = XGBClassifier(random_state=1)\n",
    "cv_rfc = GridSearchCV(model,param_grid,cv=5)\n",
    "cv_rfc.fit(X_train_scaled,y_train)\n",
    "y_pred = cv_rfc.predict(X_test_scaled)\n",
    "\n",
    "cv_rfc.best_params_"
   ]
  },
  {
   "cell_type": "code",
   "execution_count": null,
   "metadata": {},
   "outputs": [],
   "source": [
    "from sklearn.model_selection import KFold\n",
    "from sklearn.model_selection import GridSearchCV\n",
    "param_grid={'subsample': [0.7, 0.8, 0.9]}\n",
    "\n",
    "model = XGBClassifier(random_state=1)\n",
    "cv_rfc = GridSearchCV(model,param_grid,cv=5)\n",
    "cv_rfc.fit(X_train_scaled,y_train)\n",
    "y_pred = cv_rfc.predict(X_test_scaled)\n",
    "\n",
    "cv_rfc.best_params_"
   ]
  },
  {
   "cell_type": "code",
   "execution_count": null,
   "metadata": {},
   "outputs": [],
   "source": [
    "from sklearn.model_selection import KFold\n",
    "from sklearn.model_selection import GridSearchCV\n",
    "param_grid={'reg_lambda': [1.1, 1.2, 1.3]}\n",
    "\n",
    "model = XGBClassifier(random_state=1)\n",
    "cv_rfc = GridSearchCV(model,param_grid,cv=5)\n",
    "cv_rfc.fit(X_train_scaled,y_train)\n",
    "y_pred = cv_rfc.predict(X_test_scaled)\n",
    "\n",
    "cv_rfc.best_params_"
   ]
  },
  {
   "cell_type": "code",
   "execution_count": null,
   "metadata": {},
   "outputs": [],
   "source": [
    "from sklearn.model_selection import KFold\n",
    "from sklearn.model_selection import GridSearchCV\n",
    "param_grid = {'reg_alpha': [1.1, 1.2, 1.3]}\n",
    "\n",
    "model = XGBClassifier(random_state=1)\n",
    "cv_rfc = GridSearchCV(model,param_grid,cv=5)\n",
    "cv_rfc.fit(X_train_scaled,y_train)\n",
    "y_pred = cv_rfc.predict(X_test_scaled)\n",
    "\n",
    "cv_rfc.best_params_"
   ]
  },
  {
   "cell_type": "markdown",
   "metadata": {},
   "source": [
    "#### Using the tuned hyperparameters"
   ]
  },
  {
   "cell_type": "code",
   "execution_count": 181,
   "metadata": {},
   "outputs": [
    {
     "name": "stdout",
     "output_type": "stream",
     "text": [
      "[22:10:02] WARNING: C:/Users/Administrator/workspace/xgboost-win64_release_1.3.0/src/learner.cc:1061: Starting in XGBoost 1.3.0, the default evaluation metric used with the objective 'binary:logistic' was changed from 'error' to 'logloss'. Explicitly set eval_metric if you'd like to restore the old behavior.\n",
      "Train score : 0.924367106691811\n",
      "Test score : 0.839163381148114\n",
      "Precision Score : 0.7822028156289995\n",
      "Recall Score : 0.7842101290663446\n",
      "F1 Score : 0.7832051861902608\n",
      "Confusion Matrix\n",
      "[[19621  2893]\n",
      " [ 2859 10390]]\n"
     ]
    }
   ],
   "source": [
    "model = XGBClassifier(random_state = 1, colsample_bytree = 0.8, max_depth = 15, subsample = 0.9, \n",
    "                      reg_lambda = 1.2, reg_alpha = 1.1)\n",
    "model.fit(X_res,y_res)\n",
    "y_pred = model.predict(X_test_scaled)\n",
    "\n",
    "print('Train score :', model.score(X_res, y_res))\n",
    "print('Test score :', model.score(X_test_scaled, y_test))\n",
    "print('Precision Score :', precision_score(y_test, y_pred))\n",
    "print('Recall Score :', recall_score(y_test, y_pred))\n",
    "print('F1 Score :', f1_score(y_test, y_pred))\n",
    "print('Confusion Matrix')\n",
    "print(confusion_matrix(y_test, y_pred))"
   ]
  },
  {
   "cell_type": "raw",
   "metadata": {},
   "source": [
    "F1 score has further improved to 78.32%."
   ]
  },
  {
   "cell_type": "markdown",
   "metadata": {},
   "source": [
    "#### Selecting the significant features"
   ]
  },
  {
   "cell_type": "code",
   "execution_count": 163,
   "metadata": {},
   "outputs": [],
   "source": [
    "from sklearn.feature_selection import RFE"
   ]
  },
  {
   "cell_type": "code",
   "execution_count": 169,
   "metadata": {},
   "outputs": [
    {
     "name": "stdout",
     "output_type": "stream",
     "text": [
      "[10:34:56] WARNING: C:/Users/Administrator/workspace/xgboost-win64_release_1.3.0/src/learner.cc:1061: Starting in XGBoost 1.3.0, the default evaluation metric used with the objective 'binary:logistic' was changed from 'error' to 'logloss'. Explicitly set eval_metric if you'd like to restore the old behavior.\n",
      "[10:35:05] WARNING: C:/Users/Administrator/workspace/xgboost-win64_release_1.3.0/src/learner.cc:1061: Starting in XGBoost 1.3.0, the default evaluation metric used with the objective 'binary:logistic' was changed from 'error' to 'logloss'. Explicitly set eval_metric if you'd like to restore the old behavior.\n",
      "[10:35:14] WARNING: C:/Users/Administrator/workspace/xgboost-win64_release_1.3.0/src/learner.cc:1061: Starting in XGBoost 1.3.0, the default evaluation metric used with the objective 'binary:logistic' was changed from 'error' to 'logloss'. Explicitly set eval_metric if you'd like to restore the old behavior.\n",
      "[10:35:23] WARNING: C:/Users/Administrator/workspace/xgboost-win64_release_1.3.0/src/learner.cc:1061: Starting in XGBoost 1.3.0, the default evaluation metric used with the objective 'binary:logistic' was changed from 'error' to 'logloss'. Explicitly set eval_metric if you'd like to restore the old behavior.\n",
      "[10:35:32] WARNING: C:/Users/Administrator/workspace/xgboost-win64_release_1.3.0/src/learner.cc:1061: Starting in XGBoost 1.3.0, the default evaluation metric used with the objective 'binary:logistic' was changed from 'error' to 'logloss'. Explicitly set eval_metric if you'd like to restore the old behavior.\n",
      "[10:35:43] WARNING: C:/Users/Administrator/workspace/xgboost-win64_release_1.3.0/src/learner.cc:1061: Starting in XGBoost 1.3.0, the default evaluation metric used with the objective 'binary:logistic' was changed from 'error' to 'logloss'. Explicitly set eval_metric if you'd like to restore the old behavior.\n",
      "[10:35:51] WARNING: C:/Users/Administrator/workspace/xgboost-win64_release_1.3.0/src/learner.cc:1061: Starting in XGBoost 1.3.0, the default evaluation metric used with the objective 'binary:logistic' was changed from 'error' to 'logloss'. Explicitly set eval_metric if you'd like to restore the old behavior.\n",
      "[10:35:59] WARNING: C:/Users/Administrator/workspace/xgboost-win64_release_1.3.0/src/learner.cc:1061: Starting in XGBoost 1.3.0, the default evaluation metric used with the objective 'binary:logistic' was changed from 'error' to 'logloss'. Explicitly set eval_metric if you'd like to restore the old behavior.\n",
      "[10:36:07] WARNING: C:/Users/Administrator/workspace/xgboost-win64_release_1.3.0/src/learner.cc:1061: Starting in XGBoost 1.3.0, the default evaluation metric used with the objective 'binary:logistic' was changed from 'error' to 'logloss'. Explicitly set eval_metric if you'd like to restore the old behavior.\n",
      "[10:36:17] WARNING: C:/Users/Administrator/workspace/xgboost-win64_release_1.3.0/src/learner.cc:1061: Starting in XGBoost 1.3.0, the default evaluation metric used with the objective 'binary:logistic' was changed from 'error' to 'logloss'. Explicitly set eval_metric if you'd like to restore the old behavior.\n",
      "[10:36:26] WARNING: C:/Users/Administrator/workspace/xgboost-win64_release_1.3.0/src/learner.cc:1061: Starting in XGBoost 1.3.0, the default evaluation metric used with the objective 'binary:logistic' was changed from 'error' to 'logloss'. Explicitly set eval_metric if you'd like to restore the old behavior.\n",
      "[10:36:34] WARNING: C:/Users/Administrator/workspace/xgboost-win64_release_1.3.0/src/learner.cc:1061: Starting in XGBoost 1.3.0, the default evaluation metric used with the objective 'binary:logistic' was changed from 'error' to 'logloss'. Explicitly set eval_metric if you'd like to restore the old behavior.\n",
      "[10:36:43] WARNING: C:/Users/Administrator/workspace/xgboost-win64_release_1.3.0/src/learner.cc:1061: Starting in XGBoost 1.3.0, the default evaluation metric used with the objective 'binary:logistic' was changed from 'error' to 'logloss'. Explicitly set eval_metric if you'd like to restore the old behavior.\n",
      "[10:36:52] WARNING: C:/Users/Administrator/workspace/xgboost-win64_release_1.3.0/src/learner.cc:1061: Starting in XGBoost 1.3.0, the default evaluation metric used with the objective 'binary:logistic' was changed from 'error' to 'logloss'. Explicitly set eval_metric if you'd like to restore the old behavior.\n",
      "[10:36:59] WARNING: C:/Users/Administrator/workspace/xgboost-win64_release_1.3.0/src/learner.cc:1061: Starting in XGBoost 1.3.0, the default evaluation metric used with the objective 'binary:logistic' was changed from 'error' to 'logloss'. Explicitly set eval_metric if you'd like to restore the old behavior.\n",
      "[10:37:08] WARNING: C:/Users/Administrator/workspace/xgboost-win64_release_1.3.0/src/learner.cc:1061: Starting in XGBoost 1.3.0, the default evaluation metric used with the objective 'binary:logistic' was changed from 'error' to 'logloss'. Explicitly set eval_metric if you'd like to restore the old behavior.\n",
      "[10:37:16] WARNING: C:/Users/Administrator/workspace/xgboost-win64_release_1.3.0/src/learner.cc:1061: Starting in XGBoost 1.3.0, the default evaluation metric used with the objective 'binary:logistic' was changed from 'error' to 'logloss'. Explicitly set eval_metric if you'd like to restore the old behavior.\n",
      "[10:37:26] WARNING: C:/Users/Administrator/workspace/xgboost-win64_release_1.3.0/src/learner.cc:1061: Starting in XGBoost 1.3.0, the default evaluation metric used with the objective 'binary:logistic' was changed from 'error' to 'logloss'. Explicitly set eval_metric if you'd like to restore the old behavior.\n",
      "[10:37:34] WARNING: C:/Users/Administrator/workspace/xgboost-win64_release_1.3.0/src/learner.cc:1061: Starting in XGBoost 1.3.0, the default evaluation metric used with the objective 'binary:logistic' was changed from 'error' to 'logloss'. Explicitly set eval_metric if you'd like to restore the old behavior.\n",
      "[10:37:40] WARNING: C:/Users/Administrator/workspace/xgboost-win64_release_1.3.0/src/learner.cc:1061: Starting in XGBoost 1.3.0, the default evaluation metric used with the objective 'binary:logistic' was changed from 'error' to 'logloss'. Explicitly set eval_metric if you'd like to restore the old behavior.\n",
      "[10:37:47] WARNING: C:/Users/Administrator/workspace/xgboost-win64_release_1.3.0/src/learner.cc:1061: Starting in XGBoost 1.3.0, the default evaluation metric used with the objective 'binary:logistic' was changed from 'error' to 'logloss'. Explicitly set eval_metric if you'd like to restore the old behavior.\n",
      "[10:37:53] WARNING: C:/Users/Administrator/workspace/xgboost-win64_release_1.3.0/src/learner.cc:1061: Starting in XGBoost 1.3.0, the default evaluation metric used with the objective 'binary:logistic' was changed from 'error' to 'logloss'. Explicitly set eval_metric if you'd like to restore the old behavior.\n",
      "[10:37:59] WARNING: C:/Users/Administrator/workspace/xgboost-win64_release_1.3.0/src/learner.cc:1061: Starting in XGBoost 1.3.0, the default evaluation metric used with the objective 'binary:logistic' was changed from 'error' to 'logloss'. Explicitly set eval_metric if you'd like to restore the old behavior.\n",
      "[10:38:05] WARNING: C:/Users/Administrator/workspace/xgboost-win64_release_1.3.0/src/learner.cc:1061: Starting in XGBoost 1.3.0, the default evaluation metric used with the objective 'binary:logistic' was changed from 'error' to 'logloss'. Explicitly set eval_metric if you'd like to restore the old behavior.\n",
      "[10:38:11] WARNING: C:/Users/Administrator/workspace/xgboost-win64_release_1.3.0/src/learner.cc:1061: Starting in XGBoost 1.3.0, the default evaluation metric used with the objective 'binary:logistic' was changed from 'error' to 'logloss'. Explicitly set eval_metric if you'd like to restore the old behavior.\n",
      "[10:38:16] WARNING: C:/Users/Administrator/workspace/xgboost-win64_release_1.3.0/src/learner.cc:1061: Starting in XGBoost 1.3.0, the default evaluation metric used with the objective 'binary:logistic' was changed from 'error' to 'logloss'. Explicitly set eval_metric if you'd like to restore the old behavior.\n",
      "[10:38:21] WARNING: C:/Users/Administrator/workspace/xgboost-win64_release_1.3.0/src/learner.cc:1061: Starting in XGBoost 1.3.0, the default evaluation metric used with the objective 'binary:logistic' was changed from 'error' to 'logloss'. Explicitly set eval_metric if you'd like to restore the old behavior.\n"
     ]
    },
    {
     "name": "stdout",
     "output_type": "stream",
     "text": [
      "[10:38:26] WARNING: C:/Users/Administrator/workspace/xgboost-win64_release_1.3.0/src/learner.cc:1061: Starting in XGBoost 1.3.0, the default evaluation metric used with the objective 'binary:logistic' was changed from 'error' to 'logloss'. Explicitly set eval_metric if you'd like to restore the old behavior.\n",
      "[10:38:31] WARNING: C:/Users/Administrator/workspace/xgboost-win64_release_1.3.0/src/learner.cc:1061: Starting in XGBoost 1.3.0, the default evaluation metric used with the objective 'binary:logistic' was changed from 'error' to 'logloss'. Explicitly set eval_metric if you'd like to restore the old behavior.\n",
      "[10:38:35] WARNING: C:/Users/Administrator/workspace/xgboost-win64_release_1.3.0/src/learner.cc:1061: Starting in XGBoost 1.3.0, the default evaluation metric used with the objective 'binary:logistic' was changed from 'error' to 'logloss'. Explicitly set eval_metric if you'd like to restore the old behavior.\n",
      "Index(['hotel_City Hotel', 'country_Africa', 'country_Europe',\n",
      "       'country_North America', 'meal_BB', 'meal_HB', 'meal_Undefined',\n",
      "       'market_segment_Groups', 'market_segment_Offline TA/TO',\n",
      "       'customer_type_Contract', 'customer_type_Transient',\n",
      "       'customer_type_Transient-Party', 'deposit_type_Non Refund',\n",
      "       'distribution_channel_TA/TO', 'total_of_special_requests_0',\n",
      "       'total_of_special_requests_3', 'total_of_special_requests_4',\n",
      "       'required_car_parking_spaces_0', 'booking_changes_Few changes',\n",
      "       'booking_changes_No changes', 'DaysWaiting_Low', 'DaysWaiting_Medium',\n",
      "       'DaysWaiting_No Waiting', 'lead_category_Medium',\n",
      "       'lead_category_No Lead Time', 'Room', 'net_cancelled',\n",
      "       'is_repeated_guest', 'stays_in_week_nights', 'people'],\n",
      "      dtype='object')\n"
     ]
    }
   ],
   "source": [
    "model = XGBClassifier(random_state = 1)\n",
    "rfe_model = RFE(estimator = model)\n",
    "\n",
    "rfe_model = rfe_model.fit(X_res, y_res)\n",
    "feat_index = pd.Series(data = rfe_model.ranking_, index = X_train.columns)\n",
    "\n",
    "signi_feat_rfe = feat_index[(feat_index==1) | (feat_index == 2)].index\n",
    "\n",
    "print(signi_feat_rfe)"
   ]
  },
  {
   "cell_type": "code",
   "execution_count": 170,
   "metadata": {},
   "outputs": [
    {
     "data": {
      "text/plain": [
       "30"
      ]
     },
     "execution_count": 170,
     "metadata": {},
     "output_type": "execute_result"
    }
   ],
   "source": [
    "len(signi_feat_rfe)"
   ]
  },
  {
   "cell_type": "code",
   "execution_count": 175,
   "metadata": {},
   "outputs": [
    {
     "data": {
      "text/plain": [
       "array([ 1, 30,  1,  1,  1,  9,  1,  3,  1,  1, 18, 14, 13, 11, 10, 17, 23,\n",
       "       19,  6,  1,  1,  1, 15,  1,  1,  8,  1, 26, 16, 24, 20,  1,  1, 21,\n",
       "        5,  1,  1, 27,  1, 28, 29,  1, 22,  1, 25,  2,  1,  1,  4, 12,  1,\n",
       "        1,  1,  1,  1,  1,  1,  7])"
      ]
     },
     "execution_count": 175,
     "metadata": {},
     "output_type": "execute_result"
    }
   ],
   "source": [
    "rfe_model.ranking_"
   ]
  },
  {
   "cell_type": "code",
   "execution_count": 179,
   "metadata": {},
   "outputs": [
    {
     "ename": "AttributeError",
     "evalue": "'RFE' object has no attribute 'feature_importances_'",
     "output_type": "error",
     "traceback": [
      "\u001b[1;31m---------------------------------------------------------------------------\u001b[0m",
      "\u001b[1;31mAttributeError\u001b[0m                            Traceback (most recent call last)",
      "\u001b[1;32m<ipython-input-179-5ec81f84b643>\u001b[0m in \u001b[0;36m<module>\u001b[1;34m\u001b[0m\n\u001b[1;32m----> 1\u001b[1;33m \u001b[0mrfe_model\u001b[0m\u001b[1;33m.\u001b[0m\u001b[0mfeature_importances_\u001b[0m\u001b[1;33m\u001b[0m\u001b[1;33m\u001b[0m\u001b[0m\n\u001b[0m",
      "\u001b[1;31mAttributeError\u001b[0m: 'RFE' object has no attribute 'feature_importances_'"
     ]
    }
   ],
   "source": [
    "rfe_model.feature_importances_"
   ]
  },
  {
   "cell_type": "code",
   "execution_count": 203,
   "metadata": {},
   "outputs": [
    {
     "name": "stdout",
     "output_type": "stream",
     "text": [
      "[23:16:45] WARNING: C:/Users/Administrator/workspace/xgboost-win64_release_1.3.0/src/learner.cc:1061: Starting in XGBoost 1.3.0, the default evaluation metric used with the objective 'binary:logistic' was changed from 'error' to 'logloss'. Explicitly set eval_metric if you'd like to restore the old behavior.\n",
      "[23:17:34] WARNING: C:/Users/Administrator/workspace/xgboost-win64_release_1.3.0/src/learner.cc:1061: Starting in XGBoost 1.3.0, the default evaluation metric used with the objective 'binary:logistic' was changed from 'error' to 'logloss'. Explicitly set eval_metric if you'd like to restore the old behavior.\n",
      "[23:18:20] WARNING: C:/Users/Administrator/workspace/xgboost-win64_release_1.3.0/src/learner.cc:1061: Starting in XGBoost 1.3.0, the default evaluation metric used with the objective 'binary:logistic' was changed from 'error' to 'logloss'. Explicitly set eval_metric if you'd like to restore the old behavior.\n",
      "[23:19:07] WARNING: C:/Users/Administrator/workspace/xgboost-win64_release_1.3.0/src/learner.cc:1061: Starting in XGBoost 1.3.0, the default evaluation metric used with the objective 'binary:logistic' was changed from 'error' to 'logloss'. Explicitly set eval_metric if you'd like to restore the old behavior.\n",
      "[23:19:54] WARNING: C:/Users/Administrator/workspace/xgboost-win64_release_1.3.0/src/learner.cc:1061: Starting in XGBoost 1.3.0, the default evaluation metric used with the objective 'binary:logistic' was changed from 'error' to 'logloss'. Explicitly set eval_metric if you'd like to restore the old behavior.\n",
      "[23:20:40] WARNING: C:/Users/Administrator/workspace/xgboost-win64_release_1.3.0/src/learner.cc:1061: Starting in XGBoost 1.3.0, the default evaluation metric used with the objective 'binary:logistic' was changed from 'error' to 'logloss'. Explicitly set eval_metric if you'd like to restore the old behavior.\n",
      "[23:21:23] WARNING: C:/Users/Administrator/workspace/xgboost-win64_release_1.3.0/src/learner.cc:1061: Starting in XGBoost 1.3.0, the default evaluation metric used with the objective 'binary:logistic' was changed from 'error' to 'logloss'. Explicitly set eval_metric if you'd like to restore the old behavior.\n",
      "[23:22:06] WARNING: C:/Users/Administrator/workspace/xgboost-win64_release_1.3.0/src/learner.cc:1061: Starting in XGBoost 1.3.0, the default evaluation metric used with the objective 'binary:logistic' was changed from 'error' to 'logloss'. Explicitly set eval_metric if you'd like to restore the old behavior.\n",
      "[23:22:49] WARNING: C:/Users/Administrator/workspace/xgboost-win64_release_1.3.0/src/learner.cc:1061: Starting in XGBoost 1.3.0, the default evaluation metric used with the objective 'binary:logistic' was changed from 'error' to 'logloss'. Explicitly set eval_metric if you'd like to restore the old behavior.\n",
      "[23:23:31] WARNING: C:/Users/Administrator/workspace/xgboost-win64_release_1.3.0/src/learner.cc:1061: Starting in XGBoost 1.3.0, the default evaluation metric used with the objective 'binary:logistic' was changed from 'error' to 'logloss'. Explicitly set eval_metric if you'd like to restore the old behavior.\n",
      "[23:24:12] WARNING: C:/Users/Administrator/workspace/xgboost-win64_release_1.3.0/src/learner.cc:1061: Starting in XGBoost 1.3.0, the default evaluation metric used with the objective 'binary:logistic' was changed from 'error' to 'logloss'. Explicitly set eval_metric if you'd like to restore the old behavior.\n",
      "[23:24:51] WARNING: C:/Users/Administrator/workspace/xgboost-win64_release_1.3.0/src/learner.cc:1061: Starting in XGBoost 1.3.0, the default evaluation metric used with the objective 'binary:logistic' was changed from 'error' to 'logloss'. Explicitly set eval_metric if you'd like to restore the old behavior.\n",
      "[23:25:30] WARNING: C:/Users/Administrator/workspace/xgboost-win64_release_1.3.0/src/learner.cc:1061: Starting in XGBoost 1.3.0, the default evaluation metric used with the objective 'binary:logistic' was changed from 'error' to 'logloss'. Explicitly set eval_metric if you'd like to restore the old behavior.\n",
      "[23:26:13] WARNING: C:/Users/Administrator/workspace/xgboost-win64_release_1.3.0/src/learner.cc:1061: Starting in XGBoost 1.3.0, the default evaluation metric used with the objective 'binary:logistic' was changed from 'error' to 'logloss'. Explicitly set eval_metric if you'd like to restore the old behavior.\n",
      "[23:26:54] WARNING: C:/Users/Administrator/workspace/xgboost-win64_release_1.3.0/src/learner.cc:1061: Starting in XGBoost 1.3.0, the default evaluation metric used with the objective 'binary:logistic' was changed from 'error' to 'logloss'. Explicitly set eval_metric if you'd like to restore the old behavior.\n",
      "[23:27:36] WARNING: C:/Users/Administrator/workspace/xgboost-win64_release_1.3.0/src/learner.cc:1061: Starting in XGBoost 1.3.0, the default evaluation metric used with the objective 'binary:logistic' was changed from 'error' to 'logloss'. Explicitly set eval_metric if you'd like to restore the old behavior.\n",
      "[23:28:17] WARNING: C:/Users/Administrator/workspace/xgboost-win64_release_1.3.0/src/learner.cc:1061: Starting in XGBoost 1.3.0, the default evaluation metric used with the objective 'binary:logistic' was changed from 'error' to 'logloss'. Explicitly set eval_metric if you'd like to restore the old behavior.\n",
      "[23:28:55] WARNING: C:/Users/Administrator/workspace/xgboost-win64_release_1.3.0/src/learner.cc:1061: Starting in XGBoost 1.3.0, the default evaluation metric used with the objective 'binary:logistic' was changed from 'error' to 'logloss'. Explicitly set eval_metric if you'd like to restore the old behavior.\n",
      "[23:29:31] WARNING: C:/Users/Administrator/workspace/xgboost-win64_release_1.3.0/src/learner.cc:1061: Starting in XGBoost 1.3.0, the default evaluation metric used with the objective 'binary:logistic' was changed from 'error' to 'logloss'. Explicitly set eval_metric if you'd like to restore the old behavior.\n",
      "[23:30:08] WARNING: C:/Users/Administrator/workspace/xgboost-win64_release_1.3.0/src/learner.cc:1061: Starting in XGBoost 1.3.0, the default evaluation metric used with the objective 'binary:logistic' was changed from 'error' to 'logloss'. Explicitly set eval_metric if you'd like to restore the old behavior.\n",
      "[23:30:45] WARNING: C:/Users/Administrator/workspace/xgboost-win64_release_1.3.0/src/learner.cc:1061: Starting in XGBoost 1.3.0, the default evaluation metric used with the objective 'binary:logistic' was changed from 'error' to 'logloss'. Explicitly set eval_metric if you'd like to restore the old behavior.\n",
      "[23:31:21] WARNING: C:/Users/Administrator/workspace/xgboost-win64_release_1.3.0/src/learner.cc:1061: Starting in XGBoost 1.3.0, the default evaluation metric used with the objective 'binary:logistic' was changed from 'error' to 'logloss'. Explicitly set eval_metric if you'd like to restore the old behavior.\n",
      "[23:31:55] WARNING: C:/Users/Administrator/workspace/xgboost-win64_release_1.3.0/src/learner.cc:1061: Starting in XGBoost 1.3.0, the default evaluation metric used with the objective 'binary:logistic' was changed from 'error' to 'logloss'. Explicitly set eval_metric if you'd like to restore the old behavior.\n",
      "[23:32:28] WARNING: C:/Users/Administrator/workspace/xgboost-win64_release_1.3.0/src/learner.cc:1061: Starting in XGBoost 1.3.0, the default evaluation metric used with the objective 'binary:logistic' was changed from 'error' to 'logloss'. Explicitly set eval_metric if you'd like to restore the old behavior.\n",
      "[23:33:00] WARNING: C:/Users/Administrator/workspace/xgboost-win64_release_1.3.0/src/learner.cc:1061: Starting in XGBoost 1.3.0, the default evaluation metric used with the objective 'binary:logistic' was changed from 'error' to 'logloss'. Explicitly set eval_metric if you'd like to restore the old behavior.\n",
      "[23:33:32] WARNING: C:/Users/Administrator/workspace/xgboost-win64_release_1.3.0/src/learner.cc:1061: Starting in XGBoost 1.3.0, the default evaluation metric used with the objective 'binary:logistic' was changed from 'error' to 'logloss'. Explicitly set eval_metric if you'd like to restore the old behavior.\n",
      "[23:34:05] WARNING: C:/Users/Administrator/workspace/xgboost-win64_release_1.3.0/src/learner.cc:1061: Starting in XGBoost 1.3.0, the default evaluation metric used with the objective 'binary:logistic' was changed from 'error' to 'logloss'. Explicitly set eval_metric if you'd like to restore the old behavior.\n"
     ]
    },
    {
     "name": "stdout",
     "output_type": "stream",
     "text": [
      "[23:34:37] WARNING: C:/Users/Administrator/workspace/xgboost-win64_release_1.3.0/src/learner.cc:1061: Starting in XGBoost 1.3.0, the default evaluation metric used with the objective 'binary:logistic' was changed from 'error' to 'logloss'. Explicitly set eval_metric if you'd like to restore the old behavior.\n",
      "[23:35:05] WARNING: C:/Users/Administrator/workspace/xgboost-win64_release_1.3.0/src/learner.cc:1061: Starting in XGBoost 1.3.0, the default evaluation metric used with the objective 'binary:logistic' was changed from 'error' to 'logloss'. Explicitly set eval_metric if you'd like to restore the old behavior.\n",
      "[23:35:35] WARNING: C:/Users/Administrator/workspace/xgboost-win64_release_1.3.0/src/learner.cc:1061: Starting in XGBoost 1.3.0, the default evaluation metric used with the objective 'binary:logistic' was changed from 'error' to 'logloss'. Explicitly set eval_metric if you'd like to restore the old behavior.\n",
      "Index(['hotel_City Hotel', 'country_Africa', 'country_Europe',\n",
      "       'country_North America', 'country_Oceania', 'meal_FB', 'meal_Undefined',\n",
      "       'market_segment_Groups', 'market_segment_Offline TA/TO',\n",
      "       'customer_type_Transient', 'customer_type_Transient-Party',\n",
      "       'deposit_type_No Deposit', 'deposit_type_Non Refund',\n",
      "       'distribution_channel_TA/TO', 'total_of_special_requests_0',\n",
      "       'total_of_special_requests_4', 'required_car_parking_spaces_0',\n",
      "       'required_car_parking_spaces_1', 'booking_changes_No changes',\n",
      "       'DaysWaiting_Low', 'DaysWaiting_Medium', 'DaysWaiting_No Waiting',\n",
      "       'lead_category_High', 'lead_category_Medium',\n",
      "       'lead_category_No Lead Time', 'Room', 'net_cancelled',\n",
      "       'is_repeated_guest', 'stays_in_week_nights', 'people'],\n",
      "      dtype='object')\n"
     ]
    }
   ],
   "source": [
    "model = XGBClassifier(random_state = 1, colsample_bytree = 0.8, max_depth = 15, subsample = 0.9, \n",
    "                      reg_lambda = 1.2, reg_alpha = 1.1)\n",
    "rfe_model = RFE(estimator = model)\n",
    "\n",
    "rfe_model = rfe_model.fit(X_res, y_res)\n",
    "feat_index = pd.Series(data = rfe_model.ranking_, index = X_train.columns)\n",
    "\n",
    "signi_feat_rfe = feat_index[(feat_index==1) | (feat_index == 2)].index\n",
    "\n",
    "print(signi_feat_rfe)"
   ]
  },
  {
   "cell_type": "code",
   "execution_count": 204,
   "metadata": {},
   "outputs": [
    {
     "data": {
      "text/plain": [
       "30"
      ]
     },
     "execution_count": 204,
     "metadata": {},
     "output_type": "execute_result"
    }
   ],
   "source": [
    "len(signi_feat_rfe)"
   ]
  },
  {
   "cell_type": "code",
   "execution_count": 205,
   "metadata": {},
   "outputs": [],
   "source": [
    "X_res_df = pd.DataFrame(X_res, columns = X_train.columns)"
   ]
  },
  {
   "cell_type": "code",
   "execution_count": 206,
   "metadata": {},
   "outputs": [
    {
     "data": {
      "text/html": [
       "<div>\n",
       "<style scoped>\n",
       "    .dataframe tbody tr th:only-of-type {\n",
       "        vertical-align: middle;\n",
       "    }\n",
       "\n",
       "    .dataframe tbody tr th {\n",
       "        vertical-align: top;\n",
       "    }\n",
       "\n",
       "    .dataframe thead th {\n",
       "        text-align: right;\n",
       "    }\n",
       "</style>\n",
       "<table border=\"1\" class=\"dataframe\">\n",
       "  <thead>\n",
       "    <tr style=\"text-align: right;\">\n",
       "      <th></th>\n",
       "      <th>hotel_City Hotel</th>\n",
       "      <th>hotel_Resort Hotel</th>\n",
       "      <th>country_Africa</th>\n",
       "      <th>country_Europe</th>\n",
       "      <th>country_North America</th>\n",
       "      <th>country_Oceania</th>\n",
       "      <th>meal_BB</th>\n",
       "      <th>meal_FB</th>\n",
       "      <th>meal_HB</th>\n",
       "      <th>meal_Undefined</th>\n",
       "      <th>...</th>\n",
       "      <th>lead_category_High</th>\n",
       "      <th>lead_category_Low</th>\n",
       "      <th>lead_category_Medium</th>\n",
       "      <th>lead_category_No Lead Time</th>\n",
       "      <th>Room</th>\n",
       "      <th>net_cancelled</th>\n",
       "      <th>is_repeated_guest</th>\n",
       "      <th>stays_in_week_nights</th>\n",
       "      <th>people</th>\n",
       "      <th>adr_pp</th>\n",
       "    </tr>\n",
       "  </thead>\n",
       "  <tbody>\n",
       "    <tr>\n",
       "      <th>0</th>\n",
       "      <td>1.0</td>\n",
       "      <td>0.0</td>\n",
       "      <td>0.0</td>\n",
       "      <td>1.0</td>\n",
       "      <td>0.0</td>\n",
       "      <td>0.0</td>\n",
       "      <td>1.0</td>\n",
       "      <td>0.0</td>\n",
       "      <td>0.0</td>\n",
       "      <td>0.0</td>\n",
       "      <td>...</td>\n",
       "      <td>0.0</td>\n",
       "      <td>0.0</td>\n",
       "      <td>1.0</td>\n",
       "      <td>0.0</td>\n",
       "      <td>1.0</td>\n",
       "      <td>0.0</td>\n",
       "      <td>0.0</td>\n",
       "      <td>0.401820</td>\n",
       "      <td>0.131641</td>\n",
       "      <td>0.149731</td>\n",
       "    </tr>\n",
       "    <tr>\n",
       "      <th>1</th>\n",
       "      <td>1.0</td>\n",
       "      <td>0.0</td>\n",
       "      <td>0.0</td>\n",
       "      <td>0.0</td>\n",
       "      <td>1.0</td>\n",
       "      <td>0.0</td>\n",
       "      <td>0.0</td>\n",
       "      <td>0.0</td>\n",
       "      <td>0.0</td>\n",
       "      <td>0.0</td>\n",
       "      <td>...</td>\n",
       "      <td>0.0</td>\n",
       "      <td>1.0</td>\n",
       "      <td>0.0</td>\n",
       "      <td>0.0</td>\n",
       "      <td>1.0</td>\n",
       "      <td>0.0</td>\n",
       "      <td>0.0</td>\n",
       "      <td>0.269367</td>\n",
       "      <td>0.131641</td>\n",
       "      <td>0.167748</td>\n",
       "    </tr>\n",
       "    <tr>\n",
       "      <th>2</th>\n",
       "      <td>1.0</td>\n",
       "      <td>0.0</td>\n",
       "      <td>0.0</td>\n",
       "      <td>1.0</td>\n",
       "      <td>0.0</td>\n",
       "      <td>0.0</td>\n",
       "      <td>1.0</td>\n",
       "      <td>0.0</td>\n",
       "      <td>0.0</td>\n",
       "      <td>0.0</td>\n",
       "      <td>...</td>\n",
       "      <td>0.0</td>\n",
       "      <td>1.0</td>\n",
       "      <td>0.0</td>\n",
       "      <td>0.0</td>\n",
       "      <td>1.0</td>\n",
       "      <td>0.0</td>\n",
       "      <td>0.0</td>\n",
       "      <td>0.269367</td>\n",
       "      <td>0.131641</td>\n",
       "      <td>0.173292</td>\n",
       "    </tr>\n",
       "    <tr>\n",
       "      <th>3</th>\n",
       "      <td>1.0</td>\n",
       "      <td>0.0</td>\n",
       "      <td>0.0</td>\n",
       "      <td>0.0</td>\n",
       "      <td>0.0</td>\n",
       "      <td>0.0</td>\n",
       "      <td>1.0</td>\n",
       "      <td>0.0</td>\n",
       "      <td>0.0</td>\n",
       "      <td>0.0</td>\n",
       "      <td>...</td>\n",
       "      <td>0.0</td>\n",
       "      <td>1.0</td>\n",
       "      <td>0.0</td>\n",
       "      <td>0.0</td>\n",
       "      <td>1.0</td>\n",
       "      <td>0.0</td>\n",
       "      <td>0.0</td>\n",
       "      <td>0.167541</td>\n",
       "      <td>0.000000</td>\n",
       "      <td>0.202525</td>\n",
       "    </tr>\n",
       "    <tr>\n",
       "      <th>4</th>\n",
       "      <td>0.0</td>\n",
       "      <td>1.0</td>\n",
       "      <td>0.0</td>\n",
       "      <td>1.0</td>\n",
       "      <td>0.0</td>\n",
       "      <td>0.0</td>\n",
       "      <td>1.0</td>\n",
       "      <td>0.0</td>\n",
       "      <td>0.0</td>\n",
       "      <td>0.0</td>\n",
       "      <td>...</td>\n",
       "      <td>0.0</td>\n",
       "      <td>1.0</td>\n",
       "      <td>0.0</td>\n",
       "      <td>0.0</td>\n",
       "      <td>1.0</td>\n",
       "      <td>0.0</td>\n",
       "      <td>0.0</td>\n",
       "      <td>0.167541</td>\n",
       "      <td>0.000000</td>\n",
       "      <td>0.131403</td>\n",
       "    </tr>\n",
       "  </tbody>\n",
       "</table>\n",
       "<p>5 rows × 58 columns</p>\n",
       "</div>"
      ],
      "text/plain": [
       "   hotel_City Hotel  hotel_Resort Hotel  country_Africa  country_Europe  \\\n",
       "0               1.0                 0.0             0.0             1.0   \n",
       "1               1.0                 0.0             0.0             0.0   \n",
       "2               1.0                 0.0             0.0             1.0   \n",
       "3               1.0                 0.0             0.0             0.0   \n",
       "4               0.0                 1.0             0.0             1.0   \n",
       "\n",
       "   country_North America  country_Oceania  meal_BB  meal_FB  meal_HB  \\\n",
       "0                    0.0              0.0      1.0      0.0      0.0   \n",
       "1                    1.0              0.0      0.0      0.0      0.0   \n",
       "2                    0.0              0.0      1.0      0.0      0.0   \n",
       "3                    0.0              0.0      1.0      0.0      0.0   \n",
       "4                    0.0              0.0      1.0      0.0      0.0   \n",
       "\n",
       "   meal_Undefined  ...  lead_category_High  lead_category_Low  \\\n",
       "0             0.0  ...                 0.0                0.0   \n",
       "1             0.0  ...                 0.0                1.0   \n",
       "2             0.0  ...                 0.0                1.0   \n",
       "3             0.0  ...                 0.0                1.0   \n",
       "4             0.0  ...                 0.0                1.0   \n",
       "\n",
       "   lead_category_Medium  lead_category_No Lead Time  Room  net_cancelled  \\\n",
       "0                   1.0                         0.0   1.0            0.0   \n",
       "1                   0.0                         0.0   1.0            0.0   \n",
       "2                   0.0                         0.0   1.0            0.0   \n",
       "3                   0.0                         0.0   1.0            0.0   \n",
       "4                   0.0                         0.0   1.0            0.0   \n",
       "\n",
       "   is_repeated_guest  stays_in_week_nights    people    adr_pp  \n",
       "0                0.0              0.401820  0.131641  0.149731  \n",
       "1                0.0              0.269367  0.131641  0.167748  \n",
       "2                0.0              0.269367  0.131641  0.173292  \n",
       "3                0.0              0.167541  0.000000  0.202525  \n",
       "4                0.0              0.167541  0.000000  0.131403  \n",
       "\n",
       "[5 rows x 58 columns]"
      ]
     },
     "execution_count": 206,
     "metadata": {},
     "output_type": "execute_result"
    }
   ],
   "source": [
    "X_test_df = pd.DataFrame(X_test_scaled, columns = X_train.columns)\n",
    "X_test_df.head()"
   ]
  },
  {
   "cell_type": "markdown",
   "metadata": {},
   "source": [
    "#### Final model"
   ]
  },
  {
   "cell_type": "code",
   "execution_count": 164,
   "metadata": {},
   "outputs": [],
   "source": [
    "from sklearn.metrics import classification_report"
   ]
  },
  {
   "cell_type": "code",
   "execution_count": 208,
   "metadata": {},
   "outputs": [
    {
     "name": "stdout",
     "output_type": "stream",
     "text": [
      "[23:36:21] WARNING: C:/Users/Administrator/workspace/xgboost-win64_release_1.3.0/src/learner.cc:1061: Starting in XGBoost 1.3.0, the default evaluation metric used with the objective 'binary:logistic' was changed from 'error' to 'logloss'. Explicitly set eval_metric if you'd like to restore the old behavior.\n",
      "Train score : 0.8386193496771244\n",
      "Test score : 0.8194782316919722\n",
      "Precision Score : 0.763314985657803\n",
      "Recall Score : 0.743150426447279\n",
      "F1 Score : 0.7530977512620468\n",
      "Confusion Matrix\n",
      "[[19461  3053]\n",
      " [ 3403  9846]]\n",
      "Classification Report\n",
      "              precision    recall  f1-score   support\n",
      "\n",
      "         0.0       0.85      0.86      0.86     22514\n",
      "         1.0       0.76      0.74      0.75     13249\n",
      "\n",
      "    accuracy                           0.82     35763\n",
      "   macro avg       0.81      0.80      0.81     35763\n",
      "weighted avg       0.82      0.82      0.82     35763\n",
      "\n"
     ]
    }
   ],
   "source": [
    "new_X_train = X_res_df[list(signi_feat_rfe)]\n",
    "\n",
    "model = XGBClassifier(random_state = 1, colsample_bytree = 0.8, max_depth = 15, subsample = 0.9, \n",
    "                      reg_lambda = 1.2, reg_alpha = 1.1)\n",
    "model.fit(new_X_train, y_res)\n",
    "y_pred = model.predict(X_test_df[signi_feat_rfe])\n",
    "\n",
    "print('Train score :', model.score(new_X_train, y_res))\n",
    "print('Test score :', model.score(X_test_df[signi_feat_rfe], y_test))\n",
    "print('Precision Score :', precision_score(y_test, y_pred))\n",
    "print('Recall Score :', recall_score(y_test, y_pred))\n",
    "print('F1 Score :', f1_score(y_test, y_pred))\n",
    "print('Confusion Matrix')\n",
    "print(confusion_matrix(y_test, y_pred))\n",
    "print('Classification Report')\n",
    "print(classification_report(y_test, y_pred))"
   ]
  },
  {
   "cell_type": "raw",
   "metadata": {},
   "source": [
    "Since feature selection does not yeild better results, we go with the original features."
   ]
  },
  {
   "cell_type": "code",
   "execution_count": 210,
   "metadata": {},
   "outputs": [
    {
     "name": "stdout",
     "output_type": "stream",
     "text": [
      "[23:45:35] WARNING: C:/Users/Administrator/workspace/xgboost-win64_release_1.3.0/src/learner.cc:1061: Starting in XGBoost 1.3.0, the default evaluation metric used with the objective 'binary:logistic' was changed from 'error' to 'logloss'. Explicitly set eval_metric if you'd like to restore the old behavior.\n",
      "Train score : 0.924367106691811\n",
      "Test score : 0.839163381148114\n",
      "Precision Score : 0.7822028156289995\n",
      "Recall Score : 0.7842101290663446\n",
      "F1 Score : 0.7832051861902608\n",
      "Confusion Matrix\n",
      "[[19621  2893]\n",
      " [ 2859 10390]]\n"
     ]
    }
   ],
   "source": [
    "model = XGBClassifier(random_state = 1, colsample_bytree = 0.8, max_depth = 15, subsample = 0.9, \n",
    "                      reg_lambda = 1.2, reg_alpha = 1.1)\n",
    "model.fit(X_res,y_res)\n",
    "y_pred = model.predict(X_test_scaled)\n",
    "\n",
    "print('Train score :', model.score(X_res, y_res))\n",
    "print('Test score :', model.score(X_test_scaled, y_test))\n",
    "print('Precision Score :', precision_score(y_test, y_pred))\n",
    "print('Recall Score :', recall_score(y_test, y_pred))\n",
    "print('F1 Score :', f1_score(y_test, y_pred))\n",
    "print('Confusion Matrix')\n",
    "print(confusion_matrix(y_test, y_pred))"
   ]
  },
  {
   "cell_type": "code",
   "execution_count": 211,
   "metadata": {},
   "outputs": [],
   "source": [
    "from sklearn.metrics import roc_curve, roc_auc_score, accuracy_score"
   ]
  },
  {
   "cell_type": "code",
   "execution_count": 212,
   "metadata": {},
   "outputs": [
    {
     "data": {
      "image/png": "[encoded data removed]",
      "text/plain": [
       "<Figure size 432x288 with 1 Axes>"
      ]
     },
     "metadata": {
      "needs_background": "light"
     },
     "output_type": "display_data"
    }
   ],
   "source": [
    "y_pred_prob = model.predict_proba(X_test_scaled)[:,1]\n",
    "fpr, tpr, thresholds = roc_curve(y_test, y_pred_prob)\n",
    "\n",
    "plt.plot(fpr, tpr)\n",
    "\n",
    "plt.xlim([0.0, 1.0])\n",
    "plt.ylim([0.0, 1.0])\n",
    "\n",
    "plt.plot([0, 1], [0, 1],'r--')\n",
    "\n",
    "plt.title('ROC curve', fontsize = 15)\n",
    "plt.xlabel('False positive rate (1-Specificity)', fontsize = 15)\n",
    "plt.ylabel('True positive rate (Sensitivity)', fontsize = 15)\n",
    "\n",
    "plt.text(x = 0.02, y = 0.9, s = ('AUC Score:',round(roc_auc_score(y_test, y_pred_prob),4)))\n",
    "\n",
    "plt.grid(True)"
   ]
  },
  {
   "cell_type": "raw",
   "metadata": {},
   "source": [
    "An AUC score of 0.92 indicates that the model is able to distinguish between the two classes quite well."
   ]
  }
 ],
 "metadata": {
  "kernelspec": {
   "display_name": "Python 3",
   "language": "python",
   "name": "python3"
  },
  "language_info": {
   "codemirror_mode": {
    "name": "ipython",
    "version": 3
   },
   "file_extension": ".py",
   "mimetype": "text/x-python",
   "name": "python",
   "nbconvert_exporter": "python",
   "pygments_lexer": "ipython3",
   "version": "3.8.5"
  }
 },
 "nbformat": 4,
 "nbformat_minor": 4
}
